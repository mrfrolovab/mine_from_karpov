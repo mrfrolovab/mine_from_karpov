{
 "cells": [
  {
   "cell_type": "markdown",
   "metadata": {},
   "source": [
    "# 7 УРОК МНОЖЕСТВЕННЫЙ РЕГРЕССИОННЫЙ АНАЛИЗ Задания "
   ]
  },
  {
   "cell_type": "markdown",
   "metadata": {},
   "source": [
    "## Задание 1\n",
    "\n",
    "Если исследователь хочет предсказать значение  уровня бедности, основываясь на значении уровня образованности, то он может больше доверять предсказаниями регрессионной модели, если\n",
    "\n",
    "Подсказки"
   ]
  },
  {
   "cell_type": "markdown",
   "metadata": {},
   "source": [
    "- **Какие основные допущения у линейной регрессии?**\n",
    "    - Линейность взаимосвязи\n",
    "    - Нормальность распределения остатков\n",
    "    - Однородность дисперсии остатков"
   ]
  },
  {
   "cell_type": "markdown",
   "metadata": {},
   "source": [
    "##### ОТВЕТ:"
   ]
  },
  {
   "cell_type": "markdown",
   "metadata": {},
   "source": [
    "Взаимосвязь переменных нелинейная и немонотонная, распределение остатков значимо отличается от нормального\n",
    "\n",
    "Ни характер связи, ни распределение остатков не может сказаться на точности предсказания.\n",
    "\n",
    "#### Взаимосвязь переменных линейная и монотонная, распределение остатков стремится к нормальному"
   ]
  },
  {
   "cell_type": "markdown",
   "metadata": {},
   "source": [
    "## Задание 2\n",
    "\n",
    "Основываясь на нашей регрессионной модели  \n",
    "$poverty\n",
    "^\n",
    "​\n",
    " =64,78−0,62∗hs \n",
    "−\n",
    "​\n",
    " grad $, рассчитайте, какой процент населения, проживающего в бедности, ожидался бы при уровне среднего образования, равного 62% \n",
    "\n",
    "В ответ введите само число без знака процента, например: 42. Результат округлите до целого!"
   ]
  },
  {
   "cell_type": "markdown",
   "metadata": {},
   "source": [
    "Просто подставить 62 вместо $*hs_{-}grad$* и подсчитать, что получается, **не указывая знак процента в ответе.**"
   ]
  },
  {
   "cell_type": "code",
   "execution_count": 2,
   "metadata": {},
   "outputs": [
    {
     "data": {
      "text/plain": [
       "26.340000000000003"
      ]
     },
     "execution_count": 2,
     "metadata": {},
     "output_type": "execute_result"
    }
   ],
   "source": [
    "64.78 - 0.62*62"
   ]
  },
  {
   "cell_type": "markdown",
   "metadata": {},
   "source": [
    "##### ОТВЕТ: 26"
   ]
  },
  {
   "cell_type": "markdown",
   "metadata": {},
   "source": [
    "## Задание 3\n",
    "\n",
    "Вообразим мысленный эксперимент! Мы решили исследовать взаимосвязь стоимости (зависимая переменная) и площади квартир (независимая) в городе N. Для этого сформировали выборку из 30 наблюдений и получили, что коэффициент детерминации равен 1 (все наши наблюдения лежат на регрессионной прямой). Означает ли это, что при помощи нашей модели мы можем абсолютно точно предсказывать любые значения стоимости не вошедших в наш анализ квартир, основываясь на их площади? \n",
    "\n",
    "Подсказки"
   ]
  },
  {
   "cell_type": "markdown",
   "metadata": {},
   "source": [
    "- **От чего зависит коэффициент детерминации?**\n",
    "    \n",
    "    От вариабельности в данных, **на которых мы строим модель.**"
   ]
  },
  {
   "cell_type": "markdown",
   "metadata": {},
   "source": [
    "##### ОТВЕТ:"
   ]
  },
  {
   "cell_type": "markdown",
   "metadata": {},
   "source": [
    "#### Нет, столь сильная взаимосвязь наших переменных в выборке не означает, что все не включенные в анализ наблюдения также лягут на регрессионную прямую.\n",
    "\n",
    "Да, так это означает, что и в генеральной совокупности коэффициент корреляции между стоимостью и площади квартир равен 1\n",
    "\n",
    "Да, коэффициент детерминации, равный единице означает 100% по точности прогноз"
   ]
  },
  {
   "attachments": {
    "image.png": {
     "image/png": "[encoded data removed]"
    }
   },
   "cell_type": "markdown",
   "metadata": {},
   "source": [
    "## ШАГ 4\n",
    "## Исследователей заинтересовал вопрос, какие факторы взаимосвязаны с показателем кассовых сборов фильма. Для этих целей был применен множественный регрессионный анализ: зависимая переменная – сборы фильма в первый год после выхода на экраны – в миллионах долларов  (receipts)\n",
    "\n",
    "Независимые переменные, которые были включены в анализ: \n",
    "\n",
    "бюджет фильма (cost) — в миллионах долларов  \n",
    "средства потраченные на рекламу фильма (promotion) — в миллионах долларов\n",
    "количество проданных книг, на основе которых был снят фильм (books) — в миллионах проданных экземпляров  (цена одного экземпляра - 1 доллар)\n",
    "\n",
    "![image.png](attachment:image.png)"
   ]
  },
  {
   "cell_type": "markdown",
   "metadata": {},
   "source": [
    "Основываясь на результатах анализа, постройте уравнение регрессии:\n",
    "\n",
    "Подсказки\n",
    "\n",
    "$hatreceipts=b \n",
    "0\n",
    "​\n",
    " +b \n",
    "1\n",
    "​\n",
    " ∗cost+b \n",
    "2\n",
    "​\n",
    " ∗promotion+b \n",
    "3\n",
    "​\n",
    " ∗books$"
   ]
  },
  {
   "cell_type": "markdown",
   "metadata": {},
   "source": [
    "- **Где находятся нужные коэффициенты?**\n",
    "    \n",
    "    В первом столбце, и они уже в нужном порядке."
   ]
  },
  {
   "cell_type": "markdown",
   "metadata": {},
   "source": [
    "##### ОТВЕТ:"
   ]
  },
  {
   "cell_type": "markdown",
   "metadata": {},
   "source": [
    "receipts = 3,66 + 0,82*cost + 7,62*promotion + 7,62*books\n",
    "\n",
    "#### receipts = 7,68 + 3,66*cost + 7,62*promotion + 0,82*books\n",
    "\n",
    "receipts = 3,66 + 7,68*cost + 0,82*promotion + 7,62*books\n",
    "\n",
    "receipts = 7,68 + 3,28*cost +4,60*promotion + 1,54*books"
   ]
  },
  {
   "attachments": {
    "image.png": {
     "image/png": "[encoded data removed]"
    }
   },
   "cell_type": "markdown",
   "metadata": {},
   "source": [
    "## ШАГ 5\n",
    "Основываясь на результатах анализа, укажите верные высказывания:\n",
    "\n",
    "![image.png](attachment:image.png)\n",
    "\n",
    "Подсказки "
   ]
  },
  {
   "cell_type": "markdown",
   "metadata": {},
   "source": [
    "- **Где и на что смотреть?**\n",
    "    - сами коэффициенты - в первом столбце (**Estimate**)\n",
    "    - их значимость - в последнем (**Pr(>|t|)**)\n",
    "    - коэффициент детерминации - под таблицей (**Adjusted R-squared**)"
   ]
  },
  {
   "cell_type": "markdown",
   "metadata": {},
   "source": [
    "##### ОТВЕТ:"
   ]
  },
  {
   "cell_type": "markdown",
   "metadata": {},
   "source": [
    "Регрессионная модель объясняет 64% изменчивости зависимой переменной\n",
    "\n",
    "Бюджет фильма и его кассовые сборы отрицательно взаимосвязаны между собой\n",
    "\n",
    "#### Обнаружена статистически значимая положительная взаимосвязь между сборами фильма и количеством средств, потраченных на рекламу\n",
    "\n",
    "#### Не удалось обнаружить значимой взаимосвязи между числом проданных книг и кассовыми сборами фильма"
   ]
  },
  {
   "cell_type": "markdown",
   "metadata": {},
   "source": [
    "## ШАГ 6\n",
    "\n",
    "К вам обратился продюсер, который снимает кино. Он наслышан, что при помощи статистики можно получить ответы на все вопросы! Компания уже потратила 10 миллионов на производство фильма (cost), а также было продано книг на 8 миллионов долларов (books). Продюсер интересуется, сколько вы посоветуете ему потратить миллионов на рекламу фильма (promotion), если он хочет, чтобы сборы от фильма составили 150 миллионов?\n",
    "\n",
    "Рассчитайте необходимое количество миллионов на рекламу, основываясь на регрессионном уравнении из прошлого задания. В уравнении регрессии используйте только само число миллионов  в качестве коэффициентов: например, 10 миллионов мы запишем в уравнении просто как 10, а не 10 000 000.\n",
    "\n",
    "Формат ответа: например, если ответ равняется 6 миллионов, то просто вводите 6, а не 6 000 000.\n",
    "\n",
    "Подсказки"
   ]
  },
  {
   "cell_type": "markdown",
   "metadata": {},
   "source": [
    "Для этого вам нужно переструктурировать исходное уравнение и подставить нужные значения:\n",
    "\n",
    "$promotion = (receipts - b_{0} - b_{1}*cost - b_{3}*books)/b_{2}$\n",
    "\n",
    "Ответ надо указать целым числом **без знаков после запятой.**"
   ]
  },
  {
   "cell_type": "markdown",
   "metadata": {},
   "source": [
    "150 = 7,68 + 3,66* 10 + 7,62promotion + 0,82*8"
   ]
  },
  {
   "cell_type": "code",
   "execution_count": 5,
   "metadata": {},
   "outputs": [
    {
     "data": {
      "text/plain": [
       "13.013123359580051"
      ]
     },
     "execution_count": 5,
     "metadata": {},
     "output_type": "execute_result"
    }
   ],
   "source": [
    "promotion = (150 - (7.68 + 3.66* 10  + 0.82*8))/7.62\n",
    "promotion"
   ]
  },
  {
   "cell_type": "markdown",
   "metadata": {},
   "source": [
    "##### ОТВЕТ: 13"
   ]
  },
  {
   "attachments": {
    "image.png": {
     "image/png": "[encoded data removed]"
    }
   },
   "cell_type": "markdown",
   "metadata": {},
   "source": [
    "## ШАГ 7\n",
    "\n",
    "![image.png](attachment:image.png)\n",
    "\n",
    "Коэффициент 3.66  при независимой переменной cost (бюджет фильма) демонстрирует нам:\n",
    "\n",
    "Подсказки"
   ]
  },
  {
   "cell_type": "markdown",
   "metadata": {},
   "source": [
    "- **Что отражают коэффициенты углов наклона?**\n",
    "    \n",
    "    Изменение ЗП при единичном изменении этой НП при условии того, что остальные НП не изменяются."
   ]
  },
  {
   "cell_type": "markdown",
   "metadata": {},
   "source": [
    "##### ОТВЕТ:"
   ]
  },
  {
   "cell_type": "markdown",
   "metadata": {},
   "source": [
    "Насколько изменяется ожидаемое значение кассовых сборов фильма при единичном изменении независимой переменной cost при условии, что все остальные независимые переменные также изменяются\n",
    "\n",
    "#### Насколько изменяется ожидаемое значение кассовых сборов фильма при единичном изменении независимой переменной cost при условии, что все остальные независимые переменные не изменяются\n",
    "\n",
    "Насколько изменяется ожидаемое значение кассовых сборов фильма при единичном изменении всех независимых переменых\n",
    "\n",
    "Насколько изменяется ожидаемое значение независимой переменной cost при единичном изменении всех остальных независимых переменых"
   ]
  },
  {
   "cell_type": "markdown",
   "metadata": {},
   "source": [
    "## ШАГ 8\n",
    "\n",
    "Укажите верные утверждения:\n",
    "\n",
    "Подсказки"
   ]
  },
  {
   "cell_type": "markdown",
   "metadata": {},
   "source": [
    "- **В чём разница между единичной и множественной регрессией?**\n",
    "    \n",
    "    В последней используется несколько НП и скорректированная версия коэффициента детерминации.\n",
    "    \n",
    "- **Что такое мультиколлинеарность?**\n",
    "    \n",
    "    Феномен высокой корреляции между НП в множественной регрессии - приводит к неадекватным оценкам значимости коэффициентов. \n",
    "    \n",
    "- **Что отражает коэффициент детерминации?**\n",
    "    \n",
    "    Процент дисперсии, общий для НП и ЗП - чем он больше, тем больше и коэффициент детерминации.\n",
    "    \n",
    "- **Что отражает интерцепт?**\n",
    "    \n",
    "    Это значение, которое остаётся при нулевых значениях НП."
   ]
  },
  {
   "cell_type": "markdown",
   "metadata": {},
   "source": [
    "##### ОТВЕТ:"
   ]
  },
  {
   "cell_type": "markdown",
   "metadata": {},
   "source": [
    "#### Исправленный коэффициент детерминации рассчитывается при включении в регрессионную модель нескольких независимых переменных\n",
    "\n",
    "При помощи множественного регрессионного анализа мы можем проверять взаимосвязь только одной зависимой и одной независимой переменной\n",
    "\n",
    "Чем больше значение исправленного коэффициента детерминации, тем меньший процент дисперсии зависимой переменной объясняется нашей моделью\n",
    "\n",
    "#### Значение коэффициента b0 (intercept) демонстрирует, чему равняется предсказанное значение зависимой переменной, при условии что все независимые переменные равны нулю\n",
    "\n",
    "#### Очень сильная корреляция между независимыми переменными может негативно повлиять на результаты регрессионного анализа"
   ]
  },
  {
   "cell_type": "markdown",
   "metadata": {},
   "source": [
    "## ШАГ 9\n",
    "\n",
    "Укажите, какие из предложенных утверждений не относятся к обязательным условиям для применения множественного регрессионного анализа \n",
    "\n",
    "Подсказки\n"
   ]
  },
  {
   "cell_type": "markdown",
   "metadata": {},
   "source": [
    "- **Что такое мультиколлинеарность?**\n",
    "    \n",
    "    Феномен высокой корреляции между НП в множественной регрессии - приводит к неадекватным оценкам значимости коэффициентов. \n",
    "    \n",
    "- **Что должно быть нормальным в линейной регрессии?**\n",
    "    \n",
    "    Распределение остатков модели. Нормальность остальных распределений желательна, но необязательна."
   ]
  },
  {
   "cell_type": "markdown",
   "metadata": {},
   "source": [
    "##### ОТВЕТ:"
   ]
  },
  {
   "cell_type": "markdown",
   "metadata": {},
   "source": [
    "#### Распределение каждой переменной должно значимо отличаться от нормального\n",
    "\n",
    "#### Независимые переменные должны сильно коррелировать между собой\n",
    "\n",
    "Независимые переменные должны быть линейным образом взаимосвязаны с зависимой переменной\n",
    "\n",
    "Остатки должны быть приблизительно нормальным образом распределены вокруг нуля"
   ]
  },
  {
   "attachments": {
    "image.png": {
     "image/png": "[encoded data removed]"
    }
   },
   "cell_type": "markdown",
   "metadata": {},
   "source": [
    "## ШАГ 10\n",
    "\n",
    "![image.png](attachment:image.png)\n",
    "\n",
    "Основываясь на итоговой регрессионной модели, давайте вновь выполним задачу предсказания. Какой процент людей, проживающих в бедности, ожидается, если:\n",
    "\n",
    "процент людей со средним образованием (hs_grad) равен 90; \n",
    "процент людей, проживающих в столичной области (metro_res), равен 80;\n",
    "процент белокожего населения (white) равен 50.\n",
    "Подсказки"
   ]
  },
  {
   "cell_type": "markdown",
   "metadata": {},
   "source": [
    "- **Какая у нас модель в данном случае?**\n",
    "    \n",
    "    $b_{0} + b_{1}*white + b_{2}*metro_{-}res + b_{3}*hs_{-}grad$\n",
    "    \n",
    "    Ответ нужно указать с первым знаком после запятой!"
   ]
  },
  {
   "cell_type": "code",
   "execution_count": 6,
   "metadata": {},
   "outputs": [
    {
     "data": {
      "text/plain": [
       "10.400000000000006"
      ]
     },
     "execution_count": 6,
     "metadata": {},
     "output_type": "execute_result"
    }
   ],
   "source": [
    "68.7 -0.06*50 -0.05*80 - 0.57*90"
   ]
  },
  {
   "cell_type": "markdown",
   "metadata": {},
   "source": [
    "##### ОТВЕТ: 10.4"
   ]
  },
  {
   "attachments": {
    "image.png": {
     "image/png": "[encoded data removed]"
    }
   },
   "cell_type": "markdown",
   "metadata": {},
   "source": [
    "## ШАГ 11\n",
    "\n",
    "![image.png](attachment:image.png)\n",
    "\n",
    "Сделав прогноз относительно кассовых сборов готовящегося фильма, мы совсем забыли изучить наши данные на предмет мультиколлинеарности.  На графике изображена корреляция между всеми переменными, включенными в анализ. Какие результаты позволяют нам говорить о мультиколлинеарности в наших данных?\n",
    "\n",
    "Подсказки"
   ]
  },
  {
   "cell_type": "markdown",
   "metadata": {},
   "source": [
    "- **Что такое мультиколлинеарность?**\n",
    "    \n",
    "    Феномен высокой корреляции между НП в множественной регрессии - приводит к неадекватным оценкам значимости коэффициентов. \n",
    "    \n",
    "- **Как её увидеть на графике?**\n",
    "    \n",
    "    В верхней части графика видны значения коэффициентов корреляции между НП. О чём они говорят?"
   ]
  },
  {
   "cell_type": "markdown",
   "metadata": {},
   "source": [
    "##### ОТВЕТ:"
   ]
  },
  {
   "cell_type": "markdown",
   "metadata": {},
   "source": [
    "Зависимая переменная очень сильно коррелирует со всеми независимыми пeременными\n",
    "\n",
    "Никакие, мультиколлинеарности в наших данных нет\n",
    "\n",
    "#### Пара независимых переменных очень сильно коррелирует между собой\n",
    "\n",
    "Зависимая переменная books очень слабо коррелирует с другими независимыми переменными"
   ]
  },
  {
   "cell_type": "markdown",
   "metadata": {},
   "source": [
    "## ШАГ 12\n",
    "\n",
    "Укажите верные утверждения:\n",
    "\n",
    "Подсказки"
   ]
  },
  {
   "cell_type": "markdown",
   "metadata": {},
   "source": [
    "- **Что такое логистическая регрессия?**\n",
    "    \n",
    "    Это модификация обычной линейной регрессии для случая, когда ЗП является бинарной. Может быть как одномерной, так и множественной.\n",
    "    \n",
    "- **Что такое кластерный анализ?**\n",
    "    \n",
    "    Это метод, позволяющий искать группы в наборе данных."
   ]
  },
  {
   "cell_type": "markdown",
   "metadata": {},
   "source": [
    "##### ОТВЕТ:"
   ]
  },
  {
   "cell_type": "markdown",
   "metadata": {},
   "source": [
    "#### Логистическая регрессия позволяет построить регрессионную модель, где номинативная переменная с двумя градациями является зависимой переменной\n",
    "\n",
    "Логистическая регрессия позволяет исследовать взаимосвязь только двух количественных переменных\n",
    "\n",
    "#### При помощи кластерного анализа можно группировать наблюдения, основываясь на значениях нескольких количественных переменных.\n",
    "\n",
    "Кластерный анализ может разделить наши наблюдения не более чем на три группы"
   ]
  }
 ],
 "metadata": {
  "kernelspec": {
   "display_name": "Python 3",
   "language": "python",
   "name": "python3"
  },
  "language_info": {
   "codemirror_mode": {
    "name": "ipython",
    "version": 3
   },
   "file_extension": ".py",
   "mimetype": "text/x-python",
   "name": "python",
   "nbconvert_exporter": "python",
   "pygments_lexer": "ipython3",
   "version": "3.7.3"
  }
 },
 "nbformat": 4,
 "nbformat_minor": 4
}
