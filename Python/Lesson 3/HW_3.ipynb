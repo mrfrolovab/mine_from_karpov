{
 "cells": [
  {
   "cell_type": "code",
   "execution_count": 1,
   "metadata": {},
   "outputs": [],
   "source": [
    "names = 'Name1 Surname1, Name2 Surname2'\n",
    "names_list = names.split(', ')"
   ]
  },
  {
   "cell_type": "code",
   "execution_count": 2,
   "metadata": {},
   "outputs": [
    {
     "data": {
      "text/plain": [
       "['Name1 Surname1', 'Name2 Surname2']"
      ]
     },
     "execution_count": 2,
     "metadata": {},
     "output_type": "execute_result"
    }
   ],
   "source": [
    "names_list"
   ]
  },
  {
   "cell_type": "code",
   "execution_count": 3,
   "metadata": {},
   "outputs": [],
   "source": [
    "import pandas as pd\n",
    "import seaborn as sns\n",
    "import matplotlib.pyplot as plt\n",
    "%matplotlib inline\n",
    "df = pd.read_csv(r'3_companies.csv', sep = ';')"
   ]
  },
  {
   "cell_type": "code",
   "execution_count": 4,
   "metadata": {},
   "outputs": [
    {
     "data": {
      "text/html": [
       "<div>\n",
       "<style scoped>\n",
       "    .dataframe tbody tr th:only-of-type {\n",
       "        vertical-align: middle;\n",
       "    }\n",
       "\n",
       "    .dataframe tbody tr th {\n",
       "        vertical-align: top;\n",
       "    }\n",
       "\n",
       "    .dataframe thead th {\n",
       "        text-align: right;\n",
       "    }\n",
       "</style>\n",
       "<table border=\"1\" class=\"dataframe\">\n",
       "  <thead>\n",
       "    <tr style=\"text-align: right;\">\n",
       "      <th></th>\n",
       "      <th>journey_id</th>\n",
       "      <th>user_id</th>\n",
       "      <th>driver_id</th>\n",
       "      <th>taxi_id</th>\n",
       "      <th>icon</th>\n",
       "      <th>start_type</th>\n",
       "      <th>start_at</th>\n",
       "      <th>start_lat</th>\n",
       "      <th>start_lon</th>\n",
       "      <th>end_at</th>\n",
       "      <th>end_lat</th>\n",
       "      <th>end_lon</th>\n",
       "      <th>end_state</th>\n",
       "      <th>driver_start_lat</th>\n",
       "      <th>driver_start_lon</th>\n",
       "      <th>arrived_at</th>\n",
       "      <th>source</th>\n",
       "      <th>driver_score</th>\n",
       "      <th>rider_score</th>\n",
       "    </tr>\n",
       "  </thead>\n",
       "  <tbody>\n",
       "    <tr>\n",
       "      <th>0</th>\n",
       "      <td>23a1406fc6a11d866e3c82f22eed4d4c</td>\n",
       "      <td>0e9af5bbf1edfe591b54ecdfd7e91e26</td>\n",
       "      <td>583949a89a9ee17d19e3ca4f137b6b4c</td>\n",
       "      <td>b12f4f09c783e29fe0d0ea624530db56</td>\n",
       "      <td>executive</td>\n",
       "      <td>asap</td>\n",
       "      <td>2010-11-16 16:44:00</td>\n",
       "      <td>-12,13983536</td>\n",
       "      <td>-77,02355957</td>\n",
       "      <td>2010-11-16 17:29:00</td>\n",
       "      <td>-12,05537033</td>\n",
       "      <td>-77,0413208</td>\n",
       "      <td>drop off</td>\n",
       "      <td>-12,10825481</td>\n",
       "      <td>-77,0272739</td>\n",
       "      <td>2010-11-16 17:02:00</td>\n",
       "      <td>iPhone</td>\n",
       "      <td>5.0</td>\n",
       "      <td>5.0</td>\n",
       "    </tr>\n",
       "    <tr>\n",
       "      <th>1</th>\n",
       "      <td>dd2af4715d0dc16eded53afc0e243577</td>\n",
       "      <td>a553c46e3a22fb9c326aeb3d72b3334e</td>\n",
       "      <td>NaN</td>\n",
       "      <td>NaN</td>\n",
       "      <td>executive</td>\n",
       "      <td>asap</td>\n",
       "      <td>2010-06-01 00:34:00</td>\n",
       "      <td>-12,13874817</td>\n",
       "      <td>-76,99536133</td>\n",
       "      <td>2010-06-01 00:37:00</td>\n",
       "      <td>-12,12465668</td>\n",
       "      <td>-77,02886963</td>\n",
       "      <td>not found</td>\n",
       "      <td>NaN</td>\n",
       "      <td>NaN</td>\n",
       "      <td>NaT</td>\n",
       "      <td>iPhone</td>\n",
       "      <td>NaN</td>\n",
       "      <td>NaN</td>\n",
       "    </tr>\n",
       "    <tr>\n",
       "      <th>2</th>\n",
       "      <td>dd91e131888064bf7df3ce08f3d4b4ad</td>\n",
       "      <td>a553c46e3a22fb9c326aeb3d72b3334e</td>\n",
       "      <td>NaN</td>\n",
       "      <td>NaN</td>\n",
       "      <td>executive</td>\n",
       "      <td>asap</td>\n",
       "      <td>2010-05-31 05:01:00</td>\n",
       "      <td>-12,12453079</td>\n",
       "      <td>-77,02780151</td>\n",
       "      <td>2010-05-31 05:04:00</td>\n",
       "      <td>-12,13883209</td>\n",
       "      <td>-76,99530029</td>\n",
       "      <td>not found</td>\n",
       "      <td>NaN</td>\n",
       "      <td>NaN</td>\n",
       "      <td>NaT</td>\n",
       "      <td>iPhone</td>\n",
       "      <td>NaN</td>\n",
       "      <td>NaN</td>\n",
       "    </tr>\n",
       "    <tr>\n",
       "      <th>3</th>\n",
       "      <td>dd2af4715d0dc16eded53afc0e2466d0</td>\n",
       "      <td>a553c46e3a22fb9c326aeb3d72b3334e</td>\n",
       "      <td>NaN</td>\n",
       "      <td>NaN</td>\n",
       "      <td>executive</td>\n",
       "      <td>asap</td>\n",
       "      <td>2010-06-01 00:29:00</td>\n",
       "      <td>-12,13885117</td>\n",
       "      <td>-76,99530029</td>\n",
       "      <td>2010-06-01 00:32:00</td>\n",
       "      <td>-12,12458801</td>\n",
       "      <td>-77,02896118</td>\n",
       "      <td>not found</td>\n",
       "      <td>NaN</td>\n",
       "      <td>NaN</td>\n",
       "      <td>NaT</td>\n",
       "      <td>iPhone</td>\n",
       "      <td>NaN</td>\n",
       "      <td>NaN</td>\n",
       "    </tr>\n",
       "    <tr>\n",
       "      <th>4</th>\n",
       "      <td>85b7eabcf5d84e42dc7629b7d27781af</td>\n",
       "      <td>56772d544fdfa589a020a1ff894a86f7</td>\n",
       "      <td>d665fb9f75ef5d9cd0fd89479380ba78</td>\n",
       "      <td>0accdd3aa5a322f4129fa20b53278c69</td>\n",
       "      <td>executive</td>\n",
       "      <td>reserved</td>\n",
       "      <td>2010-09-11 23:55:00</td>\n",
       "      <td>-12,08995438</td>\n",
       "      <td>-76,92626953</td>\n",
       "      <td>2010-09-12 01:07:00</td>\n",
       "      <td>-12,02223206</td>\n",
       "      <td>-77,10638428</td>\n",
       "      <td>drop off</td>\n",
       "      <td>-12,08311558</td>\n",
       "      <td>-76,9277072</td>\n",
       "      <td>2010-09-11 23:50:00</td>\n",
       "      <td>iPhone</td>\n",
       "      <td>4.0</td>\n",
       "      <td>5.0</td>\n",
       "    </tr>\n",
       "    <tr>\n",
       "      <th>...</th>\n",
       "      <td>...</td>\n",
       "      <td>...</td>\n",
       "      <td>...</td>\n",
       "      <td>...</td>\n",
       "      <td>...</td>\n",
       "      <td>...</td>\n",
       "      <td>...</td>\n",
       "      <td>...</td>\n",
       "      <td>...</td>\n",
       "      <td>...</td>\n",
       "      <td>...</td>\n",
       "      <td>...</td>\n",
       "      <td>...</td>\n",
       "      <td>...</td>\n",
       "      <td>...</td>\n",
       "      <td>...</td>\n",
       "      <td>...</td>\n",
       "      <td>...</td>\n",
       "      <td>...</td>\n",
       "    </tr>\n",
       "    <tr>\n",
       "      <th>23106</th>\n",
       "      <td>4a18ea5737ce0ffecaf20b305a0e2c86</td>\n",
       "      <td>8998bb370b5f0cec43a373adebba0c72</td>\n",
       "      <td>d665fb9f75ef5d9cd0fd89479380ba78</td>\n",
       "      <td>16cbe35db7fff70fbc8251b4cda9fdc9</td>\n",
       "      <td>executive</td>\n",
       "      <td>reserved</td>\n",
       "      <td>2010-07-31 13:15:00</td>\n",
       "      <td>-12,08974075</td>\n",
       "      <td>-77,04699707</td>\n",
       "      <td>2010-07-31 13:27:00</td>\n",
       "      <td>-12,08352661</td>\n",
       "      <td>-77,05044556</td>\n",
       "      <td>drop off</td>\n",
       "      <td>-12,08973527</td>\n",
       "      <td>-77,04787016</td>\n",
       "      <td>2010-07-31 13:15:00</td>\n",
       "      <td>iPhone</td>\n",
       "      <td>5.0</td>\n",
       "      <td>5.0</td>\n",
       "    </tr>\n",
       "    <tr>\n",
       "      <th>23107</th>\n",
       "      <td>f1e4317f2c17991dd90d1cd17ae0d399</td>\n",
       "      <td>5f8a6ffef0ea5df78a8ee890267b60ec</td>\n",
       "      <td>17c21284245ff240c7212732991c2373</td>\n",
       "      <td>716a697375634f32a06d692b0448f13d</td>\n",
       "      <td>executive</td>\n",
       "      <td>asap</td>\n",
       "      <td>2010-10-02 05:26:00</td>\n",
       "      <td>-12,09253011</td>\n",
       "      <td>-77,02875271</td>\n",
       "      <td>2010-10-02 05:56:00</td>\n",
       "      <td>-12,07776001</td>\n",
       "      <td>-77,05623798</td>\n",
       "      <td>drop off</td>\n",
       "      <td>-12,10639693</td>\n",
       "      <td>-77,04028948</td>\n",
       "      <td>2010-10-02 05:39:00</td>\n",
       "      <td>Android</td>\n",
       "      <td>NaN</td>\n",
       "      <td>5.0</td>\n",
       "    </tr>\n",
       "    <tr>\n",
       "      <th>23108</th>\n",
       "      <td>1e44c0fd0a266c3719ff30410b257bce</td>\n",
       "      <td>c0ffb6f6cd801004dd8609c12277c2d1</td>\n",
       "      <td>4851ee4c867c9b49b909c1adb76c31e9</td>\n",
       "      <td>4851ee4c867c9b49b909c1adb76c538e</td>\n",
       "      <td>executive</td>\n",
       "      <td>asap</td>\n",
       "      <td>2010-09-21 09:56:00</td>\n",
       "      <td>-12,1275637</td>\n",
       "      <td>-77,02642288</td>\n",
       "      <td>2010-09-21 10:18:00</td>\n",
       "      <td>-12,10529838</td>\n",
       "      <td>-77,04735249</td>\n",
       "      <td>drop off</td>\n",
       "      <td>-12,12605017</td>\n",
       "      <td>-77,01882491</td>\n",
       "      <td>2010-09-21 10:05:00</td>\n",
       "      <td>Android</td>\n",
       "      <td>0.0</td>\n",
       "      <td>0.0</td>\n",
       "    </tr>\n",
       "    <tr>\n",
       "      <th>23109</th>\n",
       "      <td>7073883383b89ad289e864022150cdd7</td>\n",
       "      <td>c0ffb6f6cd801004dd8609c12277c2d1</td>\n",
       "      <td>56f59b58bcbbd1cdabc3652e713134c2</td>\n",
       "      <td>924d4f0e7554566623e8ebb3904a7b0c</td>\n",
       "      <td>executive</td>\n",
       "      <td>reserved</td>\n",
       "      <td>2010-04-29 04:30:00</td>\n",
       "      <td>-12,019468</td>\n",
       "      <td>-77,1077669</td>\n",
       "      <td>2010-04-29 05:11:00</td>\n",
       "      <td>-12,09909987</td>\n",
       "      <td>-77,03475013</td>\n",
       "      <td>drop off</td>\n",
       "      <td>-12,0710933</td>\n",
       "      <td>-77,09855131</td>\n",
       "      <td>2010-04-29 04:23:00</td>\n",
       "      <td>Android</td>\n",
       "      <td>NaN</td>\n",
       "      <td>5.0</td>\n",
       "    </tr>\n",
       "    <tr>\n",
       "      <th>23110</th>\n",
       "      <td>b7dea45c3cc92b9efd5a4905e69ff9bf</td>\n",
       "      <td>c0ffb6f6cd801004dd8609c12277c2d1</td>\n",
       "      <td>924d4f0e7554566623e8ebb390491d08</td>\n",
       "      <td>924d4f0e7554566623e8ebb390491492</td>\n",
       "      <td>executive</td>\n",
       "      <td>asap</td>\n",
       "      <td>2010-03-16 19:58:00</td>\n",
       "      <td>-12,1334974</td>\n",
       "      <td>-77,0272581</td>\n",
       "      <td>2010-03-16 20:02:00</td>\n",
       "      <td>-12,029174</td>\n",
       "      <td>-76,93977</td>\n",
       "      <td>rider cancel</td>\n",
       "      <td>-12,09586711</td>\n",
       "      <td>-77,07372552</td>\n",
       "      <td>NaT</td>\n",
       "      <td>web</td>\n",
       "      <td>NaN</td>\n",
       "      <td>NaN</td>\n",
       "    </tr>\n",
       "  </tbody>\n",
       "</table>\n",
       "<p>23111 rows × 19 columns</p>\n",
       "</div>"
      ],
      "text/plain": [
       "                             journey_id                           user_id  \\\n",
       "0      23a1406fc6a11d866e3c82f22eed4d4c  0e9af5bbf1edfe591b54ecdfd7e91e26   \n",
       "1      dd2af4715d0dc16eded53afc0e243577  a553c46e3a22fb9c326aeb3d72b3334e   \n",
       "2      dd91e131888064bf7df3ce08f3d4b4ad  a553c46e3a22fb9c326aeb3d72b3334e   \n",
       "3      dd2af4715d0dc16eded53afc0e2466d0  a553c46e3a22fb9c326aeb3d72b3334e   \n",
       "4      85b7eabcf5d84e42dc7629b7d27781af  56772d544fdfa589a020a1ff894a86f7   \n",
       "...                                 ...                               ...   \n",
       "23106  4a18ea5737ce0ffecaf20b305a0e2c86  8998bb370b5f0cec43a373adebba0c72   \n",
       "23107  f1e4317f2c17991dd90d1cd17ae0d399  5f8a6ffef0ea5df78a8ee890267b60ec   \n",
       "23108  1e44c0fd0a266c3719ff30410b257bce  c0ffb6f6cd801004dd8609c12277c2d1   \n",
       "23109  7073883383b89ad289e864022150cdd7  c0ffb6f6cd801004dd8609c12277c2d1   \n",
       "23110  b7dea45c3cc92b9efd5a4905e69ff9bf  c0ffb6f6cd801004dd8609c12277c2d1   \n",
       "\n",
       "                              driver_id                           taxi_id  \\\n",
       "0      583949a89a9ee17d19e3ca4f137b6b4c  b12f4f09c783e29fe0d0ea624530db56   \n",
       "1                                   NaN                               NaN   \n",
       "2                                   NaN                               NaN   \n",
       "3                                   NaN                               NaN   \n",
       "4      d665fb9f75ef5d9cd0fd89479380ba78  0accdd3aa5a322f4129fa20b53278c69   \n",
       "...                                 ...                               ...   \n",
       "23106  d665fb9f75ef5d9cd0fd89479380ba78  16cbe35db7fff70fbc8251b4cda9fdc9   \n",
       "23107  17c21284245ff240c7212732991c2373  716a697375634f32a06d692b0448f13d   \n",
       "23108  4851ee4c867c9b49b909c1adb76c31e9  4851ee4c867c9b49b909c1adb76c538e   \n",
       "23109  56f59b58bcbbd1cdabc3652e713134c2  924d4f0e7554566623e8ebb3904a7b0c   \n",
       "23110  924d4f0e7554566623e8ebb390491d08  924d4f0e7554566623e8ebb390491492   \n",
       "\n",
       "            icon start_type            start_at     start_lat     start_lon  \\\n",
       "0      executive       asap 2010-11-16 16:44:00  -12,13983536  -77,02355957   \n",
       "1      executive       asap 2010-06-01 00:34:00  -12,13874817  -76,99536133   \n",
       "2      executive       asap 2010-05-31 05:01:00  -12,12453079  -77,02780151   \n",
       "3      executive       asap 2010-06-01 00:29:00  -12,13885117  -76,99530029   \n",
       "4      executive   reserved 2010-09-11 23:55:00  -12,08995438  -76,92626953   \n",
       "...          ...        ...                 ...           ...           ...   \n",
       "23106  executive   reserved 2010-07-31 13:15:00  -12,08974075  -77,04699707   \n",
       "23107  executive       asap 2010-10-02 05:26:00  -12,09253011  -77,02875271   \n",
       "23108  executive       asap 2010-09-21 09:56:00   -12,1275637  -77,02642288   \n",
       "23109  executive   reserved 2010-04-29 04:30:00    -12,019468   -77,1077669   \n",
       "23110  executive       asap 2010-03-16 19:58:00   -12,1334974   -77,0272581   \n",
       "\n",
       "                   end_at       end_lat       end_lon     end_state  \\\n",
       "0     2010-11-16 17:29:00  -12,05537033   -77,0413208      drop off   \n",
       "1     2010-06-01 00:37:00  -12,12465668  -77,02886963     not found   \n",
       "2     2010-05-31 05:04:00  -12,13883209  -76,99530029     not found   \n",
       "3     2010-06-01 00:32:00  -12,12458801  -77,02896118     not found   \n",
       "4     2010-09-12 01:07:00  -12,02223206  -77,10638428      drop off   \n",
       "...                   ...           ...           ...           ...   \n",
       "23106 2010-07-31 13:27:00  -12,08352661  -77,05044556      drop off   \n",
       "23107 2010-10-02 05:56:00  -12,07776001  -77,05623798      drop off   \n",
       "23108 2010-09-21 10:18:00  -12,10529838  -77,04735249      drop off   \n",
       "23109 2010-04-29 05:11:00  -12,09909987  -77,03475013      drop off   \n",
       "23110 2010-03-16 20:02:00    -12,029174     -76,93977  rider cancel   \n",
       "\n",
       "      driver_start_lat driver_start_lon          arrived_at   source  \\\n",
       "0         -12,10825481      -77,0272739 2010-11-16 17:02:00   iPhone   \n",
       "1                  NaN              NaN                 NaT   iPhone   \n",
       "2                  NaN              NaN                 NaT   iPhone   \n",
       "3                  NaN              NaN                 NaT   iPhone   \n",
       "4         -12,08311558      -76,9277072 2010-09-11 23:50:00   iPhone   \n",
       "...                ...              ...                 ...      ...   \n",
       "23106     -12,08973527     -77,04787016 2010-07-31 13:15:00   iPhone   \n",
       "23107     -12,10639693     -77,04028948 2010-10-02 05:39:00  Android   \n",
       "23108     -12,12605017     -77,01882491 2010-09-21 10:05:00  Android   \n",
       "23109      -12,0710933     -77,09855131 2010-04-29 04:23:00  Android   \n",
       "23110     -12,09586711     -77,07372552                 NaT      web   \n",
       "\n",
       "       driver_score  rider_score  \n",
       "0               5.0          5.0  \n",
       "1               NaN          NaN  \n",
       "2               NaN          NaN  \n",
       "3               NaN          NaN  \n",
       "4               4.0          5.0  \n",
       "...             ...          ...  \n",
       "23106           5.0          5.0  \n",
       "23107           NaN          5.0  \n",
       "23108           0.0          0.0  \n",
       "23109           NaN          5.0  \n",
       "23110           NaN          NaN  \n",
       "\n",
       "[23111 rows x 19 columns]"
      ]
     },
     "execution_count": 4,
     "metadata": {},
     "output_type": "execute_result"
    }
   ],
   "source": [
    "# Загрузите датасет, используя ; в качестве разделителя.\n",
    "# Также укажите, что столбцы start_at, end_at, arrived_at нужно прочитать как даты (параметр parse_dates).\n",
    "# Результат запишите в переменную taxi.\n",
    "\n",
    "taxi = pd.read_csv(r'3_taxi_peru.csv', sep = ';', parse_dates = ['start_at', 'end_at', 'arrived_at'])\n",
    "taxi"
   ]
  },
  {
   "cell_type": "code",
   "execution_count": 43,
   "metadata": {},
   "outputs": [
    {
     "data": {
      "text/plain": [
       "iPhone     42.0\n",
       "web        33.0\n",
       "Android    21.0\n",
       "iPad        2.0\n",
       "Wap         1.0\n",
       "Name: source, dtype: float64"
      ]
     },
     "execution_count": 43,
     "metadata": {},
     "output_type": "execute_result"
    }
   ],
   "source": [
    "# Проверьте, с какой платформы было сделано больше всего заказов. В ответе укажите значение в %, округлённое до целого.\n",
    "\n",
    "source_percernt = taxi.source.value_counts('normalize').mul(100).round()\n",
    "source_percernt"
   ]
  },
  {
   "cell_type": "code",
   "execution_count": 36,
   "metadata": {},
   "outputs": [
    {
     "data": {
      "text/plain": [
       "<matplotlib.axes._subplots.AxesSubplot at 0x7f3819a193c8>"
      ]
     },
     "execution_count": 36,
     "metadata": {},
     "output_type": "execute_result"
    },
    {
     "data": {
      "image/png": "[encoded data removed]",
      "text/plain": [
       "<Figure size 432x288 with 1 Axes>"
      ]
     },
     "metadata": {
      "needs_background": "light"
     },
     "output_type": "display_data"
    }
   ],
   "source": [
    "# Чтобы показать разницу более наглядно, попробуем визуализировать показатели.\n",
    "# Агрегируйте данные и постройте барчарт, где по оси x будет расположено название платформы (source),\n",
    "# а по оси y – количество заказов (абсолютные значения).\n",
    "\n",
    "count_source = taxi.source \\\n",
    "    .value_counts() \\\n",
    "    .to_frame() \\\n",
    "    .reset_index() \\\n",
    "    .rename(columns = \\\n",
    "            {'index': 'source',\n",
    "             'source': 'count'})\n",
    "\n",
    "sns.barplot(x=\"source\", y=\"count\", data=count_source)\n",
    "\n",
    "# sns.countplot(taxi['source'])"
   ]
  },
  {
   "cell_type": "code",
   "execution_count": 39,
   "metadata": {},
   "outputs": [
    {
     "name": "stderr",
     "output_type": "stream",
     "text": [
      "/opt/tljh/user/lib/python3.7/site-packages/seaborn/_decorators.py:43: FutureWarning: Pass the following variable as a keyword arg: x. From version 0.12, the only valid positional argument will be `data`, and passing other arguments without an explicit keyword will result in an error or misinterpretation.\n",
      "  FutureWarning\n"
     ]
    },
    {
     "data": {
      "text/plain": [
       "<matplotlib.axes._subplots.AxesSubplot at 0x7f3819817278>"
      ]
     },
     "execution_count": 39,
     "metadata": {},
     "output_type": "execute_result"
    },
    {
     "data": {
      "image/png": "[encoded data removed]",
      "text/plain": [
       "<Figure size 432x288 with 1 Axes>"
      ]
     },
     "metadata": {
      "needs_background": "light"
     },
     "output_type": "display_data"
    }
   ],
   "source": [
    "# Используйте countplot и проверьте, какой тип поездки (icon) встречался чаще всего\n",
    "\n",
    "sns.countplot(taxi['icon'])"
   ]
  },
  {
   "cell_type": "code",
   "execution_count": 42,
   "metadata": {},
   "outputs": [
    {
     "data": {
      "text/plain": [
       "<matplotlib.axes._subplots.AxesSubplot at 0x7f381af3a550>"
      ]
     },
     "execution_count": 42,
     "metadata": {},
     "output_type": "execute_result"
    },
    {
     "data": {
      "image/png": "[encoded data removed]",
      "text/plain": [
       "<Figure size 432x288 with 1 Axes>"
      ]
     },
     "metadata": {
      "needs_background": "light"
     },
     "output_type": "display_data"
    }
   ],
   "source": [
    "# С помощью sns.countplot и параметра hue визуализируйте распределение переменной end_state (итоговое состояние заказа)\n",
    "# в разбивке по платформам (source).\n",
    "# Иными словами, по оси x расположите платформу, а в качестве цвета используйте состояние заказа.\n",
    "\n",
    "sns.countplot(x='source', hue='end_state', data=taxi)"
   ]
  },
  {
   "cell_type": "code",
   "execution_count": 5,
   "metadata": {},
   "outputs": [],
   "source": [
    "# Проверим, как распределены оценки водителей (driver_score). Для подготовки данных выполните следующие шаги:\n",
    "# Посчитайте частоту встречаемости каждой из оценок\n",
    "# Переведите в проценты и округлите до 2 знаков после точки (.mul(100).round(2))\n",
    "# Сбросьте индексы\n",
    "# Переименуйте колонки в driver_score и percentage\n",
    "# Отсортируйте по driver_score в порядке возрастания (от 0 до 5)\n",
    "# Запишите результат в driver_score_counts\n",
    "\n",
    "driver_score_counts = taxi.driver_score \\\n",
    "    .value_counts('normalize') \\\n",
    "    .mul(100) \\\n",
    "    .round(2) \\\n",
    "    .reset_index() \\\n",
    "    .rename(columns = {'index': 'driver_score',\n",
    "             'driver_score' : 'percentage'}) \\\n",
    "    .sort_values('driver_score')"
   ]
  },
  {
   "cell_type": "code",
   "execution_count": 45,
   "metadata": {},
   "outputs": [
    {
     "ename": "NameError",
     "evalue": "name 'driver_score_counts' is not defined",
     "output_type": "error",
     "traceback": [
      "\u001b[0;31m---------------------------------------------------------------------------\u001b[0m",
      "\u001b[0;31mNameError\u001b[0m                                 Traceback (most recent call last)",
      "\u001b[0;32m<ipython-input-45-91cbbb3dbac6>\u001b[0m in \u001b[0;36m<module>\u001b[0;34m\u001b[0m\n\u001b[0;32m----> 1\u001b[0;31m \u001b[0max\u001b[0m \u001b[0;34m=\u001b[0m \u001b[0msns\u001b[0m\u001b[0;34m.\u001b[0m\u001b[0mbarplot\u001b[0m\u001b[0;34m(\u001b[0m\u001b[0mx\u001b[0m\u001b[0;34m=\u001b[0m\u001b[0;34m'driver_score'\u001b[0m\u001b[0;34m,\u001b[0m \u001b[0my\u001b[0m\u001b[0;34m=\u001b[0m\u001b[0;34m'percentage'\u001b[0m\u001b[0;34m,\u001b[0m \u001b[0mdata\u001b[0m\u001b[0;34m=\u001b[0m\u001b[0mdriver_score_counts\u001b[0m\u001b[0;34m,\u001b[0m \u001b[0mcolor\u001b[0m\u001b[0;34m=\u001b[0m\u001b[0;34m'blue'\u001b[0m\u001b[0;34m,\u001b[0m \u001b[0malpha\u001b[0m\u001b[0;34m=\u001b[0m\u001b[0;36m0.5\u001b[0m\u001b[0;34m)\u001b[0m\u001b[0;34m\u001b[0m\u001b[0;34m\u001b[0m\u001b[0m\n\u001b[0m\u001b[1;32m      2\u001b[0m \u001b[0max\u001b[0m\u001b[0;34m.\u001b[0m\u001b[0mset\u001b[0m\u001b[0;34m(\u001b[0m\u001b[0mxlabel\u001b[0m\u001b[0;34m=\u001b[0m\u001b[0;34m'Driver score'\u001b[0m\u001b[0;34m,\u001b[0m \u001b[0mylabel\u001b[0m\u001b[0;34m=\u001b[0m\u001b[0;34m'Percentage'\u001b[0m\u001b[0;34m)\u001b[0m\u001b[0;34m\u001b[0m\u001b[0;34m\u001b[0m\u001b[0m\n\u001b[1;32m      3\u001b[0m \u001b[0msns\u001b[0m\u001b[0;34m.\u001b[0m\u001b[0mdespine\u001b[0m\u001b[0;34m(\u001b[0m\u001b[0;34m)\u001b[0m  \u001b[0;31m# убрать часть рамки графика\u001b[0m\u001b[0;34m\u001b[0m\u001b[0;34m\u001b[0m\u001b[0m\n\u001b[1;32m      4\u001b[0m \u001b[0mplt\u001b[0m\u001b[0;34m.\u001b[0m\u001b[0mshow\u001b[0m\u001b[0;34m(\u001b[0m\u001b[0;34m)\u001b[0m\u001b[0;34m\u001b[0m\u001b[0;34m\u001b[0m\u001b[0m\n",
      "\u001b[0;31mNameError\u001b[0m: name 'driver_score_counts' is not defined"
     ]
    }
   ],
   "source": [
    "ax = sns.barplot(x='driver_score', y='percentage', data=driver_score_counts, color='blue', alpha=0.5)\n",
    "ax.set(xlabel='Driver score', ylabel='Percentage')\n",
    "sns.despine()  # убрать часть рамки графика\n",
    "plt.show()"
   ]
  },
  {
   "cell_type": "code",
   "execution_count": 7,
   "metadata": {},
   "outputs": [],
   "source": [
    "rider_score_counts = taxi.rider_score \\\n",
    "    .value_counts('normalize') \\\n",
    "    .mul(100) \\\n",
    "    .round(2) \\\n",
    "    .reset_index() \\\n",
    "    .rename(columns = {'index': 'rider_score',\n",
    "             'rider_score' : 'percentage'}) \\\n",
    "    .sort_values('rider_score')"
   ]
  },
  {
   "cell_type": "code",
   "execution_count": 10,
   "metadata": {},
   "outputs": [
    {
     "data": {
      "image/png": "[encoded data removed]",
      "text/plain": [
       "<Figure size 432x288 with 1 Axes>"
      ]
     },
     "metadata": {
      "needs_background": "light"
     },
     "output_type": "display_data"
    }
   ],
   "source": [
    "dx = sns.barplot(x='rider_score', y='percentage', data=rider_score_counts, color='blue', alpha=0.5)\n",
    "dx.set(xlabel='Rider score', ylabel='Percentage')\n",
    "sns.despine()  # убрать часть рамки графика\n",
    "plt.show()"
   ]
  },
  {
   "cell_type": "code",
   "execution_count": null,
   "metadata": {},
   "outputs": [],
   "source": []
  },
  {
   "cell_type": "code",
   "execution_count": null,
   "metadata": {},
   "outputs": [],
   "source": []
  },
  {
   "cell_type": "code",
   "execution_count": null,
   "metadata": {},
   "outputs": [],
   "source": []
  },
  {
   "cell_type": "code",
   "execution_count": null,
   "metadata": {},
   "outputs": [],
   "source": []
  },
  {
   "cell_type": "code",
   "execution_count": null,
   "metadata": {},
   "outputs": [],
   "source": []
  },
  {
   "cell_type": "code",
   "execution_count": null,
   "metadata": {},
   "outputs": [],
   "source": []
  },
  {
   "cell_type": "code",
   "execution_count": null,
   "metadata": {},
   "outputs": [],
   "source": []
  }
 ],
 "metadata": {
  "kernelspec": {
   "display_name": "Python 3",
   "language": "python",
   "name": "python3"
  },
  "language_info": {
   "codemirror_mode": {
    "name": "ipython",
    "version": 3
   },
   "file_extension": ".py",
   "mimetype": "text/x-python",
   "name": "python",
   "nbconvert_exporter": "python",
   "pygments_lexer": "ipython3",
   "version": "3.7.3"
  }
 },
 "nbformat": 4,
 "nbformat_minor": 4
}
