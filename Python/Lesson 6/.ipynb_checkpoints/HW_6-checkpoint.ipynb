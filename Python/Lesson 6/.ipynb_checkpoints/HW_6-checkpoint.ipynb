{
 "cells": [
  {
   "cell_type": "code",
   "execution_count": null,
   "metadata": {},
   "outputs": [],
   "source": [
    "# Предположим, что Толя любит авокадо и решил посмотреть динамику цен на данный продукт в США.\n",
    "# Имеется следующий набор данных от Hass Avocado Board 🥑:\n",
    "\n",
    "# Date — дата\n",
    "# AveragePrice — средняя цена одного авокадо\n",
    "# Total Volume — количество проданных авокадо\n",
    "# 4046 — количество проданных авокадо PLU* 4046\n",
    "# 4225 — количество проданных авокадо PLU 4225\n",
    "# 4770 — количество проданных авокадо PLU 4770\n",
    "# Total Bags — всего упаковок\n",
    "# Small Bags — маленькие упаковки\n",
    "# Large Bags — большие\n",
    "# XLarge Bags — очень большие\n",
    "# type — обычный или органический\n",
    "# year — год\n",
    "# Region — город или регион the city or region of the observation\n",
    "# *PLU — код товара (Product Lookup code)\n",
    "# В датафрейме находятся данные не за каждый день, а за конец каждой недели.\n",
    "# Для каждой даты есть несколько наблюдений, отличающихся по типу авокадо и региону продажи.\n",
    "# Предположим, что нас это разделение не интересует, поэтому в avocado_mean записаны агрегированные данные, где:\n",
    "\n",
    "# avocado_mean = pd.read_csv(\"https://stepik.org/media/attachments/lesson/362453/avocado_mean.csv\",\n",
    "                          # index_col=0, squeeze=True, parse_dates=['Date'])\n",
    "\n",
    "\n"
   ]
  },
  {
   "cell_type": "code",
   "execution_count": 1,
   "metadata": {},
   "outputs": [],
   "source": [
    "import pandas as pd\n",
    "import numpy as np\n",
    "%matplotlib inline\n",
    "import matplotlib.pyplot as plt\n",
    "import seaborn as sns\n",
    "\n",
    "import plotly.express as px\n",
    "\n",
    "sns.set(\n",
    "    font_scale =2,\n",
    "    style      =\"whitegrid\",\n",
    "    rc         ={'figure.figsize':(20,7)}\n",
    ")\n",
    "\n",
    "\n",
    "path_to_file = 'avocado_mean.csv'\n",
    "avocado = pd.read_csv(path_to_file, parse_dates=['Date']) \\\n",
    "    .rename(columns = lambda col: col.lower())"
   ]
  },
  {
   "cell_type": "code",
   "execution_count": 2,
   "metadata": {},
   "outputs": [
    {
     "data": {
      "text/plain": [
       "140    1.84\n",
       "144    1.85\n",
       "143    1.85\n",
       "0       NaN\n",
       "1       NaN\n",
       "Name: averageprice, dtype: float64"
      ]
     },
     "execution_count": 2,
     "metadata": {},
     "output_type": "execute_result"
    }
   ],
   "source": [
    "# Посчитайте скользящее среднее цены авокадо (AveragePrice) с окном равным 3 (window).\n",
    "# Чему равно максимальное значение? Ответ округлите до 2 знаков после точки. \n",
    "\n",
    "avocado \\\n",
    "    .averageprice \\\n",
    "    .rolling(3) \\\n",
    "    .mean() \\\n",
    "    .round(2) \\\n",
    "    .sort_values() \\\n",
    "    .tail()"
   ]
  },
  {
   "cell_type": "code",
   "execution_count": 3,
   "metadata": {},
   "outputs": [
    {
     "data": {
      "text/html": [
       "<div>\n",
       "<style scoped>\n",
       "    .dataframe tbody tr th:only-of-type {\n",
       "        vertical-align: middle;\n",
       "    }\n",
       "\n",
       "    .dataframe tbody tr th {\n",
       "        vertical-align: top;\n",
       "    }\n",
       "\n",
       "    .dataframe thead th {\n",
       "        text-align: right;\n",
       "    }\n",
       "</style>\n",
       "<table border=\"1\" class=\"dataframe\">\n",
       "  <thead>\n",
       "    <tr style=\"text-align: right;\">\n",
       "      <th></th>\n",
       "      <th>date</th>\n",
       "      <th>averageprice</th>\n",
       "    </tr>\n",
       "  </thead>\n",
       "  <tbody>\n",
       "    <tr>\n",
       "      <th>0</th>\n",
       "      <td>2015-01-04</td>\n",
       "      <td>1.301296</td>\n",
       "    </tr>\n",
       "    <tr>\n",
       "      <th>1</th>\n",
       "      <td>2015-01-11</td>\n",
       "      <td>1.370648</td>\n",
       "    </tr>\n",
       "    <tr>\n",
       "      <th>2</th>\n",
       "      <td>2015-01-18</td>\n",
       "      <td>1.391111</td>\n",
       "    </tr>\n",
       "    <tr>\n",
       "      <th>3</th>\n",
       "      <td>2015-01-25</td>\n",
       "      <td>1.397130</td>\n",
       "    </tr>\n",
       "    <tr>\n",
       "      <th>4</th>\n",
       "      <td>2015-02-01</td>\n",
       "      <td>1.247037</td>\n",
       "    </tr>\n",
       "    <tr>\n",
       "      <th>...</th>\n",
       "      <td>...</td>\n",
       "      <td>...</td>\n",
       "    </tr>\n",
       "    <tr>\n",
       "      <th>164</th>\n",
       "      <td>2018-02-25</td>\n",
       "      <td>1.359630</td>\n",
       "    </tr>\n",
       "    <tr>\n",
       "      <th>165</th>\n",
       "      <td>2018-03-04</td>\n",
       "      <td>1.350185</td>\n",
       "    </tr>\n",
       "    <tr>\n",
       "      <th>166</th>\n",
       "      <td>2018-03-11</td>\n",
       "      <td>1.335093</td>\n",
       "    </tr>\n",
       "    <tr>\n",
       "      <th>167</th>\n",
       "      <td>2018-03-18</td>\n",
       "      <td>1.313704</td>\n",
       "    </tr>\n",
       "    <tr>\n",
       "      <th>168</th>\n",
       "      <td>2018-03-25</td>\n",
       "      <td>1.346852</td>\n",
       "    </tr>\n",
       "  </tbody>\n",
       "</table>\n",
       "<p>169 rows × 2 columns</p>\n",
       "</div>"
      ],
      "text/plain": [
       "          date  averageprice\n",
       "0   2015-01-04      1.301296\n",
       "1   2015-01-11      1.370648\n",
       "2   2015-01-18      1.391111\n",
       "3   2015-01-25      1.397130\n",
       "4   2015-02-01      1.247037\n",
       "..         ...           ...\n",
       "164 2018-02-25      1.359630\n",
       "165 2018-03-04      1.350185\n",
       "166 2018-03-11      1.335093\n",
       "167 2018-03-18      1.313704\n",
       "168 2018-03-25      1.346852\n",
       "\n",
       "[169 rows x 2 columns]"
      ]
     },
     "execution_count": 3,
     "metadata": {},
     "output_type": "execute_result"
    }
   ],
   "source": [
    "avocado"
   ]
  },
  {
   "cell_type": "code",
   "execution_count": 4,
   "metadata": {},
   "outputs": [
    {
     "name": "stderr",
     "output_type": "stream",
     "text": [
      "/opt/tljh/user/lib/python3.7/site-packages/seaborn/_decorators.py:43: FutureWarning: Pass the following variables as keyword args: x, y. From version 0.12, the only valid positional argument will be `data`, and passing other arguments without an explicit keyword will result in an error or misinterpretation.\n",
      "  FutureWarning\n"
     ]
    },
    {
     "data": {
      "text/plain": [
       "<matplotlib.axes._subplots.AxesSubplot at 0x7f128f6f2048>"
      ]
     },
     "execution_count": 4,
     "metadata": {},
     "output_type": "execute_result"
    },
    {
     "data": {
      "image/png": "[encoded data removed]",
      "text/plain": [
       "<Figure size 1440x504 with 1 Axes>"
      ]
     },
     "metadata": {},
     "output_type": "display_data"
    }
   ],
   "source": [
    "# Ваша задача — построить графики скользящего среднего с разными значениями параметра window (2, 4, 10, 50),\n",
    "# посмотреть на изменения и соотнести приведенные ниже картинки с соответствующим значением размера окна.\n",
    "\n",
    "avocado.averageprice = avocado.averageprice.rolling(2).mean()\n",
    "sns.lineplot(avocado.date, avocado.averageprice)"
   ]
  },
  {
   "cell_type": "code",
   "execution_count": 5,
   "metadata": {},
   "outputs": [
    {
     "name": "stderr",
     "output_type": "stream",
     "text": [
      "/opt/tljh/user/lib/python3.7/site-packages/seaborn/_decorators.py:43: FutureWarning: Pass the following variables as keyword args: x, y. From version 0.12, the only valid positional argument will be `data`, and passing other arguments without an explicit keyword will result in an error or misinterpretation.\n",
      "  FutureWarning\n"
     ]
    },
    {
     "data": {
      "text/plain": [
       "<matplotlib.axes._subplots.AxesSubplot at 0x7fd549ee3908>"
      ]
     },
     "execution_count": 5,
     "metadata": {},
     "output_type": "execute_result"
    },
    {
     "data": {
      "image/png": "[encoded data removed]",
      "text/plain": [
       "<Figure size 1440x504 with 1 Axes>"
      ]
     },
     "metadata": {},
     "output_type": "display_data"
    }
   ],
   "source": [
    "avocado.averageprice = avocado.averageprice.rolling(4).mean()\n",
    "sns.lineplot(avocado.date, avocado.averageprice)"
   ]
  },
  {
   "cell_type": "code",
   "execution_count": 5,
   "metadata": {},
   "outputs": [
    {
     "name": "stderr",
     "output_type": "stream",
     "text": [
      "/opt/tljh/user/lib/python3.7/site-packages/seaborn/_decorators.py:43: FutureWarning: Pass the following variables as keyword args: x, y. From version 0.12, the only valid positional argument will be `data`, and passing other arguments without an explicit keyword will result in an error or misinterpretation.\n",
      "  FutureWarning\n"
     ]
    },
    {
     "data": {
      "text/plain": [
       "<matplotlib.axes._subplots.AxesSubplot at 0x7f128ef516a0>"
      ]
     },
     "execution_count": 5,
     "metadata": {},
     "output_type": "execute_result"
    },
    {
     "data": {
      "image/png": "[encoded data removed]",
      "text/plain": [
       "<Figure size 1440x504 with 1 Axes>"
      ]
     },
     "metadata": {},
     "output_type": "display_data"
    }
   ],
   "source": [
    "avocado.averageprice = avocado.averageprice.rolling(10).mean()\n",
    "sns.lineplot(avocado.date, avocado.averageprice)"
   ]
  },
  {
   "cell_type": "code",
   "execution_count": 6,
   "metadata": {},
   "outputs": [
    {
     "name": "stderr",
     "output_type": "stream",
     "text": [
      "/opt/tljh/user/lib/python3.7/site-packages/seaborn/_decorators.py:43: FutureWarning: Pass the following variables as keyword args: x, y. From version 0.12, the only valid positional argument will be `data`, and passing other arguments without an explicit keyword will result in an error or misinterpretation.\n",
      "  FutureWarning\n"
     ]
    },
    {
     "data": {
      "text/plain": [
       "<matplotlib.axes._subplots.AxesSubplot at 0x7f128f1d5160>"
      ]
     },
     "execution_count": 6,
     "metadata": {},
     "output_type": "execute_result"
    },
    {
     "data": {
      "image/png": "[encoded data removed]",
      "text/plain": [
       "<Figure size 1440x504 with 1 Axes>"
      ]
     },
     "metadata": {},
     "output_type": "display_data"
    }
   ],
   "source": [
    "avocado.averageprice = avocado.averageprice.rolling(10).mean()\n",
    "sns.lineplot(avocado.date, avocado.averageprice)"
   ]
  },
  {
   "cell_type": "code",
   "execution_count": 7,
   "metadata": {},
   "outputs": [
    {
     "data": {
      "text/plain": [
       "0           NaN\n",
       "1           NaN\n",
       "2           NaN\n",
       "3           NaN\n",
       "4           NaN\n",
       "         ...   \n",
       "164    1.416942\n",
       "165    1.399585\n",
       "166    1.385832\n",
       "167    1.375384\n",
       "168    1.366901\n",
       "Name: averageprice, Length: 169, dtype: float64"
      ]
     },
     "execution_count": 7,
     "metadata": {},
     "output_type": "execute_result"
    }
   ],
   "source": [
    "# Используйте агрегированные данные о ценах на авокадо и примените функцию ewm() с параметром span=2,\n",
    "# чтобы получить экспоненциальное скользящее среднее. Запишите результат в avocado_ewm.\n",
    "\n",
    "avocado_ewm = avocado.averageprice.ewm(span=2).mean()\n",
    "avocado_ewm"
   ]
  },
  {
   "cell_type": "code",
   "execution_count": 4,
   "metadata": {},
   "outputs": [
    {
     "data": {
      "text/html": [
       "<div>\n",
       "<style scoped>\n",
       "    .dataframe tbody tr th:only-of-type {\n",
       "        vertical-align: middle;\n",
       "    }\n",
       "\n",
       "    .dataframe tbody tr th {\n",
       "        vertical-align: top;\n",
       "    }\n",
       "\n",
       "    .dataframe thead th {\n",
       "        text-align: right;\n",
       "    }\n",
       "</style>\n",
       "<table border=\"1\" class=\"dataframe\">\n",
       "  <thead>\n",
       "    <tr style=\"text-align: right;\">\n",
       "      <th></th>\n",
       "      <th>AveragePrice</th>\n",
       "      <th>Total Volume</th>\n",
       "      <th>4046</th>\n",
       "      <th>4225</th>\n",
       "      <th>4770</th>\n",
       "      <th>Total Bags</th>\n",
       "      <th>Small Bags</th>\n",
       "      <th>Large Bags</th>\n",
       "      <th>XLarge Bags</th>\n",
       "      <th>type</th>\n",
       "      <th>year</th>\n",
       "      <th>region</th>\n",
       "    </tr>\n",
       "    <tr>\n",
       "      <th>Date</th>\n",
       "      <th></th>\n",
       "      <th></th>\n",
       "      <th></th>\n",
       "      <th></th>\n",
       "      <th></th>\n",
       "      <th></th>\n",
       "      <th></th>\n",
       "      <th></th>\n",
       "      <th></th>\n",
       "      <th></th>\n",
       "      <th></th>\n",
       "      <th></th>\n",
       "    </tr>\n",
       "  </thead>\n",
       "  <tbody>\n",
       "    <tr>\n",
       "      <th>2015-01-04</th>\n",
       "      <td>1.75</td>\n",
       "      <td>27365.89</td>\n",
       "      <td>9307.34</td>\n",
       "      <td>3844.81</td>\n",
       "      <td>615.28</td>\n",
       "      <td>13598.46</td>\n",
       "      <td>13061.10</td>\n",
       "      <td>537.36</td>\n",
       "      <td>0.00</td>\n",
       "      <td>organic</td>\n",
       "      <td>2015</td>\n",
       "      <td>Southeast</td>\n",
       "    </tr>\n",
       "    <tr>\n",
       "      <th>2015-01-04</th>\n",
       "      <td>1.49</td>\n",
       "      <td>17723.17</td>\n",
       "      <td>1189.35</td>\n",
       "      <td>15628.27</td>\n",
       "      <td>0.00</td>\n",
       "      <td>905.55</td>\n",
       "      <td>905.55</td>\n",
       "      <td>0.00</td>\n",
       "      <td>0.00</td>\n",
       "      <td>organic</td>\n",
       "      <td>2015</td>\n",
       "      <td>Chicago</td>\n",
       "    </tr>\n",
       "    <tr>\n",
       "      <th>2015-01-04</th>\n",
       "      <td>1.68</td>\n",
       "      <td>2896.72</td>\n",
       "      <td>161.68</td>\n",
       "      <td>206.96</td>\n",
       "      <td>0.00</td>\n",
       "      <td>2528.08</td>\n",
       "      <td>2528.08</td>\n",
       "      <td>0.00</td>\n",
       "      <td>0.00</td>\n",
       "      <td>organic</td>\n",
       "      <td>2015</td>\n",
       "      <td>HarrisburgScranton</td>\n",
       "    </tr>\n",
       "    <tr>\n",
       "      <th>2015-01-04</th>\n",
       "      <td>1.52</td>\n",
       "      <td>54956.80</td>\n",
       "      <td>3013.04</td>\n",
       "      <td>35456.88</td>\n",
       "      <td>1561.70</td>\n",
       "      <td>14925.18</td>\n",
       "      <td>11264.80</td>\n",
       "      <td>3660.38</td>\n",
       "      <td>0.00</td>\n",
       "      <td>conventional</td>\n",
       "      <td>2015</td>\n",
       "      <td>Pittsburgh</td>\n",
       "    </tr>\n",
       "    <tr>\n",
       "      <th>2015-01-04</th>\n",
       "      <td>1.64</td>\n",
       "      <td>1505.12</td>\n",
       "      <td>1.27</td>\n",
       "      <td>1129.50</td>\n",
       "      <td>0.00</td>\n",
       "      <td>374.35</td>\n",
       "      <td>186.67</td>\n",
       "      <td>187.68</td>\n",
       "      <td>0.00</td>\n",
       "      <td>organic</td>\n",
       "      <td>2015</td>\n",
       "      <td>Boise</td>\n",
       "    </tr>\n",
       "    <tr>\n",
       "      <th>...</th>\n",
       "      <td>...</td>\n",
       "      <td>...</td>\n",
       "      <td>...</td>\n",
       "      <td>...</td>\n",
       "      <td>...</td>\n",
       "      <td>...</td>\n",
       "      <td>...</td>\n",
       "      <td>...</td>\n",
       "      <td>...</td>\n",
       "      <td>...</td>\n",
       "      <td>...</td>\n",
       "      <td>...</td>\n",
       "    </tr>\n",
       "    <tr>\n",
       "      <th>2018-03-25</th>\n",
       "      <td>1.36</td>\n",
       "      <td>908202.13</td>\n",
       "      <td>142681.06</td>\n",
       "      <td>463136.28</td>\n",
       "      <td>174975.75</td>\n",
       "      <td>127409.04</td>\n",
       "      <td>103579.41</td>\n",
       "      <td>22467.04</td>\n",
       "      <td>1362.59</td>\n",
       "      <td>conventional</td>\n",
       "      <td>2018</td>\n",
       "      <td>Chicago</td>\n",
       "    </tr>\n",
       "    <tr>\n",
       "      <th>2018-03-25</th>\n",
       "      <td>0.70</td>\n",
       "      <td>9010588.32</td>\n",
       "      <td>3999735.71</td>\n",
       "      <td>966589.50</td>\n",
       "      <td>30130.82</td>\n",
       "      <td>4014132.29</td>\n",
       "      <td>3398569.92</td>\n",
       "      <td>546409.74</td>\n",
       "      <td>69152.63</td>\n",
       "      <td>conventional</td>\n",
       "      <td>2018</td>\n",
       "      <td>SouthCentral</td>\n",
       "    </tr>\n",
       "    <tr>\n",
       "      <th>2018-03-25</th>\n",
       "      <td>1.42</td>\n",
       "      <td>163496.70</td>\n",
       "      <td>29253.30</td>\n",
       "      <td>5080.04</td>\n",
       "      <td>0.00</td>\n",
       "      <td>129163.36</td>\n",
       "      <td>109052.26</td>\n",
       "      <td>20111.10</td>\n",
       "      <td>0.00</td>\n",
       "      <td>organic</td>\n",
       "      <td>2018</td>\n",
       "      <td>SouthCentral</td>\n",
       "    </tr>\n",
       "    <tr>\n",
       "      <th>2018-03-25</th>\n",
       "      <td>1.70</td>\n",
       "      <td>190257.38</td>\n",
       "      <td>29644.09</td>\n",
       "      <td>70982.10</td>\n",
       "      <td>0.00</td>\n",
       "      <td>89631.19</td>\n",
       "      <td>89424.11</td>\n",
       "      <td>207.08</td>\n",
       "      <td>0.00</td>\n",
       "      <td>organic</td>\n",
       "      <td>2018</td>\n",
       "      <td>California</td>\n",
       "    </tr>\n",
       "    <tr>\n",
       "      <th>2018-03-25</th>\n",
       "      <td>1.34</td>\n",
       "      <td>1774776.77</td>\n",
       "      <td>63905.98</td>\n",
       "      <td>908653.71</td>\n",
       "      <td>843.45</td>\n",
       "      <td>801373.63</td>\n",
       "      <td>774634.09</td>\n",
       "      <td>23833.93</td>\n",
       "      <td>2905.61</td>\n",
       "      <td>conventional</td>\n",
       "      <td>2018</td>\n",
       "      <td>NewYork</td>\n",
       "    </tr>\n",
       "  </tbody>\n",
       "</table>\n",
       "<p>18249 rows × 12 columns</p>\n",
       "</div>"
      ],
      "text/plain": [
       "            AveragePrice  Total Volume        4046       4225       4770  \\\n",
       "Date                                                                       \n",
       "2015-01-04          1.75      27365.89     9307.34    3844.81     615.28   \n",
       "2015-01-04          1.49      17723.17     1189.35   15628.27       0.00   \n",
       "2015-01-04          1.68       2896.72      161.68     206.96       0.00   \n",
       "2015-01-04          1.52      54956.80     3013.04   35456.88    1561.70   \n",
       "2015-01-04          1.64       1505.12        1.27    1129.50       0.00   \n",
       "...                  ...           ...         ...        ...        ...   \n",
       "2018-03-25          1.36     908202.13   142681.06  463136.28  174975.75   \n",
       "2018-03-25          0.70    9010588.32  3999735.71  966589.50   30130.82   \n",
       "2018-03-25          1.42     163496.70    29253.30    5080.04       0.00   \n",
       "2018-03-25          1.70     190257.38    29644.09   70982.10       0.00   \n",
       "2018-03-25          1.34    1774776.77    63905.98  908653.71     843.45   \n",
       "\n",
       "            Total Bags  Small Bags  Large Bags  XLarge Bags          type  \\\n",
       "Date                                                                        \n",
       "2015-01-04    13598.46    13061.10      537.36         0.00       organic   \n",
       "2015-01-04      905.55      905.55        0.00         0.00       organic   \n",
       "2015-01-04     2528.08     2528.08        0.00         0.00       organic   \n",
       "2015-01-04    14925.18    11264.80     3660.38         0.00  conventional   \n",
       "2015-01-04      374.35      186.67      187.68         0.00       organic   \n",
       "...                ...         ...         ...          ...           ...   \n",
       "2018-03-25   127409.04   103579.41    22467.04      1362.59  conventional   \n",
       "2018-03-25  4014132.29  3398569.92   546409.74     69152.63  conventional   \n",
       "2018-03-25   129163.36   109052.26    20111.10         0.00       organic   \n",
       "2018-03-25    89631.19    89424.11      207.08         0.00       organic   \n",
       "2018-03-25   801373.63   774634.09    23833.93      2905.61  conventional   \n",
       "\n",
       "            year              region  \n",
       "Date                                  \n",
       "2015-01-04  2015           Southeast  \n",
       "2015-01-04  2015             Chicago  \n",
       "2015-01-04  2015  HarrisburgScranton  \n",
       "2015-01-04  2015          Pittsburgh  \n",
       "2015-01-04  2015               Boise  \n",
       "...          ...                 ...  \n",
       "2018-03-25  2018             Chicago  \n",
       "2018-03-25  2018        SouthCentral  \n",
       "2018-03-25  2018        SouthCentral  \n",
       "2018-03-25  2018          California  \n",
       "2018-03-25  2018             NewYork  \n",
       "\n",
       "[18249 rows x 12 columns]"
      ]
     },
     "execution_count": 4,
     "metadata": {},
     "output_type": "execute_result"
    }
   ],
   "source": [
    "# Импортируйте полные данные, указав index_col=0 (использовать первую колонку как индекс).\n",
    "# Для авокадо типа organic (type) в Чикаго (region) посчитайте скользящее среднее с окном 4\n",
    "# и экспоненциальное скользящее среднее с параметром span=4.\n",
    "# Постройте графики, а затем заполните пропуски. Числа округлите до трех знаков после точки.\n",
    "\n",
    "path_2 = 'avocado_full.csv'\n",
    "df = pd.read_csv(path_2, index_col = 0, parse_dates = ['Date'])\n",
    "df"
   ]
  },
  {
   "cell_type": "code",
   "execution_count": 26,
   "metadata": {},
   "outputs": [
    {
     "data": {
      "application/vnd.plotly.v1+json": {
       "config": {
        "plotlyServerURL": "https://plot.ly"
       },
       "data": [
        {
         "hovertemplate": "variable=AveragePrice<br>Date=%{x}<br>value=%{y}<extra></extra>",
         "legendgroup": "AveragePrice",
         "line": {
          "color": "#636efa",
          "dash": "solid"
         },
         "mode": "lines",
         "name": "AveragePrice",
         "orientation": "v",
         "showlegend": true,
         "type": "scatter",
         "x": [
          "2015-01-04T00:00:00",
          "2015-01-11T00:00:00",
          "2015-01-18T00:00:00",
          "2015-01-25T00:00:00",
          "2015-02-01T00:00:00",
          "2015-02-08T00:00:00",
          "2015-02-15T00:00:00",
          "2015-02-22T00:00:00",
          "2015-03-01T00:00:00",
          "2015-03-08T00:00:00",
          "2015-03-15T00:00:00",
          "2015-03-22T00:00:00",
          "2015-03-29T00:00:00",
          "2015-04-05T00:00:00",
          "2015-04-12T00:00:00",
          "2015-04-19T00:00:00",
          "2015-04-26T00:00:00",
          "2015-05-03T00:00:00",
          "2015-05-10T00:00:00",
          "2015-05-17T00:00:00",
          "2015-05-24T00:00:00",
          "2015-05-31T00:00:00",
          "2015-06-07T00:00:00",
          "2015-06-14T00:00:00",
          "2015-06-21T00:00:00",
          "2015-06-28T00:00:00",
          "2015-07-05T00:00:00",
          "2015-07-12T00:00:00",
          "2015-07-19T00:00:00",
          "2015-07-26T00:00:00",
          "2015-08-02T00:00:00",
          "2015-08-09T00:00:00",
          "2015-08-16T00:00:00",
          "2015-08-23T00:00:00",
          "2015-08-30T00:00:00",
          "2015-09-06T00:00:00",
          "2015-09-13T00:00:00",
          "2015-09-20T00:00:00",
          "2015-09-27T00:00:00",
          "2015-10-04T00:00:00",
          "2015-10-11T00:00:00",
          "2015-10-18T00:00:00",
          "2015-10-25T00:00:00",
          "2015-11-01T00:00:00",
          "2015-11-08T00:00:00",
          "2015-11-15T00:00:00",
          "2015-11-22T00:00:00",
          "2015-11-29T00:00:00",
          "2015-12-06T00:00:00",
          "2015-12-13T00:00:00",
          "2015-12-20T00:00:00",
          "2015-12-27T00:00:00",
          "2016-01-03T00:00:00",
          "2016-01-10T00:00:00",
          "2016-01-17T00:00:00",
          "2016-01-24T00:00:00",
          "2016-01-31T00:00:00",
          "2016-02-07T00:00:00",
          "2016-02-14T00:00:00",
          "2016-02-21T00:00:00",
          "2016-02-28T00:00:00",
          "2016-03-06T00:00:00",
          "2016-03-13T00:00:00",
          "2016-03-20T00:00:00",
          "2016-03-27T00:00:00",
          "2016-04-03T00:00:00",
          "2016-04-10T00:00:00",
          "2016-04-17T00:00:00",
          "2016-04-24T00:00:00",
          "2016-05-01T00:00:00",
          "2016-05-08T00:00:00",
          "2016-05-15T00:00:00",
          "2016-05-22T00:00:00",
          "2016-05-29T00:00:00",
          "2016-06-05T00:00:00",
          "2016-06-12T00:00:00",
          "2016-06-19T00:00:00",
          "2016-06-26T00:00:00",
          "2016-07-03T00:00:00",
          "2016-07-10T00:00:00",
          "2016-07-17T00:00:00",
          "2016-07-24T00:00:00",
          "2016-07-31T00:00:00",
          "2016-08-07T00:00:00",
          "2016-08-14T00:00:00",
          "2016-08-21T00:00:00",
          "2016-08-28T00:00:00",
          "2016-09-04T00:00:00",
          "2016-09-11T00:00:00",
          "2016-09-18T00:00:00",
          "2016-09-25T00:00:00",
          "2016-10-02T00:00:00",
          "2016-10-09T00:00:00",
          "2016-10-16T00:00:00",
          "2016-10-23T00:00:00",
          "2016-10-30T00:00:00",
          "2016-11-06T00:00:00",
          "2016-11-13T00:00:00",
          "2016-11-20T00:00:00",
          "2016-11-27T00:00:00",
          "2016-12-04T00:00:00",
          "2016-12-11T00:00:00",
          "2016-12-18T00:00:00",
          "2016-12-25T00:00:00",
          "2017-01-01T00:00:00",
          "2017-01-08T00:00:00",
          "2017-01-15T00:00:00",
          "2017-01-22T00:00:00",
          "2017-01-29T00:00:00",
          "2017-02-05T00:00:00",
          "2017-02-12T00:00:00",
          "2017-02-19T00:00:00",
          "2017-02-26T00:00:00",
          "2017-03-05T00:00:00",
          "2017-03-12T00:00:00",
          "2017-03-19T00:00:00",
          "2017-03-26T00:00:00",
          "2017-04-02T00:00:00",
          "2017-04-09T00:00:00",
          "2017-04-16T00:00:00",
          "2017-04-23T00:00:00",
          "2017-04-30T00:00:00",
          "2017-05-07T00:00:00",
          "2017-05-14T00:00:00",
          "2017-05-21T00:00:00",
          "2017-05-28T00:00:00",
          "2017-06-04T00:00:00",
          "2017-06-11T00:00:00",
          "2017-06-18T00:00:00",
          "2017-06-25T00:00:00",
          "2017-07-02T00:00:00",
          "2017-07-09T00:00:00",
          "2017-07-16T00:00:00",
          "2017-07-23T00:00:00",
          "2017-07-30T00:00:00",
          "2017-08-06T00:00:00",
          "2017-08-13T00:00:00",
          "2017-08-20T00:00:00",
          "2017-08-27T00:00:00",
          "2017-09-03T00:00:00",
          "2017-09-10T00:00:00",
          "2017-09-17T00:00:00",
          "2017-09-24T00:00:00",
          "2017-10-01T00:00:00",
          "2017-10-08T00:00:00",
          "2017-10-15T00:00:00",
          "2017-10-22T00:00:00",
          "2017-10-29T00:00:00",
          "2017-11-05T00:00:00",
          "2017-11-12T00:00:00",
          "2017-11-19T00:00:00",
          "2017-11-26T00:00:00",
          "2017-12-03T00:00:00",
          "2017-12-10T00:00:00",
          "2017-12-17T00:00:00",
          "2017-12-24T00:00:00",
          "2017-12-31T00:00:00",
          "2018-01-07T00:00:00",
          "2018-01-14T00:00:00",
          "2018-01-21T00:00:00",
          "2018-01-28T00:00:00",
          "2018-02-04T00:00:00",
          "2018-02-11T00:00:00",
          "2018-02-18T00:00:00",
          "2018-02-25T00:00:00",
          "2018-03-04T00:00:00",
          "2018-03-11T00:00:00",
          "2018-03-18T00:00:00",
          "2018-03-25T00:00:00"
         ],
         "xaxis": "x",
         "y": [
          null,
          null,
          null,
          1.73,
          1.737,
          1.735,
          1.735,
          1.735,
          1.81,
          1.77,
          1.727,
          1.687,
          1.647,
          1.655,
          1.57,
          1.54,
          1.502,
          1.467,
          1.51,
          1.515,
          1.602,
          1.687,
          1.782,
          1.857,
          1.847,
          1.805,
          1.76,
          1.707,
          1.665,
          1.65,
          1.63,
          1.62,
          1.612,
          1.61,
          1.612,
          1.61,
          1.607,
          1.605,
          1.622,
          1.665,
          1.685,
          1.732,
          1.717,
          1.672,
          1.647,
          1.595,
          1.585,
          1.582,
          1.582,
          1.585,
          1.587,
          1.585,
          1.592,
          1.6,
          1.585,
          1.595,
          1.592,
          1.587,
          1.602,
          1.585,
          1.582,
          1.555,
          1.535,
          1.522,
          1.497,
          1.54,
          1.585,
          1.597,
          1.63,
          1.617,
          1.602,
          1.617,
          1.542,
          1.41,
          1.315,
          1.295,
          1.345,
          1.525,
          1.59,
          1.71,
          1.8,
          1.832,
          1.985,
          2.015,
          2.065,
          2.102,
          2.097,
          2.085,
          2.08,
          2.075,
          2.065,
          2.057,
          2.05,
          2.062,
          2.1,
          2.145,
          2.195,
          2.23,
          2.255,
          2.272,
          2.14,
          1.907,
          1.667,
          1.427,
          1.335,
          1.457,
          1.585,
          1.627,
          1.67,
          1.59,
          1.51,
          1.532,
          1.577,
          1.615,
          1.715,
          1.735,
          1.73,
          1.805,
          1.81,
          1.825,
          1.825,
          1.832,
          1.832,
          1.88,
          1.947,
          1.937,
          1.935,
          1.942,
          1.953,
          1.965,
          1.975,
          1.983,
          1.945,
          1.92,
          1.9,
          1.838,
          1.802,
          1.76,
          1.812,
          1.89,
          1.957,
          2.062,
          2.015,
          1.962,
          1.922,
          1.865,
          1.91,
          1.965,
          2.002,
          2.042,
          1.965,
          1.882,
          1.832,
          1.73,
          1.63,
          1.65,
          1.66,
          1.705,
          1.805,
          1.807,
          1.79,
          1.737,
          1.702,
          1.662,
          1.652,
          1.652,
          1.655,
          1.655,
          1.657
         ],
         "yaxis": "y"
        }
       ],
       "layout": {
        "legend": {
         "title": {
          "text": "variable"
         },
         "tracegroupgap": 0
        },
        "margin": {
         "t": 60
        },
        "template": {
         "data": {
          "bar": [
           {
            "error_x": {
             "color": "#2a3f5f"
            },
            "error_y": {
             "color": "#2a3f5f"
            },
            "marker": {
             "line": {
              "color": "#E5ECF6",
              "width": 0.5
             }
            },
            "type": "bar"
           }
          ],
          "barpolar": [
           {
            "marker": {
             "line": {
              "color": "#E5ECF6",
              "width": 0.5
             }
            },
            "type": "barpolar"
           }
          ],
          "carpet": [
           {
            "aaxis": {
             "endlinecolor": "#2a3f5f",
             "gridcolor": "white",
             "linecolor": "white",
             "minorgridcolor": "white",
             "startlinecolor": "#2a3f5f"
            },
            "baxis": {
             "endlinecolor": "#2a3f5f",
             "gridcolor": "white",
             "linecolor": "white",
             "minorgridcolor": "white",
             "startlinecolor": "#2a3f5f"
            },
            "type": "carpet"
           }
          ],
          "choropleth": [
           {
            "colorbar": {
             "outlinewidth": 0,
             "ticks": ""
            },
            "type": "choropleth"
           }
          ],
          "contour": [
           {
            "colorbar": {
             "outlinewidth": 0,
             "ticks": ""
            },
            "colorscale": [
             [
              0,
              "#0d0887"
             ],
             [
              0.1111111111111111,
              "#46039f"
             ],
             [
              0.2222222222222222,
              "#7201a8"
             ],
             [
              0.3333333333333333,
              "#9c179e"
             ],
             [
              0.4444444444444444,
              "#bd3786"
             ],
             [
              0.5555555555555556,
              "#d8576b"
             ],
             [
              0.6666666666666666,
              "#ed7953"
             ],
             [
              0.7777777777777778,
              "#fb9f3a"
             ],
             [
              0.8888888888888888,
              "#fdca26"
             ],
             [
              1,
              "#f0f921"
             ]
            ],
            "type": "contour"
           }
          ],
          "contourcarpet": [
           {
            "colorbar": {
             "outlinewidth": 0,
             "ticks": ""
            },
            "type": "contourcarpet"
           }
          ],
          "heatmap": [
           {
            "colorbar": {
             "outlinewidth": 0,
             "ticks": ""
            },
            "colorscale": [
             [
              0,
              "#0d0887"
             ],
             [
              0.1111111111111111,
              "#46039f"
             ],
             [
              0.2222222222222222,
              "#7201a8"
             ],
             [
              0.3333333333333333,
              "#9c179e"
             ],
             [
              0.4444444444444444,
              "#bd3786"
             ],
             [
              0.5555555555555556,
              "#d8576b"
             ],
             [
              0.6666666666666666,
              "#ed7953"
             ],
             [
              0.7777777777777778,
              "#fb9f3a"
             ],
             [
              0.8888888888888888,
              "#fdca26"
             ],
             [
              1,
              "#f0f921"
             ]
            ],
            "type": "heatmap"
           }
          ],
          "heatmapgl": [
           {
            "colorbar": {
             "outlinewidth": 0,
             "ticks": ""
            },
            "colorscale": [
             [
              0,
              "#0d0887"
             ],
             [
              0.1111111111111111,
              "#46039f"
             ],
             [
              0.2222222222222222,
              "#7201a8"
             ],
             [
              0.3333333333333333,
              "#9c179e"
             ],
             [
              0.4444444444444444,
              "#bd3786"
             ],
             [
              0.5555555555555556,
              "#d8576b"
             ],
             [
              0.6666666666666666,
              "#ed7953"
             ],
             [
              0.7777777777777778,
              "#fb9f3a"
             ],
             [
              0.8888888888888888,
              "#fdca26"
             ],
             [
              1,
              "#f0f921"
             ]
            ],
            "type": "heatmapgl"
           }
          ],
          "histogram": [
           {
            "marker": {
             "colorbar": {
              "outlinewidth": 0,
              "ticks": ""
             }
            },
            "type": "histogram"
           }
          ],
          "histogram2d": [
           {
            "colorbar": {
             "outlinewidth": 0,
             "ticks": ""
            },
            "colorscale": [
             [
              0,
              "#0d0887"
             ],
             [
              0.1111111111111111,
              "#46039f"
             ],
             [
              0.2222222222222222,
              "#7201a8"
             ],
             [
              0.3333333333333333,
              "#9c179e"
             ],
             [
              0.4444444444444444,
              "#bd3786"
             ],
             [
              0.5555555555555556,
              "#d8576b"
             ],
             [
              0.6666666666666666,
              "#ed7953"
             ],
             [
              0.7777777777777778,
              "#fb9f3a"
             ],
             [
              0.8888888888888888,
              "#fdca26"
             ],
             [
              1,
              "#f0f921"
             ]
            ],
            "type": "histogram2d"
           }
          ],
          "histogram2dcontour": [
           {
            "colorbar": {
             "outlinewidth": 0,
             "ticks": ""
            },
            "colorscale": [
             [
              0,
              "#0d0887"
             ],
             [
              0.1111111111111111,
              "#46039f"
             ],
             [
              0.2222222222222222,
              "#7201a8"
             ],
             [
              0.3333333333333333,
              "#9c179e"
             ],
             [
              0.4444444444444444,
              "#bd3786"
             ],
             [
              0.5555555555555556,
              "#d8576b"
             ],
             [
              0.6666666666666666,
              "#ed7953"
             ],
             [
              0.7777777777777778,
              "#fb9f3a"
             ],
             [
              0.8888888888888888,
              "#fdca26"
             ],
             [
              1,
              "#f0f921"
             ]
            ],
            "type": "histogram2dcontour"
           }
          ],
          "mesh3d": [
           {
            "colorbar": {
             "outlinewidth": 0,
             "ticks": ""
            },
            "type": "mesh3d"
           }
          ],
          "parcoords": [
           {
            "line": {
             "colorbar": {
              "outlinewidth": 0,
              "ticks": ""
             }
            },
            "type": "parcoords"
           }
          ],
          "pie": [
           {
            "automargin": true,
            "type": "pie"
           }
          ],
          "scatter": [
           {
            "marker": {
             "colorbar": {
              "outlinewidth": 0,
              "ticks": ""
             }
            },
            "type": "scatter"
           }
          ],
          "scatter3d": [
           {
            "line": {
             "colorbar": {
              "outlinewidth": 0,
              "ticks": ""
             }
            },
            "marker": {
             "colorbar": {
              "outlinewidth": 0,
              "ticks": ""
             }
            },
            "type": "scatter3d"
           }
          ],
          "scattercarpet": [
           {
            "marker": {
             "colorbar": {
              "outlinewidth": 0,
              "ticks": ""
             }
            },
            "type": "scattercarpet"
           }
          ],
          "scattergeo": [
           {
            "marker": {
             "colorbar": {
              "outlinewidth": 0,
              "ticks": ""
             }
            },
            "type": "scattergeo"
           }
          ],
          "scattergl": [
           {
            "marker": {
             "colorbar": {
              "outlinewidth": 0,
              "ticks": ""
             }
            },
            "type": "scattergl"
           }
          ],
          "scattermapbox": [
           {
            "marker": {
             "colorbar": {
              "outlinewidth": 0,
              "ticks": ""
             }
            },
            "type": "scattermapbox"
           }
          ],
          "scatterpolar": [
           {
            "marker": {
             "colorbar": {
              "outlinewidth": 0,
              "ticks": ""
             }
            },
            "type": "scatterpolar"
           }
          ],
          "scatterpolargl": [
           {
            "marker": {
             "colorbar": {
              "outlinewidth": 0,
              "ticks": ""
             }
            },
            "type": "scatterpolargl"
           }
          ],
          "scatterternary": [
           {
            "marker": {
             "colorbar": {
              "outlinewidth": 0,
              "ticks": ""
             }
            },
            "type": "scatterternary"
           }
          ],
          "surface": [
           {
            "colorbar": {
             "outlinewidth": 0,
             "ticks": ""
            },
            "colorscale": [
             [
              0,
              "#0d0887"
             ],
             [
              0.1111111111111111,
              "#46039f"
             ],
             [
              0.2222222222222222,
              "#7201a8"
             ],
             [
              0.3333333333333333,
              "#9c179e"
             ],
             [
              0.4444444444444444,
              "#bd3786"
             ],
             [
              0.5555555555555556,
              "#d8576b"
             ],
             [
              0.6666666666666666,
              "#ed7953"
             ],
             [
              0.7777777777777778,
              "#fb9f3a"
             ],
             [
              0.8888888888888888,
              "#fdca26"
             ],
             [
              1,
              "#f0f921"
             ]
            ],
            "type": "surface"
           }
          ],
          "table": [
           {
            "cells": {
             "fill": {
              "color": "#EBF0F8"
             },
             "line": {
              "color": "white"
             }
            },
            "header": {
             "fill": {
              "color": "#C8D4E3"
             },
             "line": {
              "color": "white"
             }
            },
            "type": "table"
           }
          ]
         },
         "layout": {
          "annotationdefaults": {
           "arrowcolor": "#2a3f5f",
           "arrowhead": 0,
           "arrowwidth": 1
          },
          "coloraxis": {
           "colorbar": {
            "outlinewidth": 0,
            "ticks": ""
           }
          },
          "colorscale": {
           "diverging": [
            [
             0,
             "#8e0152"
            ],
            [
             0.1,
             "#c51b7d"
            ],
            [
             0.2,
             "#de77ae"
            ],
            [
             0.3,
             "#f1b6da"
            ],
            [
             0.4,
             "#fde0ef"
            ],
            [
             0.5,
             "#f7f7f7"
            ],
            [
             0.6,
             "#e6f5d0"
            ],
            [
             0.7,
             "#b8e186"
            ],
            [
             0.8,
             "#7fbc41"
            ],
            [
             0.9,
             "#4d9221"
            ],
            [
             1,
             "#276419"
            ]
           ],
           "sequential": [
            [
             0,
             "#0d0887"
            ],
            [
             0.1111111111111111,
             "#46039f"
            ],
            [
             0.2222222222222222,
             "#7201a8"
            ],
            [
             0.3333333333333333,
             "#9c179e"
            ],
            [
             0.4444444444444444,
             "#bd3786"
            ],
            [
             0.5555555555555556,
             "#d8576b"
            ],
            [
             0.6666666666666666,
             "#ed7953"
            ],
            [
             0.7777777777777778,
             "#fb9f3a"
            ],
            [
             0.8888888888888888,
             "#fdca26"
            ],
            [
             1,
             "#f0f921"
            ]
           ],
           "sequentialminus": [
            [
             0,
             "#0d0887"
            ],
            [
             0.1111111111111111,
             "#46039f"
            ],
            [
             0.2222222222222222,
             "#7201a8"
            ],
            [
             0.3333333333333333,
             "#9c179e"
            ],
            [
             0.4444444444444444,
             "#bd3786"
            ],
            [
             0.5555555555555556,
             "#d8576b"
            ],
            [
             0.6666666666666666,
             "#ed7953"
            ],
            [
             0.7777777777777778,
             "#fb9f3a"
            ],
            [
             0.8888888888888888,
             "#fdca26"
            ],
            [
             1,
             "#f0f921"
            ]
           ]
          },
          "colorway": [
           "#636efa",
           "#EF553B",
           "#00cc96",
           "#ab63fa",
           "#FFA15A",
           "#19d3f3",
           "#FF6692",
           "#B6E880",
           "#FF97FF",
           "#FECB52"
          ],
          "font": {
           "color": "#2a3f5f"
          },
          "geo": {
           "bgcolor": "white",
           "lakecolor": "white",
           "landcolor": "#E5ECF6",
           "showlakes": true,
           "showland": true,
           "subunitcolor": "white"
          },
          "hoverlabel": {
           "align": "left"
          },
          "hovermode": "closest",
          "mapbox": {
           "style": "light"
          },
          "paper_bgcolor": "white",
          "plot_bgcolor": "#E5ECF6",
          "polar": {
           "angularaxis": {
            "gridcolor": "white",
            "linecolor": "white",
            "ticks": ""
           },
           "bgcolor": "#E5ECF6",
           "radialaxis": {
            "gridcolor": "white",
            "linecolor": "white",
            "ticks": ""
           }
          },
          "scene": {
           "xaxis": {
            "backgroundcolor": "#E5ECF6",
            "gridcolor": "white",
            "gridwidth": 2,
            "linecolor": "white",
            "showbackground": true,
            "ticks": "",
            "zerolinecolor": "white"
           },
           "yaxis": {
            "backgroundcolor": "#E5ECF6",
            "gridcolor": "white",
            "gridwidth": 2,
            "linecolor": "white",
            "showbackground": true,
            "ticks": "",
            "zerolinecolor": "white"
           },
           "zaxis": {
            "backgroundcolor": "#E5ECF6",
            "gridcolor": "white",
            "gridwidth": 2,
            "linecolor": "white",
            "showbackground": true,
            "ticks": "",
            "zerolinecolor": "white"
           }
          },
          "shapedefaults": {
           "line": {
            "color": "#2a3f5f"
           }
          },
          "ternary": {
           "aaxis": {
            "gridcolor": "white",
            "linecolor": "white",
            "ticks": ""
           },
           "baxis": {
            "gridcolor": "white",
            "linecolor": "white",
            "ticks": ""
           },
           "bgcolor": "#E5ECF6",
           "caxis": {
            "gridcolor": "white",
            "linecolor": "white",
            "ticks": ""
           }
          },
          "title": {
           "x": 0.05
          },
          "xaxis": {
           "automargin": true,
           "gridcolor": "white",
           "linecolor": "white",
           "ticks": "",
           "title": {
            "standoff": 15
           },
           "zerolinecolor": "white",
           "zerolinewidth": 2
          },
          "yaxis": {
           "automargin": true,
           "gridcolor": "white",
           "linecolor": "white",
           "ticks": "",
           "title": {
            "standoff": 15
           },
           "zerolinecolor": "white",
           "zerolinewidth": 2
          }
         }
        },
        "xaxis": {
         "anchor": "y",
         "domain": [
          0,
          1
         ],
         "title": {
          "text": "Date"
         }
        },
        "yaxis": {
         "anchor": "x",
         "domain": [
          0,
          1
         ],
         "title": {
          "text": "value"
         }
        }
       }
      },
      "text/html": [
       "<div>\n",
       "        \n",
       "        \n",
       "            <div id=\"1eb53258-75f4-4707-9106-dd32c8c7aaa5\" class=\"plotly-graph-div\" style=\"height:525px; width:100%;\"></div>\n",
       "            <script type=\"text/javascript\">\n",
       "                require([\"plotly\"], function(Plotly) {\n",
       "                    window.PLOTLYENV=window.PLOTLYENV || {};\n",
       "                    \n",
       "                if (document.getElementById(\"1eb53258-75f4-4707-9106-dd32c8c7aaa5\")) {\n",
       "                    Plotly.newPlot(\n",
       "                        '1eb53258-75f4-4707-9106-dd32c8c7aaa5',\n",
       "                        [{\"hovertemplate\": \"variable=AveragePrice<br>Date=%{x}<br>value=%{y}<extra></extra>\", \"legendgroup\": \"AveragePrice\", \"line\": {\"color\": \"#636efa\", \"dash\": \"solid\"}, \"mode\": \"lines\", \"name\": \"AveragePrice\", \"orientation\": \"v\", \"showlegend\": true, \"type\": \"scatter\", \"x\": [\"2015-01-04T00:00:00\", \"2015-01-11T00:00:00\", \"2015-01-18T00:00:00\", \"2015-01-25T00:00:00\", \"2015-02-01T00:00:00\", \"2015-02-08T00:00:00\", \"2015-02-15T00:00:00\", \"2015-02-22T00:00:00\", \"2015-03-01T00:00:00\", \"2015-03-08T00:00:00\", \"2015-03-15T00:00:00\", \"2015-03-22T00:00:00\", \"2015-03-29T00:00:00\", \"2015-04-05T00:00:00\", \"2015-04-12T00:00:00\", \"2015-04-19T00:00:00\", \"2015-04-26T00:00:00\", \"2015-05-03T00:00:00\", \"2015-05-10T00:00:00\", \"2015-05-17T00:00:00\", \"2015-05-24T00:00:00\", \"2015-05-31T00:00:00\", \"2015-06-07T00:00:00\", \"2015-06-14T00:00:00\", \"2015-06-21T00:00:00\", \"2015-06-28T00:00:00\", \"2015-07-05T00:00:00\", \"2015-07-12T00:00:00\", \"2015-07-19T00:00:00\", \"2015-07-26T00:00:00\", \"2015-08-02T00:00:00\", \"2015-08-09T00:00:00\", \"2015-08-16T00:00:00\", \"2015-08-23T00:00:00\", \"2015-08-30T00:00:00\", \"2015-09-06T00:00:00\", \"2015-09-13T00:00:00\", \"2015-09-20T00:00:00\", \"2015-09-27T00:00:00\", \"2015-10-04T00:00:00\", \"2015-10-11T00:00:00\", \"2015-10-18T00:00:00\", \"2015-10-25T00:00:00\", \"2015-11-01T00:00:00\", \"2015-11-08T00:00:00\", \"2015-11-15T00:00:00\", \"2015-11-22T00:00:00\", \"2015-11-29T00:00:00\", \"2015-12-06T00:00:00\", \"2015-12-13T00:00:00\", \"2015-12-20T00:00:00\", \"2015-12-27T00:00:00\", \"2016-01-03T00:00:00\", \"2016-01-10T00:00:00\", \"2016-01-17T00:00:00\", \"2016-01-24T00:00:00\", \"2016-01-31T00:00:00\", \"2016-02-07T00:00:00\", \"2016-02-14T00:00:00\", \"2016-02-21T00:00:00\", \"2016-02-28T00:00:00\", \"2016-03-06T00:00:00\", \"2016-03-13T00:00:00\", \"2016-03-20T00:00:00\", \"2016-03-27T00:00:00\", \"2016-04-03T00:00:00\", \"2016-04-10T00:00:00\", \"2016-04-17T00:00:00\", \"2016-04-24T00:00:00\", \"2016-05-01T00:00:00\", \"2016-05-08T00:00:00\", \"2016-05-15T00:00:00\", \"2016-05-22T00:00:00\", \"2016-05-29T00:00:00\", \"2016-06-05T00:00:00\", \"2016-06-12T00:00:00\", \"2016-06-19T00:00:00\", \"2016-06-26T00:00:00\", \"2016-07-03T00:00:00\", \"2016-07-10T00:00:00\", \"2016-07-17T00:00:00\", \"2016-07-24T00:00:00\", \"2016-07-31T00:00:00\", \"2016-08-07T00:00:00\", \"2016-08-14T00:00:00\", \"2016-08-21T00:00:00\", \"2016-08-28T00:00:00\", \"2016-09-04T00:00:00\", \"2016-09-11T00:00:00\", \"2016-09-18T00:00:00\", \"2016-09-25T00:00:00\", \"2016-10-02T00:00:00\", \"2016-10-09T00:00:00\", \"2016-10-16T00:00:00\", \"2016-10-23T00:00:00\", \"2016-10-30T00:00:00\", \"2016-11-06T00:00:00\", \"2016-11-13T00:00:00\", \"2016-11-20T00:00:00\", \"2016-11-27T00:00:00\", \"2016-12-04T00:00:00\", \"2016-12-11T00:00:00\", \"2016-12-18T00:00:00\", \"2016-12-25T00:00:00\", \"2017-01-01T00:00:00\", \"2017-01-08T00:00:00\", \"2017-01-15T00:00:00\", \"2017-01-22T00:00:00\", \"2017-01-29T00:00:00\", \"2017-02-05T00:00:00\", \"2017-02-12T00:00:00\", \"2017-02-19T00:00:00\", \"2017-02-26T00:00:00\", \"2017-03-05T00:00:00\", \"2017-03-12T00:00:00\", \"2017-03-19T00:00:00\", \"2017-03-26T00:00:00\", \"2017-04-02T00:00:00\", \"2017-04-09T00:00:00\", \"2017-04-16T00:00:00\", \"2017-04-23T00:00:00\", \"2017-04-30T00:00:00\", \"2017-05-07T00:00:00\", \"2017-05-14T00:00:00\", \"2017-05-21T00:00:00\", \"2017-05-28T00:00:00\", \"2017-06-04T00:00:00\", \"2017-06-11T00:00:00\", \"2017-06-18T00:00:00\", \"2017-06-25T00:00:00\", \"2017-07-02T00:00:00\", \"2017-07-09T00:00:00\", \"2017-07-16T00:00:00\", \"2017-07-23T00:00:00\", \"2017-07-30T00:00:00\", \"2017-08-06T00:00:00\", \"2017-08-13T00:00:00\", \"2017-08-20T00:00:00\", \"2017-08-27T00:00:00\", \"2017-09-03T00:00:00\", \"2017-09-10T00:00:00\", \"2017-09-17T00:00:00\", \"2017-09-24T00:00:00\", \"2017-10-01T00:00:00\", \"2017-10-08T00:00:00\", \"2017-10-15T00:00:00\", \"2017-10-22T00:00:00\", \"2017-10-29T00:00:00\", \"2017-11-05T00:00:00\", \"2017-11-12T00:00:00\", \"2017-11-19T00:00:00\", \"2017-11-26T00:00:00\", \"2017-12-03T00:00:00\", \"2017-12-10T00:00:00\", \"2017-12-17T00:00:00\", \"2017-12-24T00:00:00\", \"2017-12-31T00:00:00\", \"2018-01-07T00:00:00\", \"2018-01-14T00:00:00\", \"2018-01-21T00:00:00\", \"2018-01-28T00:00:00\", \"2018-02-04T00:00:00\", \"2018-02-11T00:00:00\", \"2018-02-18T00:00:00\", \"2018-02-25T00:00:00\", \"2018-03-04T00:00:00\", \"2018-03-11T00:00:00\", \"2018-03-18T00:00:00\", \"2018-03-25T00:00:00\"], \"xaxis\": \"x\", \"y\": [null, null, null, 1.73, 1.737, 1.735, 1.735, 1.735, 1.81, 1.77, 1.727, 1.687, 1.647, 1.655, 1.57, 1.54, 1.502, 1.467, 1.51, 1.515, 1.602, 1.687, 1.782, 1.857, 1.847, 1.805, 1.76, 1.707, 1.665, 1.65, 1.63, 1.62, 1.612, 1.61, 1.612, 1.61, 1.607, 1.605, 1.622, 1.665, 1.685, 1.732, 1.717, 1.672, 1.647, 1.595, 1.585, 1.582, 1.582, 1.585, 1.587, 1.585, 1.592, 1.6, 1.585, 1.595, 1.592, 1.587, 1.602, 1.585, 1.582, 1.555, 1.535, 1.522, 1.497, 1.54, 1.585, 1.597, 1.63, 1.617, 1.602, 1.617, 1.542, 1.41, 1.315, 1.295, 1.345, 1.525, 1.59, 1.71, 1.8, 1.832, 1.985, 2.015, 2.065, 2.102, 2.097, 2.085, 2.08, 2.075, 2.065, 2.057, 2.05, 2.062, 2.1, 2.145, 2.195, 2.23, 2.255, 2.272, 2.14, 1.907, 1.667, 1.427, 1.335, 1.457, 1.585, 1.627, 1.67, 1.59, 1.51, 1.532, 1.577, 1.615, 1.715, 1.735, 1.73, 1.805, 1.81, 1.825, 1.825, 1.832, 1.832, 1.88, 1.947, 1.937, 1.935, 1.942, 1.953, 1.965, 1.975, 1.983, 1.945, 1.92, 1.9, 1.838, 1.802, 1.76, 1.812, 1.89, 1.957, 2.062, 2.015, 1.962, 1.922, 1.865, 1.91, 1.965, 2.002, 2.042, 1.965, 1.882, 1.832, 1.73, 1.63, 1.65, 1.66, 1.705, 1.805, 1.807, 1.79, 1.737, 1.702, 1.662, 1.652, 1.652, 1.655, 1.655, 1.657], \"yaxis\": \"y\"}],\n",
       "                        {\"legend\": {\"title\": {\"text\": \"variable\"}, \"tracegroupgap\": 0}, \"margin\": {\"t\": 60}, \"template\": {\"data\": {\"bar\": [{\"error_x\": {\"color\": \"#2a3f5f\"}, \"error_y\": {\"color\": \"#2a3f5f\"}, \"marker\": {\"line\": {\"color\": \"#E5ECF6\", \"width\": 0.5}}, \"type\": \"bar\"}], \"barpolar\": [{\"marker\": {\"line\": {\"color\": \"#E5ECF6\", \"width\": 0.5}}, \"type\": \"barpolar\"}], \"carpet\": [{\"aaxis\": {\"endlinecolor\": \"#2a3f5f\", \"gridcolor\": \"white\", \"linecolor\": \"white\", \"minorgridcolor\": \"white\", \"startlinecolor\": \"#2a3f5f\"}, \"baxis\": {\"endlinecolor\": \"#2a3f5f\", \"gridcolor\": \"white\", \"linecolor\": \"white\", \"minorgridcolor\": \"white\", \"startlinecolor\": \"#2a3f5f\"}, \"type\": \"carpet\"}], \"choropleth\": [{\"colorbar\": {\"outlinewidth\": 0, \"ticks\": \"\"}, \"type\": \"choropleth\"}], \"contour\": [{\"colorbar\": {\"outlinewidth\": 0, \"ticks\": \"\"}, \"colorscale\": [[0.0, \"#0d0887\"], [0.1111111111111111, \"#46039f\"], [0.2222222222222222, \"#7201a8\"], [0.3333333333333333, \"#9c179e\"], [0.4444444444444444, \"#bd3786\"], [0.5555555555555556, \"#d8576b\"], [0.6666666666666666, \"#ed7953\"], [0.7777777777777778, \"#fb9f3a\"], [0.8888888888888888, \"#fdca26\"], [1.0, \"#f0f921\"]], \"type\": \"contour\"}], \"contourcarpet\": [{\"colorbar\": {\"outlinewidth\": 0, \"ticks\": \"\"}, \"type\": \"contourcarpet\"}], \"heatmap\": [{\"colorbar\": {\"outlinewidth\": 0, \"ticks\": \"\"}, \"colorscale\": [[0.0, \"#0d0887\"], [0.1111111111111111, \"#46039f\"], [0.2222222222222222, \"#7201a8\"], [0.3333333333333333, \"#9c179e\"], [0.4444444444444444, \"#bd3786\"], [0.5555555555555556, \"#d8576b\"], [0.6666666666666666, \"#ed7953\"], [0.7777777777777778, \"#fb9f3a\"], [0.8888888888888888, \"#fdca26\"], [1.0, \"#f0f921\"]], \"type\": \"heatmap\"}], \"heatmapgl\": [{\"colorbar\": {\"outlinewidth\": 0, \"ticks\": \"\"}, \"colorscale\": [[0.0, \"#0d0887\"], [0.1111111111111111, \"#46039f\"], [0.2222222222222222, \"#7201a8\"], [0.3333333333333333, \"#9c179e\"], [0.4444444444444444, \"#bd3786\"], [0.5555555555555556, \"#d8576b\"], [0.6666666666666666, \"#ed7953\"], [0.7777777777777778, \"#fb9f3a\"], [0.8888888888888888, \"#fdca26\"], [1.0, \"#f0f921\"]], \"type\": \"heatmapgl\"}], \"histogram\": [{\"marker\": {\"colorbar\": {\"outlinewidth\": 0, \"ticks\": \"\"}}, \"type\": \"histogram\"}], \"histogram2d\": [{\"colorbar\": {\"outlinewidth\": 0, \"ticks\": \"\"}, \"colorscale\": [[0.0, \"#0d0887\"], [0.1111111111111111, \"#46039f\"], [0.2222222222222222, \"#7201a8\"], [0.3333333333333333, \"#9c179e\"], [0.4444444444444444, \"#bd3786\"], [0.5555555555555556, \"#d8576b\"], [0.6666666666666666, \"#ed7953\"], [0.7777777777777778, \"#fb9f3a\"], [0.8888888888888888, \"#fdca26\"], [1.0, \"#f0f921\"]], \"type\": \"histogram2d\"}], \"histogram2dcontour\": [{\"colorbar\": {\"outlinewidth\": 0, \"ticks\": \"\"}, \"colorscale\": [[0.0, \"#0d0887\"], [0.1111111111111111, \"#46039f\"], [0.2222222222222222, \"#7201a8\"], [0.3333333333333333, \"#9c179e\"], [0.4444444444444444, \"#bd3786\"], [0.5555555555555556, \"#d8576b\"], [0.6666666666666666, \"#ed7953\"], [0.7777777777777778, \"#fb9f3a\"], [0.8888888888888888, \"#fdca26\"], [1.0, \"#f0f921\"]], \"type\": \"histogram2dcontour\"}], \"mesh3d\": [{\"colorbar\": {\"outlinewidth\": 0, \"ticks\": \"\"}, \"type\": \"mesh3d\"}], \"parcoords\": [{\"line\": {\"colorbar\": {\"outlinewidth\": 0, \"ticks\": \"\"}}, \"type\": \"parcoords\"}], \"pie\": [{\"automargin\": true, \"type\": \"pie\"}], \"scatter\": [{\"marker\": {\"colorbar\": {\"outlinewidth\": 0, \"ticks\": \"\"}}, \"type\": \"scatter\"}], \"scatter3d\": [{\"line\": {\"colorbar\": {\"outlinewidth\": 0, \"ticks\": \"\"}}, \"marker\": {\"colorbar\": {\"outlinewidth\": 0, \"ticks\": \"\"}}, \"type\": \"scatter3d\"}], \"scattercarpet\": [{\"marker\": {\"colorbar\": {\"outlinewidth\": 0, \"ticks\": \"\"}}, \"type\": \"scattercarpet\"}], \"scattergeo\": [{\"marker\": {\"colorbar\": {\"outlinewidth\": 0, \"ticks\": \"\"}}, \"type\": \"scattergeo\"}], \"scattergl\": [{\"marker\": {\"colorbar\": {\"outlinewidth\": 0, \"ticks\": \"\"}}, \"type\": \"scattergl\"}], \"scattermapbox\": [{\"marker\": {\"colorbar\": {\"outlinewidth\": 0, \"ticks\": \"\"}}, \"type\": \"scattermapbox\"}], \"scatterpolar\": [{\"marker\": {\"colorbar\": {\"outlinewidth\": 0, \"ticks\": \"\"}}, \"type\": \"scatterpolar\"}], \"scatterpolargl\": [{\"marker\": {\"colorbar\": {\"outlinewidth\": 0, \"ticks\": \"\"}}, \"type\": \"scatterpolargl\"}], \"scatterternary\": [{\"marker\": {\"colorbar\": {\"outlinewidth\": 0, \"ticks\": \"\"}}, \"type\": \"scatterternary\"}], \"surface\": [{\"colorbar\": {\"outlinewidth\": 0, \"ticks\": \"\"}, \"colorscale\": [[0.0, \"#0d0887\"], [0.1111111111111111, \"#46039f\"], [0.2222222222222222, \"#7201a8\"], [0.3333333333333333, \"#9c179e\"], [0.4444444444444444, \"#bd3786\"], [0.5555555555555556, \"#d8576b\"], [0.6666666666666666, \"#ed7953\"], [0.7777777777777778, \"#fb9f3a\"], [0.8888888888888888, \"#fdca26\"], [1.0, \"#f0f921\"]], \"type\": \"surface\"}], \"table\": [{\"cells\": {\"fill\": {\"color\": \"#EBF0F8\"}, \"line\": {\"color\": \"white\"}}, \"header\": {\"fill\": {\"color\": \"#C8D4E3\"}, \"line\": {\"color\": \"white\"}}, \"type\": \"table\"}]}, \"layout\": {\"annotationdefaults\": {\"arrowcolor\": \"#2a3f5f\", \"arrowhead\": 0, \"arrowwidth\": 1}, \"coloraxis\": {\"colorbar\": {\"outlinewidth\": 0, \"ticks\": \"\"}}, \"colorscale\": {\"diverging\": [[0, \"#8e0152\"], [0.1, \"#c51b7d\"], [0.2, \"#de77ae\"], [0.3, \"#f1b6da\"], [0.4, \"#fde0ef\"], [0.5, \"#f7f7f7\"], [0.6, \"#e6f5d0\"], [0.7, \"#b8e186\"], [0.8, \"#7fbc41\"], [0.9, \"#4d9221\"], [1, \"#276419\"]], \"sequential\": [[0.0, \"#0d0887\"], [0.1111111111111111, \"#46039f\"], [0.2222222222222222, \"#7201a8\"], [0.3333333333333333, \"#9c179e\"], [0.4444444444444444, \"#bd3786\"], [0.5555555555555556, \"#d8576b\"], [0.6666666666666666, \"#ed7953\"], [0.7777777777777778, \"#fb9f3a\"], [0.8888888888888888, \"#fdca26\"], [1.0, \"#f0f921\"]], \"sequentialminus\": [[0.0, \"#0d0887\"], [0.1111111111111111, \"#46039f\"], [0.2222222222222222, \"#7201a8\"], [0.3333333333333333, \"#9c179e\"], [0.4444444444444444, \"#bd3786\"], [0.5555555555555556, \"#d8576b\"], [0.6666666666666666, \"#ed7953\"], [0.7777777777777778, \"#fb9f3a\"], [0.8888888888888888, \"#fdca26\"], [1.0, \"#f0f921\"]]}, \"colorway\": [\"#636efa\", \"#EF553B\", \"#00cc96\", \"#ab63fa\", \"#FFA15A\", \"#19d3f3\", \"#FF6692\", \"#B6E880\", \"#FF97FF\", \"#FECB52\"], \"font\": {\"color\": \"#2a3f5f\"}, \"geo\": {\"bgcolor\": \"white\", \"lakecolor\": \"white\", \"landcolor\": \"#E5ECF6\", \"showlakes\": true, \"showland\": true, \"subunitcolor\": \"white\"}, \"hoverlabel\": {\"align\": \"left\"}, \"hovermode\": \"closest\", \"mapbox\": {\"style\": \"light\"}, \"paper_bgcolor\": \"white\", \"plot_bgcolor\": \"#E5ECF6\", \"polar\": {\"angularaxis\": {\"gridcolor\": \"white\", \"linecolor\": \"white\", \"ticks\": \"\"}, \"bgcolor\": \"#E5ECF6\", \"radialaxis\": {\"gridcolor\": \"white\", \"linecolor\": \"white\", \"ticks\": \"\"}}, \"scene\": {\"xaxis\": {\"backgroundcolor\": \"#E5ECF6\", \"gridcolor\": \"white\", \"gridwidth\": 2, \"linecolor\": \"white\", \"showbackground\": true, \"ticks\": \"\", \"zerolinecolor\": \"white\"}, \"yaxis\": {\"backgroundcolor\": \"#E5ECF6\", \"gridcolor\": \"white\", \"gridwidth\": 2, \"linecolor\": \"white\", \"showbackground\": true, \"ticks\": \"\", \"zerolinecolor\": \"white\"}, \"zaxis\": {\"backgroundcolor\": \"#E5ECF6\", \"gridcolor\": \"white\", \"gridwidth\": 2, \"linecolor\": \"white\", \"showbackground\": true, \"ticks\": \"\", \"zerolinecolor\": \"white\"}}, \"shapedefaults\": {\"line\": {\"color\": \"#2a3f5f\"}}, \"ternary\": {\"aaxis\": {\"gridcolor\": \"white\", \"linecolor\": \"white\", \"ticks\": \"\"}, \"baxis\": {\"gridcolor\": \"white\", \"linecolor\": \"white\", \"ticks\": \"\"}, \"bgcolor\": \"#E5ECF6\", \"caxis\": {\"gridcolor\": \"white\", \"linecolor\": \"white\", \"ticks\": \"\"}}, \"title\": {\"x\": 0.05}, \"xaxis\": {\"automargin\": true, \"gridcolor\": \"white\", \"linecolor\": \"white\", \"ticks\": \"\", \"title\": {\"standoff\": 15}, \"zerolinecolor\": \"white\", \"zerolinewidth\": 2}, \"yaxis\": {\"automargin\": true, \"gridcolor\": \"white\", \"linecolor\": \"white\", \"ticks\": \"\", \"title\": {\"standoff\": 15}, \"zerolinecolor\": \"white\", \"zerolinewidth\": 2}}}, \"xaxis\": {\"anchor\": \"y\", \"domain\": [0.0, 1.0], \"title\": {\"text\": \"Date\"}}, \"yaxis\": {\"anchor\": \"x\", \"domain\": [0.0, 1.0], \"title\": {\"text\": \"value\"}}},\n",
       "                        {\"responsive\": true}\n",
       "                    ).then(function(){\n",
       "                            \n",
       "var gd = document.getElementById('1eb53258-75f4-4707-9106-dd32c8c7aaa5');\n",
       "var x = new MutationObserver(function (mutations, observer) {{\n",
       "        var display = window.getComputedStyle(gd).display;\n",
       "        if (!display || display === 'none') {{\n",
       "            console.log([gd, 'removed!']);\n",
       "            Plotly.purge(gd);\n",
       "            observer.disconnect();\n",
       "        }}\n",
       "}});\n",
       "\n",
       "// Listen for the removal of the full notebook cells\n",
       "var notebookContainer = gd.closest('#notebook-container');\n",
       "if (notebookContainer) {{\n",
       "    x.observe(notebookContainer, {childList: true});\n",
       "}}\n",
       "\n",
       "// Listen for the clearing of the current output cell\n",
       "var outputEl = gd.closest('.output');\n",
       "if (outputEl) {{\n",
       "    x.observe(outputEl, {childList: true});\n",
       "}}\n",
       "\n",
       "                        })\n",
       "                };\n",
       "                });\n",
       "            </script>\n",
       "        </div>"
      ]
     },
     "metadata": {},
     "output_type": "display_data"
    },
    {
     "data": {
      "application/vnd.plotly.v1+json": {
       "config": {
        "plotlyServerURL": "https://plot.ly"
       },
       "data": [
        {
         "hovertemplate": "variable=AveragePrice<br>Date=%{x}<br>value=%{y}<extra></extra>",
         "legendgroup": "AveragePrice",
         "line": {
          "color": "#636efa",
          "dash": "solid"
         },
         "mode": "lines",
         "name": "AveragePrice",
         "orientation": "v",
         "showlegend": true,
         "type": "scatter",
         "x": [
          "2015-01-04T00:00:00",
          "2015-01-11T00:00:00",
          "2015-01-18T00:00:00",
          "2015-01-25T00:00:00",
          "2015-02-01T00:00:00",
          "2015-02-08T00:00:00",
          "2015-02-15T00:00:00",
          "2015-02-22T00:00:00",
          "2015-03-01T00:00:00",
          "2015-03-08T00:00:00",
          "2015-03-15T00:00:00",
          "2015-03-22T00:00:00",
          "2015-03-29T00:00:00",
          "2015-04-05T00:00:00",
          "2015-04-12T00:00:00",
          "2015-04-19T00:00:00",
          "2015-04-26T00:00:00",
          "2015-05-03T00:00:00",
          "2015-05-10T00:00:00",
          "2015-05-17T00:00:00",
          "2015-05-24T00:00:00",
          "2015-05-31T00:00:00",
          "2015-06-07T00:00:00",
          "2015-06-14T00:00:00",
          "2015-06-21T00:00:00",
          "2015-06-28T00:00:00",
          "2015-07-05T00:00:00",
          "2015-07-12T00:00:00",
          "2015-07-19T00:00:00",
          "2015-07-26T00:00:00",
          "2015-08-02T00:00:00",
          "2015-08-09T00:00:00",
          "2015-08-16T00:00:00",
          "2015-08-23T00:00:00",
          "2015-08-30T00:00:00",
          "2015-09-06T00:00:00",
          "2015-09-13T00:00:00",
          "2015-09-20T00:00:00",
          "2015-09-27T00:00:00",
          "2015-10-04T00:00:00",
          "2015-10-11T00:00:00",
          "2015-10-18T00:00:00",
          "2015-10-25T00:00:00",
          "2015-11-01T00:00:00",
          "2015-11-08T00:00:00",
          "2015-11-15T00:00:00",
          "2015-11-22T00:00:00",
          "2015-11-29T00:00:00",
          "2015-12-06T00:00:00",
          "2015-12-13T00:00:00",
          "2015-12-20T00:00:00",
          "2015-12-27T00:00:00",
          "2016-01-03T00:00:00",
          "2016-01-10T00:00:00",
          "2016-01-17T00:00:00",
          "2016-01-24T00:00:00",
          "2016-01-31T00:00:00",
          "2016-02-07T00:00:00",
          "2016-02-14T00:00:00",
          "2016-02-21T00:00:00",
          "2016-02-28T00:00:00",
          "2016-03-06T00:00:00",
          "2016-03-13T00:00:00",
          "2016-03-20T00:00:00",
          "2016-03-27T00:00:00",
          "2016-04-03T00:00:00",
          "2016-04-10T00:00:00",
          "2016-04-17T00:00:00",
          "2016-04-24T00:00:00",
          "2016-05-01T00:00:00",
          "2016-05-08T00:00:00",
          "2016-05-15T00:00:00",
          "2016-05-22T00:00:00",
          "2016-05-29T00:00:00",
          "2016-06-05T00:00:00",
          "2016-06-12T00:00:00",
          "2016-06-19T00:00:00",
          "2016-06-26T00:00:00",
          "2016-07-03T00:00:00",
          "2016-07-10T00:00:00",
          "2016-07-17T00:00:00",
          "2016-07-24T00:00:00",
          "2016-07-31T00:00:00",
          "2016-08-07T00:00:00",
          "2016-08-14T00:00:00",
          "2016-08-21T00:00:00",
          "2016-08-28T00:00:00",
          "2016-09-04T00:00:00",
          "2016-09-11T00:00:00",
          "2016-09-18T00:00:00",
          "2016-09-25T00:00:00",
          "2016-10-02T00:00:00",
          "2016-10-09T00:00:00",
          "2016-10-16T00:00:00",
          "2016-10-23T00:00:00",
          "2016-10-30T00:00:00",
          "2016-11-06T00:00:00",
          "2016-11-13T00:00:00",
          "2016-11-20T00:00:00",
          "2016-11-27T00:00:00",
          "2016-12-04T00:00:00",
          "2016-12-11T00:00:00",
          "2016-12-18T00:00:00",
          "2016-12-25T00:00:00",
          "2017-01-01T00:00:00",
          "2017-01-08T00:00:00",
          "2017-01-15T00:00:00",
          "2017-01-22T00:00:00",
          "2017-01-29T00:00:00",
          "2017-02-05T00:00:00",
          "2017-02-12T00:00:00",
          "2017-02-19T00:00:00",
          "2017-02-26T00:00:00",
          "2017-03-05T00:00:00",
          "2017-03-12T00:00:00",
          "2017-03-19T00:00:00",
          "2017-03-26T00:00:00",
          "2017-04-02T00:00:00",
          "2017-04-09T00:00:00",
          "2017-04-16T00:00:00",
          "2017-04-23T00:00:00",
          "2017-04-30T00:00:00",
          "2017-05-07T00:00:00",
          "2017-05-14T00:00:00",
          "2017-05-21T00:00:00",
          "2017-05-28T00:00:00",
          "2017-06-04T00:00:00",
          "2017-06-11T00:00:00",
          "2017-06-18T00:00:00",
          "2017-06-25T00:00:00",
          "2017-07-02T00:00:00",
          "2017-07-09T00:00:00",
          "2017-07-16T00:00:00",
          "2017-07-23T00:00:00",
          "2017-07-30T00:00:00",
          "2017-08-06T00:00:00",
          "2017-08-13T00:00:00",
          "2017-08-20T00:00:00",
          "2017-08-27T00:00:00",
          "2017-09-03T00:00:00",
          "2017-09-10T00:00:00",
          "2017-09-17T00:00:00",
          "2017-09-24T00:00:00",
          "2017-10-01T00:00:00",
          "2017-10-08T00:00:00",
          "2017-10-15T00:00:00",
          "2017-10-22T00:00:00",
          "2017-10-29T00:00:00",
          "2017-11-05T00:00:00",
          "2017-11-12T00:00:00",
          "2017-11-19T00:00:00",
          "2017-11-26T00:00:00",
          "2017-12-03T00:00:00",
          "2017-12-10T00:00:00",
          "2017-12-17T00:00:00",
          "2017-12-24T00:00:00",
          "2017-12-31T00:00:00",
          "2018-01-07T00:00:00",
          "2018-01-14T00:00:00",
          "2018-01-21T00:00:00",
          "2018-01-28T00:00:00",
          "2018-02-04T00:00:00",
          "2018-02-11T00:00:00",
          "2018-02-18T00:00:00",
          "2018-02-25T00:00:00",
          "2018-03-04T00:00:00",
          "2018-03-11T00:00:00",
          "2018-03-18T00:00:00",
          "2018-03-25T00:00:00"
         ],
         "xaxis": "x",
         "y": [
          1.49,
          1.678,
          1.745,
          1.784,
          1.67,
          1.716,
          1.755,
          1.785,
          1.799,
          1.727,
          1.692,
          1.683,
          1.674,
          1.664,
          1.519,
          1.531,
          1.523,
          1.518,
          1.499,
          1.527,
          1.66,
          1.736,
          1.782,
          1.817,
          1.818,
          1.763,
          1.726,
          1.699,
          1.68,
          1.656,
          1.629,
          1.626,
          1.623,
          1.618,
          1.611,
          1.61,
          1.61,
          1.606,
          1.632,
          1.691,
          1.691,
          1.73,
          1.682,
          1.649,
          1.626,
          1.607,
          1.592,
          1.591,
          1.591,
          1.591,
          1.586,
          1.584,
          1.598,
          1.607,
          1.572,
          1.591,
          1.599,
          1.599,
          1.592,
          1.575,
          1.585,
          1.547,
          1.528,
          1.517,
          1.51,
          1.57,
          1.614,
          1.588,
          1.605,
          1.607,
          1.612,
          1.611,
          1.499,
          1.331,
          1.295,
          1.389,
          1.445,
          1.587,
          1.552,
          1.735,
          1.797,
          1.85,
          1.954,
          2.025,
          2.051,
          2.062,
          2.073,
          2.076,
          2.074,
          2.068,
          2.061,
          2.057,
          2.05,
          2.074,
          2.124,
          2.167,
          2.196,
          2.218,
          2.251,
          2.27,
          2.046,
          1.756,
          1.589,
          1.49,
          1.43,
          1.582,
          1.689,
          1.617,
          1.574,
          1.541,
          1.536,
          1.562,
          1.613,
          1.624,
          1.746,
          1.72,
          1.7,
          1.796,
          1.858,
          1.811,
          1.754,
          1.841,
          1.884,
          1.903,
          1.918,
          1.923,
          1.93,
          1.942,
          1.957,
          1.966,
          1.972,
          1.979,
          1.919,
          1.904,
          1.902,
          1.837,
          1.778,
          1.751,
          1.895,
          1.957,
          1.958,
          2.027,
          1.984,
          1.926,
          1.876,
          1.886,
          1.971,
          2.007,
          1.984,
          2.014,
          1.925,
          1.847,
          1.808,
          1.745,
          1.603,
          1.686,
          1.727,
          1.768,
          1.777,
          1.794,
          1.765,
          1.707,
          1.684,
          1.674,
          1.677,
          1.654,
          1.656,
          1.658,
          1.671
         ],
         "yaxis": "y"
        }
       ],
       "layout": {
        "legend": {
         "title": {
          "text": "variable"
         },
         "tracegroupgap": 0
        },
        "margin": {
         "t": 60
        },
        "template": {
         "data": {
          "bar": [
           {
            "error_x": {
             "color": "#2a3f5f"
            },
            "error_y": {
             "color": "#2a3f5f"
            },
            "marker": {
             "line": {
              "color": "#E5ECF6",
              "width": 0.5
             }
            },
            "type": "bar"
           }
          ],
          "barpolar": [
           {
            "marker": {
             "line": {
              "color": "#E5ECF6",
              "width": 0.5
             }
            },
            "type": "barpolar"
           }
          ],
          "carpet": [
           {
            "aaxis": {
             "endlinecolor": "#2a3f5f",
             "gridcolor": "white",
             "linecolor": "white",
             "minorgridcolor": "white",
             "startlinecolor": "#2a3f5f"
            },
            "baxis": {
             "endlinecolor": "#2a3f5f",
             "gridcolor": "white",
             "linecolor": "white",
             "minorgridcolor": "white",
             "startlinecolor": "#2a3f5f"
            },
            "type": "carpet"
           }
          ],
          "choropleth": [
           {
            "colorbar": {
             "outlinewidth": 0,
             "ticks": ""
            },
            "type": "choropleth"
           }
          ],
          "contour": [
           {
            "colorbar": {
             "outlinewidth": 0,
             "ticks": ""
            },
            "colorscale": [
             [
              0,
              "#0d0887"
             ],
             [
              0.1111111111111111,
              "#46039f"
             ],
             [
              0.2222222222222222,
              "#7201a8"
             ],
             [
              0.3333333333333333,
              "#9c179e"
             ],
             [
              0.4444444444444444,
              "#bd3786"
             ],
             [
              0.5555555555555556,
              "#d8576b"
             ],
             [
              0.6666666666666666,
              "#ed7953"
             ],
             [
              0.7777777777777778,
              "#fb9f3a"
             ],
             [
              0.8888888888888888,
              "#fdca26"
             ],
             [
              1,
              "#f0f921"
             ]
            ],
            "type": "contour"
           }
          ],
          "contourcarpet": [
           {
            "colorbar": {
             "outlinewidth": 0,
             "ticks": ""
            },
            "type": "contourcarpet"
           }
          ],
          "heatmap": [
           {
            "colorbar": {
             "outlinewidth": 0,
             "ticks": ""
            },
            "colorscale": [
             [
              0,
              "#0d0887"
             ],
             [
              0.1111111111111111,
              "#46039f"
             ],
             [
              0.2222222222222222,
              "#7201a8"
             ],
             [
              0.3333333333333333,
              "#9c179e"
             ],
             [
              0.4444444444444444,
              "#bd3786"
             ],
             [
              0.5555555555555556,
              "#d8576b"
             ],
             [
              0.6666666666666666,
              "#ed7953"
             ],
             [
              0.7777777777777778,
              "#fb9f3a"
             ],
             [
              0.8888888888888888,
              "#fdca26"
             ],
             [
              1,
              "#f0f921"
             ]
            ],
            "type": "heatmap"
           }
          ],
          "heatmapgl": [
           {
            "colorbar": {
             "outlinewidth": 0,
             "ticks": ""
            },
            "colorscale": [
             [
              0,
              "#0d0887"
             ],
             [
              0.1111111111111111,
              "#46039f"
             ],
             [
              0.2222222222222222,
              "#7201a8"
             ],
             [
              0.3333333333333333,
              "#9c179e"
             ],
             [
              0.4444444444444444,
              "#bd3786"
             ],
             [
              0.5555555555555556,
              "#d8576b"
             ],
             [
              0.6666666666666666,
              "#ed7953"
             ],
             [
              0.7777777777777778,
              "#fb9f3a"
             ],
             [
              0.8888888888888888,
              "#fdca26"
             ],
             [
              1,
              "#f0f921"
             ]
            ],
            "type": "heatmapgl"
           }
          ],
          "histogram": [
           {
            "marker": {
             "colorbar": {
              "outlinewidth": 0,
              "ticks": ""
             }
            },
            "type": "histogram"
           }
          ],
          "histogram2d": [
           {
            "colorbar": {
             "outlinewidth": 0,
             "ticks": ""
            },
            "colorscale": [
             [
              0,
              "#0d0887"
             ],
             [
              0.1111111111111111,
              "#46039f"
             ],
             [
              0.2222222222222222,
              "#7201a8"
             ],
             [
              0.3333333333333333,
              "#9c179e"
             ],
             [
              0.4444444444444444,
              "#bd3786"
             ],
             [
              0.5555555555555556,
              "#d8576b"
             ],
             [
              0.6666666666666666,
              "#ed7953"
             ],
             [
              0.7777777777777778,
              "#fb9f3a"
             ],
             [
              0.8888888888888888,
              "#fdca26"
             ],
             [
              1,
              "#f0f921"
             ]
            ],
            "type": "histogram2d"
           }
          ],
          "histogram2dcontour": [
           {
            "colorbar": {
             "outlinewidth": 0,
             "ticks": ""
            },
            "colorscale": [
             [
              0,
              "#0d0887"
             ],
             [
              0.1111111111111111,
              "#46039f"
             ],
             [
              0.2222222222222222,
              "#7201a8"
             ],
             [
              0.3333333333333333,
              "#9c179e"
             ],
             [
              0.4444444444444444,
              "#bd3786"
             ],
             [
              0.5555555555555556,
              "#d8576b"
             ],
             [
              0.6666666666666666,
              "#ed7953"
             ],
             [
              0.7777777777777778,
              "#fb9f3a"
             ],
             [
              0.8888888888888888,
              "#fdca26"
             ],
             [
              1,
              "#f0f921"
             ]
            ],
            "type": "histogram2dcontour"
           }
          ],
          "mesh3d": [
           {
            "colorbar": {
             "outlinewidth": 0,
             "ticks": ""
            },
            "type": "mesh3d"
           }
          ],
          "parcoords": [
           {
            "line": {
             "colorbar": {
              "outlinewidth": 0,
              "ticks": ""
             }
            },
            "type": "parcoords"
           }
          ],
          "pie": [
           {
            "automargin": true,
            "type": "pie"
           }
          ],
          "scatter": [
           {
            "marker": {
             "colorbar": {
              "outlinewidth": 0,
              "ticks": ""
             }
            },
            "type": "scatter"
           }
          ],
          "scatter3d": [
           {
            "line": {
             "colorbar": {
              "outlinewidth": 0,
              "ticks": ""
             }
            },
            "marker": {
             "colorbar": {
              "outlinewidth": 0,
              "ticks": ""
             }
            },
            "type": "scatter3d"
           }
          ],
          "scattercarpet": [
           {
            "marker": {
             "colorbar": {
              "outlinewidth": 0,
              "ticks": ""
             }
            },
            "type": "scattercarpet"
           }
          ],
          "scattergeo": [
           {
            "marker": {
             "colorbar": {
              "outlinewidth": 0,
              "ticks": ""
             }
            },
            "type": "scattergeo"
           }
          ],
          "scattergl": [
           {
            "marker": {
             "colorbar": {
              "outlinewidth": 0,
              "ticks": ""
             }
            },
            "type": "scattergl"
           }
          ],
          "scattermapbox": [
           {
            "marker": {
             "colorbar": {
              "outlinewidth": 0,
              "ticks": ""
             }
            },
            "type": "scattermapbox"
           }
          ],
          "scatterpolar": [
           {
            "marker": {
             "colorbar": {
              "outlinewidth": 0,
              "ticks": ""
             }
            },
            "type": "scatterpolar"
           }
          ],
          "scatterpolargl": [
           {
            "marker": {
             "colorbar": {
              "outlinewidth": 0,
              "ticks": ""
             }
            },
            "type": "scatterpolargl"
           }
          ],
          "scatterternary": [
           {
            "marker": {
             "colorbar": {
              "outlinewidth": 0,
              "ticks": ""
             }
            },
            "type": "scatterternary"
           }
          ],
          "surface": [
           {
            "colorbar": {
             "outlinewidth": 0,
             "ticks": ""
            },
            "colorscale": [
             [
              0,
              "#0d0887"
             ],
             [
              0.1111111111111111,
              "#46039f"
             ],
             [
              0.2222222222222222,
              "#7201a8"
             ],
             [
              0.3333333333333333,
              "#9c179e"
             ],
             [
              0.4444444444444444,
              "#bd3786"
             ],
             [
              0.5555555555555556,
              "#d8576b"
             ],
             [
              0.6666666666666666,
              "#ed7953"
             ],
             [
              0.7777777777777778,
              "#fb9f3a"
             ],
             [
              0.8888888888888888,
              "#fdca26"
             ],
             [
              1,
              "#f0f921"
             ]
            ],
            "type": "surface"
           }
          ],
          "table": [
           {
            "cells": {
             "fill": {
              "color": "#EBF0F8"
             },
             "line": {
              "color": "white"
             }
            },
            "header": {
             "fill": {
              "color": "#C8D4E3"
             },
             "line": {
              "color": "white"
             }
            },
            "type": "table"
           }
          ]
         },
         "layout": {
          "annotationdefaults": {
           "arrowcolor": "#2a3f5f",
           "arrowhead": 0,
           "arrowwidth": 1
          },
          "coloraxis": {
           "colorbar": {
            "outlinewidth": 0,
            "ticks": ""
           }
          },
          "colorscale": {
           "diverging": [
            [
             0,
             "#8e0152"
            ],
            [
             0.1,
             "#c51b7d"
            ],
            [
             0.2,
             "#de77ae"
            ],
            [
             0.3,
             "#f1b6da"
            ],
            [
             0.4,
             "#fde0ef"
            ],
            [
             0.5,
             "#f7f7f7"
            ],
            [
             0.6,
             "#e6f5d0"
            ],
            [
             0.7,
             "#b8e186"
            ],
            [
             0.8,
             "#7fbc41"
            ],
            [
             0.9,
             "#4d9221"
            ],
            [
             1,
             "#276419"
            ]
           ],
           "sequential": [
            [
             0,
             "#0d0887"
            ],
            [
             0.1111111111111111,
             "#46039f"
            ],
            [
             0.2222222222222222,
             "#7201a8"
            ],
            [
             0.3333333333333333,
             "#9c179e"
            ],
            [
             0.4444444444444444,
             "#bd3786"
            ],
            [
             0.5555555555555556,
             "#d8576b"
            ],
            [
             0.6666666666666666,
             "#ed7953"
            ],
            [
             0.7777777777777778,
             "#fb9f3a"
            ],
            [
             0.8888888888888888,
             "#fdca26"
            ],
            [
             1,
             "#f0f921"
            ]
           ],
           "sequentialminus": [
            [
             0,
             "#0d0887"
            ],
            [
             0.1111111111111111,
             "#46039f"
            ],
            [
             0.2222222222222222,
             "#7201a8"
            ],
            [
             0.3333333333333333,
             "#9c179e"
            ],
            [
             0.4444444444444444,
             "#bd3786"
            ],
            [
             0.5555555555555556,
             "#d8576b"
            ],
            [
             0.6666666666666666,
             "#ed7953"
            ],
            [
             0.7777777777777778,
             "#fb9f3a"
            ],
            [
             0.8888888888888888,
             "#fdca26"
            ],
            [
             1,
             "#f0f921"
            ]
           ]
          },
          "colorway": [
           "#636efa",
           "#EF553B",
           "#00cc96",
           "#ab63fa",
           "#FFA15A",
           "#19d3f3",
           "#FF6692",
           "#B6E880",
           "#FF97FF",
           "#FECB52"
          ],
          "font": {
           "color": "#2a3f5f"
          },
          "geo": {
           "bgcolor": "white",
           "lakecolor": "white",
           "landcolor": "#E5ECF6",
           "showlakes": true,
           "showland": true,
           "subunitcolor": "white"
          },
          "hoverlabel": {
           "align": "left"
          },
          "hovermode": "closest",
          "mapbox": {
           "style": "light"
          },
          "paper_bgcolor": "white",
          "plot_bgcolor": "#E5ECF6",
          "polar": {
           "angularaxis": {
            "gridcolor": "white",
            "linecolor": "white",
            "ticks": ""
           },
           "bgcolor": "#E5ECF6",
           "radialaxis": {
            "gridcolor": "white",
            "linecolor": "white",
            "ticks": ""
           }
          },
          "scene": {
           "xaxis": {
            "backgroundcolor": "#E5ECF6",
            "gridcolor": "white",
            "gridwidth": 2,
            "linecolor": "white",
            "showbackground": true,
            "ticks": "",
            "zerolinecolor": "white"
           },
           "yaxis": {
            "backgroundcolor": "#E5ECF6",
            "gridcolor": "white",
            "gridwidth": 2,
            "linecolor": "white",
            "showbackground": true,
            "ticks": "",
            "zerolinecolor": "white"
           },
           "zaxis": {
            "backgroundcolor": "#E5ECF6",
            "gridcolor": "white",
            "gridwidth": 2,
            "linecolor": "white",
            "showbackground": true,
            "ticks": "",
            "zerolinecolor": "white"
           }
          },
          "shapedefaults": {
           "line": {
            "color": "#2a3f5f"
           }
          },
          "ternary": {
           "aaxis": {
            "gridcolor": "white",
            "linecolor": "white",
            "ticks": ""
           },
           "baxis": {
            "gridcolor": "white",
            "linecolor": "white",
            "ticks": ""
           },
           "bgcolor": "#E5ECF6",
           "caxis": {
            "gridcolor": "white",
            "linecolor": "white",
            "ticks": ""
           }
          },
          "title": {
           "x": 0.05
          },
          "xaxis": {
           "automargin": true,
           "gridcolor": "white",
           "linecolor": "white",
           "ticks": "",
           "title": {
            "standoff": 15
           },
           "zerolinecolor": "white",
           "zerolinewidth": 2
          },
          "yaxis": {
           "automargin": true,
           "gridcolor": "white",
           "linecolor": "white",
           "ticks": "",
           "title": {
            "standoff": 15
           },
           "zerolinecolor": "white",
           "zerolinewidth": 2
          }
         }
        },
        "xaxis": {
         "anchor": "y",
         "domain": [
          0,
          1
         ],
         "title": {
          "text": "Date"
         }
        },
        "yaxis": {
         "anchor": "x",
         "domain": [
          0,
          1
         ],
         "title": {
          "text": "value"
         }
        }
       }
      },
      "text/html": [
       "<div>\n",
       "        \n",
       "        \n",
       "            <div id=\"f10609d9-130e-4d45-9c6f-511880f00320\" class=\"plotly-graph-div\" style=\"height:525px; width:100%;\"></div>\n",
       "            <script type=\"text/javascript\">\n",
       "                require([\"plotly\"], function(Plotly) {\n",
       "                    window.PLOTLYENV=window.PLOTLYENV || {};\n",
       "                    \n",
       "                if (document.getElementById(\"f10609d9-130e-4d45-9c6f-511880f00320\")) {\n",
       "                    Plotly.newPlot(\n",
       "                        'f10609d9-130e-4d45-9c6f-511880f00320',\n",
       "                        [{\"hovertemplate\": \"variable=AveragePrice<br>Date=%{x}<br>value=%{y}<extra></extra>\", \"legendgroup\": \"AveragePrice\", \"line\": {\"color\": \"#636efa\", \"dash\": \"solid\"}, \"mode\": \"lines\", \"name\": \"AveragePrice\", \"orientation\": \"v\", \"showlegend\": true, \"type\": \"scatter\", \"x\": [\"2015-01-04T00:00:00\", \"2015-01-11T00:00:00\", \"2015-01-18T00:00:00\", \"2015-01-25T00:00:00\", \"2015-02-01T00:00:00\", \"2015-02-08T00:00:00\", \"2015-02-15T00:00:00\", \"2015-02-22T00:00:00\", \"2015-03-01T00:00:00\", \"2015-03-08T00:00:00\", \"2015-03-15T00:00:00\", \"2015-03-22T00:00:00\", \"2015-03-29T00:00:00\", \"2015-04-05T00:00:00\", \"2015-04-12T00:00:00\", \"2015-04-19T00:00:00\", \"2015-04-26T00:00:00\", \"2015-05-03T00:00:00\", \"2015-05-10T00:00:00\", \"2015-05-17T00:00:00\", \"2015-05-24T00:00:00\", \"2015-05-31T00:00:00\", \"2015-06-07T00:00:00\", \"2015-06-14T00:00:00\", \"2015-06-21T00:00:00\", \"2015-06-28T00:00:00\", \"2015-07-05T00:00:00\", \"2015-07-12T00:00:00\", \"2015-07-19T00:00:00\", \"2015-07-26T00:00:00\", \"2015-08-02T00:00:00\", \"2015-08-09T00:00:00\", \"2015-08-16T00:00:00\", \"2015-08-23T00:00:00\", \"2015-08-30T00:00:00\", \"2015-09-06T00:00:00\", \"2015-09-13T00:00:00\", \"2015-09-20T00:00:00\", \"2015-09-27T00:00:00\", \"2015-10-04T00:00:00\", \"2015-10-11T00:00:00\", \"2015-10-18T00:00:00\", \"2015-10-25T00:00:00\", \"2015-11-01T00:00:00\", \"2015-11-08T00:00:00\", \"2015-11-15T00:00:00\", \"2015-11-22T00:00:00\", \"2015-11-29T00:00:00\", \"2015-12-06T00:00:00\", \"2015-12-13T00:00:00\", \"2015-12-20T00:00:00\", \"2015-12-27T00:00:00\", \"2016-01-03T00:00:00\", \"2016-01-10T00:00:00\", \"2016-01-17T00:00:00\", \"2016-01-24T00:00:00\", \"2016-01-31T00:00:00\", \"2016-02-07T00:00:00\", \"2016-02-14T00:00:00\", \"2016-02-21T00:00:00\", \"2016-02-28T00:00:00\", \"2016-03-06T00:00:00\", \"2016-03-13T00:00:00\", \"2016-03-20T00:00:00\", \"2016-03-27T00:00:00\", \"2016-04-03T00:00:00\", \"2016-04-10T00:00:00\", \"2016-04-17T00:00:00\", \"2016-04-24T00:00:00\", \"2016-05-01T00:00:00\", \"2016-05-08T00:00:00\", \"2016-05-15T00:00:00\", \"2016-05-22T00:00:00\", \"2016-05-29T00:00:00\", \"2016-06-05T00:00:00\", \"2016-06-12T00:00:00\", \"2016-06-19T00:00:00\", \"2016-06-26T00:00:00\", \"2016-07-03T00:00:00\", \"2016-07-10T00:00:00\", \"2016-07-17T00:00:00\", \"2016-07-24T00:00:00\", \"2016-07-31T00:00:00\", \"2016-08-07T00:00:00\", \"2016-08-14T00:00:00\", \"2016-08-21T00:00:00\", \"2016-08-28T00:00:00\", \"2016-09-04T00:00:00\", \"2016-09-11T00:00:00\", \"2016-09-18T00:00:00\", \"2016-09-25T00:00:00\", \"2016-10-02T00:00:00\", \"2016-10-09T00:00:00\", \"2016-10-16T00:00:00\", \"2016-10-23T00:00:00\", \"2016-10-30T00:00:00\", \"2016-11-06T00:00:00\", \"2016-11-13T00:00:00\", \"2016-11-20T00:00:00\", \"2016-11-27T00:00:00\", \"2016-12-04T00:00:00\", \"2016-12-11T00:00:00\", \"2016-12-18T00:00:00\", \"2016-12-25T00:00:00\", \"2017-01-01T00:00:00\", \"2017-01-08T00:00:00\", \"2017-01-15T00:00:00\", \"2017-01-22T00:00:00\", \"2017-01-29T00:00:00\", \"2017-02-05T00:00:00\", \"2017-02-12T00:00:00\", \"2017-02-19T00:00:00\", \"2017-02-26T00:00:00\", \"2017-03-05T00:00:00\", \"2017-03-12T00:00:00\", \"2017-03-19T00:00:00\", \"2017-03-26T00:00:00\", \"2017-04-02T00:00:00\", \"2017-04-09T00:00:00\", \"2017-04-16T00:00:00\", \"2017-04-23T00:00:00\", \"2017-04-30T00:00:00\", \"2017-05-07T00:00:00\", \"2017-05-14T00:00:00\", \"2017-05-21T00:00:00\", \"2017-05-28T00:00:00\", \"2017-06-04T00:00:00\", \"2017-06-11T00:00:00\", \"2017-06-18T00:00:00\", \"2017-06-25T00:00:00\", \"2017-07-02T00:00:00\", \"2017-07-09T00:00:00\", \"2017-07-16T00:00:00\", \"2017-07-23T00:00:00\", \"2017-07-30T00:00:00\", \"2017-08-06T00:00:00\", \"2017-08-13T00:00:00\", \"2017-08-20T00:00:00\", \"2017-08-27T00:00:00\", \"2017-09-03T00:00:00\", \"2017-09-10T00:00:00\", \"2017-09-17T00:00:00\", \"2017-09-24T00:00:00\", \"2017-10-01T00:00:00\", \"2017-10-08T00:00:00\", \"2017-10-15T00:00:00\", \"2017-10-22T00:00:00\", \"2017-10-29T00:00:00\", \"2017-11-05T00:00:00\", \"2017-11-12T00:00:00\", \"2017-11-19T00:00:00\", \"2017-11-26T00:00:00\", \"2017-12-03T00:00:00\", \"2017-12-10T00:00:00\", \"2017-12-17T00:00:00\", \"2017-12-24T00:00:00\", \"2017-12-31T00:00:00\", \"2018-01-07T00:00:00\", \"2018-01-14T00:00:00\", \"2018-01-21T00:00:00\", \"2018-01-28T00:00:00\", \"2018-02-04T00:00:00\", \"2018-02-11T00:00:00\", \"2018-02-18T00:00:00\", \"2018-02-25T00:00:00\", \"2018-03-04T00:00:00\", \"2018-03-11T00:00:00\", \"2018-03-18T00:00:00\", \"2018-03-25T00:00:00\"], \"xaxis\": \"x\", \"y\": [1.49, 1.678, 1.745, 1.784, 1.67, 1.716, 1.755, 1.785, 1.799, 1.727, 1.692, 1.683, 1.674, 1.664, 1.519, 1.531, 1.523, 1.518, 1.499, 1.527, 1.66, 1.736, 1.782, 1.817, 1.818, 1.763, 1.726, 1.699, 1.68, 1.656, 1.629, 1.626, 1.623, 1.618, 1.611, 1.61, 1.61, 1.606, 1.632, 1.691, 1.691, 1.73, 1.682, 1.649, 1.626, 1.607, 1.592, 1.591, 1.591, 1.591, 1.586, 1.584, 1.598, 1.607, 1.572, 1.591, 1.599, 1.599, 1.592, 1.575, 1.585, 1.547, 1.528, 1.517, 1.51, 1.57, 1.614, 1.588, 1.605, 1.607, 1.612, 1.611, 1.499, 1.331, 1.295, 1.389, 1.445, 1.587, 1.552, 1.735, 1.797, 1.85, 1.954, 2.025, 2.051, 2.062, 2.073, 2.076, 2.074, 2.068, 2.061, 2.057, 2.05, 2.074, 2.124, 2.167, 2.196, 2.218, 2.251, 2.27, 2.046, 1.756, 1.589, 1.49, 1.43, 1.582, 1.689, 1.617, 1.574, 1.541, 1.536, 1.562, 1.613, 1.624, 1.746, 1.72, 1.7, 1.796, 1.858, 1.811, 1.754, 1.841, 1.884, 1.903, 1.918, 1.923, 1.93, 1.942, 1.957, 1.966, 1.972, 1.979, 1.919, 1.904, 1.902, 1.837, 1.778, 1.751, 1.895, 1.957, 1.958, 2.027, 1.984, 1.926, 1.876, 1.886, 1.971, 2.007, 1.984, 2.014, 1.925, 1.847, 1.808, 1.745, 1.603, 1.686, 1.727, 1.768, 1.777, 1.794, 1.765, 1.707, 1.684, 1.674, 1.677, 1.654, 1.656, 1.658, 1.671], \"yaxis\": \"y\"}],\n",
       "                        {\"legend\": {\"title\": {\"text\": \"variable\"}, \"tracegroupgap\": 0}, \"margin\": {\"t\": 60}, \"template\": {\"data\": {\"bar\": [{\"error_x\": {\"color\": \"#2a3f5f\"}, \"error_y\": {\"color\": \"#2a3f5f\"}, \"marker\": {\"line\": {\"color\": \"#E5ECF6\", \"width\": 0.5}}, \"type\": \"bar\"}], \"barpolar\": [{\"marker\": {\"line\": {\"color\": \"#E5ECF6\", \"width\": 0.5}}, \"type\": \"barpolar\"}], \"carpet\": [{\"aaxis\": {\"endlinecolor\": \"#2a3f5f\", \"gridcolor\": \"white\", \"linecolor\": \"white\", \"minorgridcolor\": \"white\", \"startlinecolor\": \"#2a3f5f\"}, \"baxis\": {\"endlinecolor\": \"#2a3f5f\", \"gridcolor\": \"white\", \"linecolor\": \"white\", \"minorgridcolor\": \"white\", \"startlinecolor\": \"#2a3f5f\"}, \"type\": \"carpet\"}], \"choropleth\": [{\"colorbar\": {\"outlinewidth\": 0, \"ticks\": \"\"}, \"type\": \"choropleth\"}], \"contour\": [{\"colorbar\": {\"outlinewidth\": 0, \"ticks\": \"\"}, \"colorscale\": [[0.0, \"#0d0887\"], [0.1111111111111111, \"#46039f\"], [0.2222222222222222, \"#7201a8\"], [0.3333333333333333, \"#9c179e\"], [0.4444444444444444, \"#bd3786\"], [0.5555555555555556, \"#d8576b\"], [0.6666666666666666, \"#ed7953\"], [0.7777777777777778, \"#fb9f3a\"], [0.8888888888888888, \"#fdca26\"], [1.0, \"#f0f921\"]], \"type\": \"contour\"}], \"contourcarpet\": [{\"colorbar\": {\"outlinewidth\": 0, \"ticks\": \"\"}, \"type\": \"contourcarpet\"}], \"heatmap\": [{\"colorbar\": {\"outlinewidth\": 0, \"ticks\": \"\"}, \"colorscale\": [[0.0, \"#0d0887\"], [0.1111111111111111, \"#46039f\"], [0.2222222222222222, \"#7201a8\"], [0.3333333333333333, \"#9c179e\"], [0.4444444444444444, \"#bd3786\"], [0.5555555555555556, \"#d8576b\"], [0.6666666666666666, \"#ed7953\"], [0.7777777777777778, \"#fb9f3a\"], [0.8888888888888888, \"#fdca26\"], [1.0, \"#f0f921\"]], \"type\": \"heatmap\"}], \"heatmapgl\": [{\"colorbar\": {\"outlinewidth\": 0, \"ticks\": \"\"}, \"colorscale\": [[0.0, \"#0d0887\"], [0.1111111111111111, \"#46039f\"], [0.2222222222222222, \"#7201a8\"], [0.3333333333333333, \"#9c179e\"], [0.4444444444444444, \"#bd3786\"], [0.5555555555555556, \"#d8576b\"], [0.6666666666666666, \"#ed7953\"], [0.7777777777777778, \"#fb9f3a\"], [0.8888888888888888, \"#fdca26\"], [1.0, \"#f0f921\"]], \"type\": \"heatmapgl\"}], \"histogram\": [{\"marker\": {\"colorbar\": {\"outlinewidth\": 0, \"ticks\": \"\"}}, \"type\": \"histogram\"}], \"histogram2d\": [{\"colorbar\": {\"outlinewidth\": 0, \"ticks\": \"\"}, \"colorscale\": [[0.0, \"#0d0887\"], [0.1111111111111111, \"#46039f\"], [0.2222222222222222, \"#7201a8\"], [0.3333333333333333, \"#9c179e\"], [0.4444444444444444, \"#bd3786\"], [0.5555555555555556, \"#d8576b\"], [0.6666666666666666, \"#ed7953\"], [0.7777777777777778, \"#fb9f3a\"], [0.8888888888888888, \"#fdca26\"], [1.0, \"#f0f921\"]], \"type\": \"histogram2d\"}], \"histogram2dcontour\": [{\"colorbar\": {\"outlinewidth\": 0, \"ticks\": \"\"}, \"colorscale\": [[0.0, \"#0d0887\"], [0.1111111111111111, \"#46039f\"], [0.2222222222222222, \"#7201a8\"], [0.3333333333333333, \"#9c179e\"], [0.4444444444444444, \"#bd3786\"], [0.5555555555555556, \"#d8576b\"], [0.6666666666666666, \"#ed7953\"], [0.7777777777777778, \"#fb9f3a\"], [0.8888888888888888, \"#fdca26\"], [1.0, \"#f0f921\"]], \"type\": \"histogram2dcontour\"}], \"mesh3d\": [{\"colorbar\": {\"outlinewidth\": 0, \"ticks\": \"\"}, \"type\": \"mesh3d\"}], \"parcoords\": [{\"line\": {\"colorbar\": {\"outlinewidth\": 0, \"ticks\": \"\"}}, \"type\": \"parcoords\"}], \"pie\": [{\"automargin\": true, \"type\": \"pie\"}], \"scatter\": [{\"marker\": {\"colorbar\": {\"outlinewidth\": 0, \"ticks\": \"\"}}, \"type\": \"scatter\"}], \"scatter3d\": [{\"line\": {\"colorbar\": {\"outlinewidth\": 0, \"ticks\": \"\"}}, \"marker\": {\"colorbar\": {\"outlinewidth\": 0, \"ticks\": \"\"}}, \"type\": \"scatter3d\"}], \"scattercarpet\": [{\"marker\": {\"colorbar\": {\"outlinewidth\": 0, \"ticks\": \"\"}}, \"type\": \"scattercarpet\"}], \"scattergeo\": [{\"marker\": {\"colorbar\": {\"outlinewidth\": 0, \"ticks\": \"\"}}, \"type\": \"scattergeo\"}], \"scattergl\": [{\"marker\": {\"colorbar\": {\"outlinewidth\": 0, \"ticks\": \"\"}}, \"type\": \"scattergl\"}], \"scattermapbox\": [{\"marker\": {\"colorbar\": {\"outlinewidth\": 0, \"ticks\": \"\"}}, \"type\": \"scattermapbox\"}], \"scatterpolar\": [{\"marker\": {\"colorbar\": {\"outlinewidth\": 0, \"ticks\": \"\"}}, \"type\": \"scatterpolar\"}], \"scatterpolargl\": [{\"marker\": {\"colorbar\": {\"outlinewidth\": 0, \"ticks\": \"\"}}, \"type\": \"scatterpolargl\"}], \"scatterternary\": [{\"marker\": {\"colorbar\": {\"outlinewidth\": 0, \"ticks\": \"\"}}, \"type\": \"scatterternary\"}], \"surface\": [{\"colorbar\": {\"outlinewidth\": 0, \"ticks\": \"\"}, \"colorscale\": [[0.0, \"#0d0887\"], [0.1111111111111111, \"#46039f\"], [0.2222222222222222, \"#7201a8\"], [0.3333333333333333, \"#9c179e\"], [0.4444444444444444, \"#bd3786\"], [0.5555555555555556, \"#d8576b\"], [0.6666666666666666, \"#ed7953\"], [0.7777777777777778, \"#fb9f3a\"], [0.8888888888888888, \"#fdca26\"], [1.0, \"#f0f921\"]], \"type\": \"surface\"}], \"table\": [{\"cells\": {\"fill\": {\"color\": \"#EBF0F8\"}, \"line\": {\"color\": \"white\"}}, \"header\": {\"fill\": {\"color\": \"#C8D4E3\"}, \"line\": {\"color\": \"white\"}}, \"type\": \"table\"}]}, \"layout\": {\"annotationdefaults\": {\"arrowcolor\": \"#2a3f5f\", \"arrowhead\": 0, \"arrowwidth\": 1}, \"coloraxis\": {\"colorbar\": {\"outlinewidth\": 0, \"ticks\": \"\"}}, \"colorscale\": {\"diverging\": [[0, \"#8e0152\"], [0.1, \"#c51b7d\"], [0.2, \"#de77ae\"], [0.3, \"#f1b6da\"], [0.4, \"#fde0ef\"], [0.5, \"#f7f7f7\"], [0.6, \"#e6f5d0\"], [0.7, \"#b8e186\"], [0.8, \"#7fbc41\"], [0.9, \"#4d9221\"], [1, \"#276419\"]], \"sequential\": [[0.0, \"#0d0887\"], [0.1111111111111111, \"#46039f\"], [0.2222222222222222, \"#7201a8\"], [0.3333333333333333, \"#9c179e\"], [0.4444444444444444, \"#bd3786\"], [0.5555555555555556, \"#d8576b\"], [0.6666666666666666, \"#ed7953\"], [0.7777777777777778, \"#fb9f3a\"], [0.8888888888888888, \"#fdca26\"], [1.0, \"#f0f921\"]], \"sequentialminus\": [[0.0, \"#0d0887\"], [0.1111111111111111, \"#46039f\"], [0.2222222222222222, \"#7201a8\"], [0.3333333333333333, \"#9c179e\"], [0.4444444444444444, \"#bd3786\"], [0.5555555555555556, \"#d8576b\"], [0.6666666666666666, \"#ed7953\"], [0.7777777777777778, \"#fb9f3a\"], [0.8888888888888888, \"#fdca26\"], [1.0, \"#f0f921\"]]}, \"colorway\": [\"#636efa\", \"#EF553B\", \"#00cc96\", \"#ab63fa\", \"#FFA15A\", \"#19d3f3\", \"#FF6692\", \"#B6E880\", \"#FF97FF\", \"#FECB52\"], \"font\": {\"color\": \"#2a3f5f\"}, \"geo\": {\"bgcolor\": \"white\", \"lakecolor\": \"white\", \"landcolor\": \"#E5ECF6\", \"showlakes\": true, \"showland\": true, \"subunitcolor\": \"white\"}, \"hoverlabel\": {\"align\": \"left\"}, \"hovermode\": \"closest\", \"mapbox\": {\"style\": \"light\"}, \"paper_bgcolor\": \"white\", \"plot_bgcolor\": \"#E5ECF6\", \"polar\": {\"angularaxis\": {\"gridcolor\": \"white\", \"linecolor\": \"white\", \"ticks\": \"\"}, \"bgcolor\": \"#E5ECF6\", \"radialaxis\": {\"gridcolor\": \"white\", \"linecolor\": \"white\", \"ticks\": \"\"}}, \"scene\": {\"xaxis\": {\"backgroundcolor\": \"#E5ECF6\", \"gridcolor\": \"white\", \"gridwidth\": 2, \"linecolor\": \"white\", \"showbackground\": true, \"ticks\": \"\", \"zerolinecolor\": \"white\"}, \"yaxis\": {\"backgroundcolor\": \"#E5ECF6\", \"gridcolor\": \"white\", \"gridwidth\": 2, \"linecolor\": \"white\", \"showbackground\": true, \"ticks\": \"\", \"zerolinecolor\": \"white\"}, \"zaxis\": {\"backgroundcolor\": \"#E5ECF6\", \"gridcolor\": \"white\", \"gridwidth\": 2, \"linecolor\": \"white\", \"showbackground\": true, \"ticks\": \"\", \"zerolinecolor\": \"white\"}}, \"shapedefaults\": {\"line\": {\"color\": \"#2a3f5f\"}}, \"ternary\": {\"aaxis\": {\"gridcolor\": \"white\", \"linecolor\": \"white\", \"ticks\": \"\"}, \"baxis\": {\"gridcolor\": \"white\", \"linecolor\": \"white\", \"ticks\": \"\"}, \"bgcolor\": \"#E5ECF6\", \"caxis\": {\"gridcolor\": \"white\", \"linecolor\": \"white\", \"ticks\": \"\"}}, \"title\": {\"x\": 0.05}, \"xaxis\": {\"automargin\": true, \"gridcolor\": \"white\", \"linecolor\": \"white\", \"ticks\": \"\", \"title\": {\"standoff\": 15}, \"zerolinecolor\": \"white\", \"zerolinewidth\": 2}, \"yaxis\": {\"automargin\": true, \"gridcolor\": \"white\", \"linecolor\": \"white\", \"ticks\": \"\", \"title\": {\"standoff\": 15}, \"zerolinecolor\": \"white\", \"zerolinewidth\": 2}}}, \"xaxis\": {\"anchor\": \"y\", \"domain\": [0.0, 1.0], \"title\": {\"text\": \"Date\"}}, \"yaxis\": {\"anchor\": \"x\", \"domain\": [0.0, 1.0], \"title\": {\"text\": \"value\"}}},\n",
       "                        {\"responsive\": true}\n",
       "                    ).then(function(){\n",
       "                            \n",
       "var gd = document.getElementById('f10609d9-130e-4d45-9c6f-511880f00320');\n",
       "var x = new MutationObserver(function (mutations, observer) {{\n",
       "        var display = window.getComputedStyle(gd).display;\n",
       "        if (!display || display === 'none') {{\n",
       "            console.log([gd, 'removed!']);\n",
       "            Plotly.purge(gd);\n",
       "            observer.disconnect();\n",
       "        }}\n",
       "}});\n",
       "\n",
       "// Listen for the removal of the full notebook cells\n",
       "var notebookContainer = gd.closest('#notebook-container');\n",
       "if (notebookContainer) {{\n",
       "    x.observe(notebookContainer, {childList: true});\n",
       "}}\n",
       "\n",
       "// Listen for the clearing of the current output cell\n",
       "var outputEl = gd.closest('.output');\n",
       "if (outputEl) {{\n",
       "    x.observe(outputEl, {childList: true});\n",
       "}}\n",
       "\n",
       "                        })\n",
       "                };\n",
       "                });\n",
       "            </script>\n",
       "        </div>"
      ]
     },
     "metadata": {},
     "output_type": "display_data"
    }
   ],
   "source": [
    "df_rolling_4 = df \\\n",
    "    .query('region == \"Chicago\" & type == \"organic\"') \\\n",
    "    .AveragePrice \\\n",
    "    .rolling(4) \\\n",
    "    .mean() \\\n",
    "    .round(3) \\\n",
    "    .to_frame()\n",
    "\n",
    "df_ewm_4 = df \\\n",
    "    .query('region == \"Chicago\" & type == \"organic\"') \\\n",
    "    .AveragePrice \\\n",
    "    .ewm(span = 4) \\\n",
    "    .mean() \\\n",
    "    .round(3) \\\n",
    "    .to_frame()\n",
    "\n",
    "\n",
    "fig = px.line(df_rolling_4)\n",
    "fig.show()\n",
    "\n",
    "fig = px.line(df_ewm_4)\n",
    "fig.show()"
   ]
  },
  {
   "cell_type": "code",
   "execution_count": null,
   "metadata": {},
   "outputs": [],
   "source": [
    "# Далее будем работать с данными по опозданиям в заключении сделок.\n",
    "# В файле находится информация о том какие компании с кем и на какую сумму заключали сделки,\n",
    "# а самое важное – насколько они при этом опоздали.\n",
    "# Прочитайте эти данные. Далее переведите delay в timedelta формат.\n",
    "# Обратите внимание, что так просто столбец не переведётся – нужно будет убрать -.\n",
    "\n"
   ]
  }
 ],
 "metadata": {
  "kernelspec": {
   "display_name": "Python 3",
   "language": "python",
   "name": "python3"
  },
  "language_info": {
   "codemirror_mode": {
    "name": "ipython",
    "version": 3
   },
   "file_extension": ".py",
   "mimetype": "text/x-python",
   "name": "python",
   "nbconvert_exporter": "python",
   "pygments_lexer": "ipython3",
   "version": "3.7.3"
  }
 },
 "nbformat": 4,
 "nbformat_minor": 4
}
