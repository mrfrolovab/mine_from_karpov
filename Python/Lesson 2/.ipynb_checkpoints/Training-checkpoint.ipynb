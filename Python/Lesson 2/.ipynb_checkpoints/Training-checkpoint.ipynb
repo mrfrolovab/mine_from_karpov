{
 "cells": [
  {
   "cell_type": "code",
   "execution_count": 8,
   "metadata": {},
   "outputs": [],
   "source": [
    "import pandas as pd"
   ]
  },
  {
   "cell_type": "code",
   "execution_count": null,
   "metadata": {},
   "outputs": [],
   "source": []
  },
  {
   "cell_type": "code",
   "execution_count": 17,
   "metadata": {},
   "outputs": [],
   "source": [
    "df = pd.read_csv ('//mnt/HC_Volume_18315164/home-jupyter/jupyter-ale-frolov/Lesson 2/lesson_2_data.csv', encoding='windows-1251', sep = ';')"
   ]
  },
  {
   "cell_type": "code",
   "execution_count": 22,
   "metadata": {},
   "outputs": [
    {
     "data": {
      "text/plain": [
       "(292, 8)"
      ]
     },
     "execution_count": 22,
     "metadata": {},
     "output_type": "execute_result"
    }
   ],
   "source": [
    "df.shape"
   ]
  },
  {
   "cell_type": "code",
   "execution_count": 23,
   "metadata": {},
   "outputs": [
    {
     "data": {
      "text/plain": [
       "Index(['Номер', 'Дата создания', 'Дата оплаты', 'Title', 'Статус',\n",
       "       'Заработано', 'Город', 'Платежная система'],\n",
       "      dtype='object')"
      ]
     },
     "execution_count": 23,
     "metadata": {},
     "output_type": "execute_result"
    }
   ],
   "source": [
    "df.columns"
   ]
  },
  {
   "cell_type": "code",
   "execution_count": 34,
   "metadata": {},
   "outputs": [],
   "source": [
    "df = df.rename(columns={'Номер': 'number',\n",
    "                'Дата создания': 'creation_date',\n",
    "                'Дата оплаты': 'payment_date',\n",
    "                'Title': 'title',\n",
    "                'Статус': 'status',\n",
    "                'Заработано': 'money',\n",
    "                'Город': 'city',\n",
    "                'Платежная система': 'payment_system'})"
   ]
  },
  {
   "cell_type": "code",
   "execution_count": 35,
   "metadata": {},
   "outputs": [
    {
     "data": {
      "text/html": [
       "<div>\n",
       "<style scoped>\n",
       "    .dataframe tbody tr th:only-of-type {\n",
       "        vertical-align: middle;\n",
       "    }\n",
       "\n",
       "    .dataframe tbody tr th {\n",
       "        vertical-align: top;\n",
       "    }\n",
       "\n",
       "    .dataframe thead th {\n",
       "        text-align: right;\n",
       "    }\n",
       "</style>\n",
       "<table border=\"1\" class=\"dataframe\">\n",
       "  <thead>\n",
       "    <tr style=\"text-align: right;\">\n",
       "      <th></th>\n",
       "      <th>number</th>\n",
       "      <th>creation_date</th>\n",
       "      <th>payment_date</th>\n",
       "      <th>title</th>\n",
       "      <th>status</th>\n",
       "      <th>money</th>\n",
       "      <th>city</th>\n",
       "      <th>payment_system</th>\n",
       "    </tr>\n",
       "  </thead>\n",
       "  <tbody>\n",
       "    <tr>\n",
       "      <th>0</th>\n",
       "      <td>1062823</td>\n",
       "      <td>01.12.2019 10:50</td>\n",
       "      <td>01.12.2019 10:52</td>\n",
       "      <td>Курс обучения «Эксперт»</td>\n",
       "      <td>Завершен</td>\n",
       "      <td>29597.50</td>\n",
       "      <td>Чита</td>\n",
       "      <td>Сбербанк эквайринг</td>\n",
       "    </tr>\n",
       "    <tr>\n",
       "      <th>1</th>\n",
       "      <td>1062855</td>\n",
       "      <td>01.12.2019 20:53</td>\n",
       "      <td>01.12.2019 21:27</td>\n",
       "      <td>Курс обучения «Эксперт»</td>\n",
       "      <td>Завершен</td>\n",
       "      <td>17450.30</td>\n",
       "      <td>Краснодар</td>\n",
       "      <td>Яндекс.Касса</td>\n",
       "    </tr>\n",
       "    <tr>\n",
       "      <th>2</th>\n",
       "      <td>1062856</td>\n",
       "      <td>01.12.2019 21:43</td>\n",
       "      <td>NaN</td>\n",
       "      <td>Курс обучения «Специалист»</td>\n",
       "      <td>Отменен</td>\n",
       "      <td>0.00</td>\n",
       "      <td>NaN</td>\n",
       "      <td>NaN</td>\n",
       "    </tr>\n",
       "    <tr>\n",
       "      <th>3</th>\n",
       "      <td>1062880</td>\n",
       "      <td>03.12.2019 0:18</td>\n",
       "      <td>NaN</td>\n",
       "      <td>Курс обучения «Консультант»</td>\n",
       "      <td>Отменен</td>\n",
       "      <td>0.00</td>\n",
       "      <td>г.Москва и Московская область</td>\n",
       "      <td>NaN</td>\n",
       "    </tr>\n",
       "    <tr>\n",
       "      <th>4</th>\n",
       "      <td>1062899</td>\n",
       "      <td>03.12.2019 21:43</td>\n",
       "      <td>NaN</td>\n",
       "      <td>Курс обучения «Эксперт»</td>\n",
       "      <td>Отменен</td>\n",
       "      <td>0.00</td>\n",
       "      <td>г.Москва и Московская область</td>\n",
       "      <td>NaN</td>\n",
       "    </tr>\n",
       "    <tr>\n",
       "      <th>...</th>\n",
       "      <td>...</td>\n",
       "      <td>...</td>\n",
       "      <td>...</td>\n",
       "      <td>...</td>\n",
       "      <td>...</td>\n",
       "      <td>...</td>\n",
       "      <td>...</td>\n",
       "      <td>...</td>\n",
       "    </tr>\n",
       "    <tr>\n",
       "      <th>287</th>\n",
       "      <td>1064720</td>\n",
       "      <td>30.12.2019 9:42</td>\n",
       "      <td>30.12.2019 12:49</td>\n",
       "      <td>Подписка «ОНЛАЙН ДИЕТОЛОГ» с ежемесячным автос...</td>\n",
       "      <td>Завершен</td>\n",
       "      <td>2935.44</td>\n",
       "      <td>Самарская область</td>\n",
       "      <td>Яндекс.Касса</td>\n",
       "    </tr>\n",
       "    <tr>\n",
       "      <th>288</th>\n",
       "      <td>1064724</td>\n",
       "      <td>30.12.2019 11:32</td>\n",
       "      <td>NaN</td>\n",
       "      <td>Курс обучения «Консультант»</td>\n",
       "      <td>Отменен</td>\n",
       "      <td>0.00</td>\n",
       "      <td>NaN</td>\n",
       "      <td>NaN</td>\n",
       "    </tr>\n",
       "    <tr>\n",
       "      <th>289</th>\n",
       "      <td>1064775</td>\n",
       "      <td>31.12.2019 2:17</td>\n",
       "      <td>31.12.2019 2:22</td>\n",
       "      <td>Курс обучения «Консультант»</td>\n",
       "      <td>Завершен</td>\n",
       "      <td>7423.92</td>\n",
       "      <td>NaN</td>\n",
       "      <td>Сбербанк эквайринг,Бонусный счет</td>\n",
       "    </tr>\n",
       "    <tr>\n",
       "      <th>290</th>\n",
       "      <td>1064793</td>\n",
       "      <td>31.12.2019 16:40</td>\n",
       "      <td>01.01.2020 14:29</td>\n",
       "      <td>Подписка «ОНЛАЙН ДИЕТОЛОГ» с ежемесячным автос...</td>\n",
       "      <td>Завершен</td>\n",
       "      <td>2935.44</td>\n",
       "      <td>Республика Карелия</td>\n",
       "      <td>Яндекс.Касса</td>\n",
       "    </tr>\n",
       "    <tr>\n",
       "      <th>291</th>\n",
       "      <td>1064796</td>\n",
       "      <td>31.12.2019 17:29</td>\n",
       "      <td>31.12.2019 17:32</td>\n",
       "      <td>Курс от Школы Диетологов. Повышение квалификац...</td>\n",
       "      <td>Завершен</td>\n",
       "      <td>9898.56</td>\n",
       "      <td>Уфа</td>\n",
       "      <td>Сбербанк эквайринг,Бонусный счет</td>\n",
       "    </tr>\n",
       "  </tbody>\n",
       "</table>\n",
       "<p>292 rows × 8 columns</p>\n",
       "</div>"
      ],
      "text/plain": [
       "      number     creation_date      payment_date  \\\n",
       "0    1062823  01.12.2019 10:50  01.12.2019 10:52   \n",
       "1    1062855  01.12.2019 20:53  01.12.2019 21:27   \n",
       "2    1062856  01.12.2019 21:43               NaN   \n",
       "3    1062880   03.12.2019 0:18               NaN   \n",
       "4    1062899  03.12.2019 21:43               NaN   \n",
       "..       ...               ...               ...   \n",
       "287  1064720   30.12.2019 9:42  30.12.2019 12:49   \n",
       "288  1064724  30.12.2019 11:32               NaN   \n",
       "289  1064775   31.12.2019 2:17   31.12.2019 2:22   \n",
       "290  1064793  31.12.2019 16:40  01.01.2020 14:29   \n",
       "291  1064796  31.12.2019 17:29  31.12.2019 17:32   \n",
       "\n",
       "                                                 title    status     money  \\\n",
       "0                              Курс обучения «Эксперт»  Завершен  29597.50   \n",
       "1                              Курс обучения «Эксперт»  Завершен  17450.30   \n",
       "2                           Курс обучения «Специалист»   Отменен      0.00   \n",
       "3                          Курс обучения «Консультант»   Отменен      0.00   \n",
       "4                              Курс обучения «Эксперт»   Отменен      0.00   \n",
       "..                                                 ...       ...       ...   \n",
       "287  Подписка «ОНЛАЙН ДИЕТОЛОГ» с ежемесячным автос...  Завершен   2935.44   \n",
       "288                        Курс обучения «Консультант»   Отменен      0.00   \n",
       "289                        Курс обучения «Консультант»  Завершен   7423.92   \n",
       "290  Подписка «ОНЛАЙН ДИЕТОЛОГ» с ежемесячным автос...  Завершен   2935.44   \n",
       "291  Курс от Школы Диетологов. Повышение квалификац...  Завершен   9898.56   \n",
       "\n",
       "                              city                    payment_system  \n",
       "0                             Чита                Сбербанк эквайринг  \n",
       "1                        Краснодар                      Яндекс.Касса  \n",
       "2                              NaN                               NaN  \n",
       "3    г.Москва и Московская область                               NaN  \n",
       "4    г.Москва и Московская область                               NaN  \n",
       "..                             ...                               ...  \n",
       "287              Самарская область                      Яндекс.Касса  \n",
       "288                            NaN                               NaN  \n",
       "289                            NaN  Сбербанк эквайринг,Бонусный счет  \n",
       "290             Республика Карелия                      Яндекс.Касса  \n",
       "291                            Уфа  Сбербанк эквайринг,Бонусный счет  \n",
       "\n",
       "[292 rows x 8 columns]"
      ]
     },
     "execution_count": 35,
     "metadata": {},
     "output_type": "execute_result"
    }
   ],
   "source": [
    "df"
   ]
  },
  {
   "cell_type": "code",
   "execution_count": 46,
   "metadata": {},
   "outputs": [
    {
     "data": {
      "text/plain": [
       "<bound method NDFrame.head of                                                  title   number\n",
       "0                              Курс обучения «Эксперт»  1062823\n",
       "1                              Курс обучения «Эксперт»  1062855\n",
       "2                           Курс обучения «Специалист»  1062856\n",
       "3                          Курс обучения «Консультант»  1062880\n",
       "4                              Курс обучения «Эксперт»  1062899\n",
       "..                                                 ...      ...\n",
       "287  Подписка «ОНЛАЙН ДИЕТОЛОГ» с ежемесячным автос...  1064720\n",
       "288                        Курс обучения «Консультант»  1064724\n",
       "289                        Курс обучения «Консультант»  1064775\n",
       "290  Подписка «ОНЛАЙН ДИЕТОЛОГ» с ежемесячным автос...  1064793\n",
       "291  Курс от Школы Диетологов. Повышение квалификац...  1064796\n",
       "\n",
       "[292 rows x 2 columns]>"
      ]
     },
     "execution_count": 46,
     "metadata": {},
     "output_type": "execute_result"
    }
   ],
   "source": [
    "df[['title', 'number']].head"
   ]
  },
  {
   "cell_type": "code",
   "execution_count": 47,
   "metadata": {},
   "outputs": [],
   "source": [
    "all_money = df.money.sum()"
   ]
  },
  {
   "cell_type": "code",
   "execution_count": 48,
   "metadata": {},
   "outputs": [
    {
     "data": {
      "text/plain": [
       "992103.5900000001"
      ]
     },
     "execution_count": 48,
     "metadata": {},
     "output_type": "execute_result"
    }
   ],
   "source": [
    "all_money"
   ]
  },
  {
   "cell_type": "code",
   "execution_count": 53,
   "metadata": {},
   "outputs": [
    {
     "data": {
      "text/html": [
       "<div>\n",
       "<style scoped>\n",
       "    .dataframe tbody tr th:only-of-type {\n",
       "        vertical-align: middle;\n",
       "    }\n",
       "\n",
       "    .dataframe tbody tr th {\n",
       "        vertical-align: top;\n",
       "    }\n",
       "\n",
       "    .dataframe thead th {\n",
       "        text-align: right;\n",
       "    }\n",
       "</style>\n",
       "<table border=\"1\" class=\"dataframe\">\n",
       "  <thead>\n",
       "    <tr style=\"text-align: right;\">\n",
       "      <th></th>\n",
       "      <th>title</th>\n",
       "      <th>money</th>\n",
       "    </tr>\n",
       "  </thead>\n",
       "  <tbody>\n",
       "    <tr>\n",
       "      <th>5</th>\n",
       "      <td>Подписка «ОНЛАЙН ДИЕТОЛОГ» с ежемесячным автос...</td>\n",
       "      <td>366947.20</td>\n",
       "    </tr>\n",
       "    <tr>\n",
       "      <th>0</th>\n",
       "      <td>Курс обучения «Консультант»</td>\n",
       "      <td>208163.49</td>\n",
       "    </tr>\n",
       "    <tr>\n",
       "      <th>1</th>\n",
       "      <td>Курс обучения «Специалист»</td>\n",
       "      <td>160862.64</td>\n",
       "    </tr>\n",
       "    <tr>\n",
       "      <th>2</th>\n",
       "      <td>Курс обучения «Эксперт»</td>\n",
       "      <td>148992.80</td>\n",
       "    </tr>\n",
       "    <tr>\n",
       "      <th>4</th>\n",
       "      <td>Курс от Школы Диетологов. Повышение квалификац...</td>\n",
       "      <td>88384.92</td>\n",
       "    </tr>\n",
       "    <tr>\n",
       "      <th>3</th>\n",
       "      <td>Курс от Школы Диетологов. Бизнес</td>\n",
       "      <td>18752.54</td>\n",
       "    </tr>\n",
       "  </tbody>\n",
       "</table>\n",
       "</div>"
      ],
      "text/plain": [
       "                                               title      money\n",
       "5  Подписка «ОНЛАЙН ДИЕТОЛОГ» с ежемесячным автос...  366947.20\n",
       "0                        Курс обучения «Консультант»  208163.49\n",
       "1                         Курс обучения «Специалист»  160862.64\n",
       "2                            Курс обучения «Эксперт»  148992.80\n",
       "4  Курс от Школы Диетологов. Повышение квалификац...   88384.92\n",
       "3                   Курс от Школы Диетологов. Бизнес   18752.54"
      ]
     },
     "execution_count": 53,
     "metadata": {},
     "output_type": "execute_result"
    }
   ],
   "source": [
    "df.groupby('title', as_index=False).aggregate({'money': 'sum'}).sort_values('money', ascending=False)"
   ]
  },
  {
   "cell_type": "code",
   "execution_count": null,
   "metadata": {},
   "outputs": [],
   "source": []
  },
  {
   "cell_type": "code",
   "execution_count": null,
   "metadata": {},
   "outputs": [],
   "source": []
  },
  {
   "cell_type": "code",
   "execution_count": null,
   "metadata": {},
   "outputs": [],
   "source": []
  },
  {
   "cell_type": "code",
   "execution_count": null,
   "metadata": {},
   "outputs": [],
   "source": []
  }
 ],
 "metadata": {
  "kernelspec": {
   "display_name": "Python 3",
   "language": "python",
   "name": "python3"
  },
  "language_info": {
   "codemirror_mode": {
    "name": "ipython",
    "version": 3
   },
   "file_extension": ".py",
   "mimetype": "text/x-python",
   "name": "python",
   "nbconvert_exporter": "python",
   "pygments_lexer": "ipython3",
   "version": "3.7.3"
  }
 },
 "nbformat": 4,
 "nbformat_minor": 4
}
