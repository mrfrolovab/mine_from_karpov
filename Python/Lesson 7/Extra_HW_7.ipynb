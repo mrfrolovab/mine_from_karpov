{
 "cells": [
  {
   "cell_type": "code",
   "execution_count": 3,
   "metadata": {},
   "outputs": [],
   "source": [
    "import requests\n",
    "import pandas as pd\n",
    "import seaborn as sns\n",
    "import matplotlib.pyplot as plt"
   ]
  },
  {
   "cell_type": "code",
   "execution_count": 5,
   "metadata": {},
   "outputs": [
    {
     "data": {
      "text/plain": [
       "[436524, 2032, 437329]"
      ]
     },
     "execution_count": 5,
     "metadata": {},
     "output_type": "execute_result"
    }
   ],
   "source": [
    "# Предположим, ваша задача – найти все произведения, связанные с подсолнухами. Выполните поиск по слову \"sunflowers\".\n",
    "# Внимательно посмотрите на формат ответа и сохраните id полученных объектов в список sunflower_ids.\n",
    "\n",
    "r = requests.get('https://collectionapi.metmuseum.org/public/collection/v1/search?q=sunflowers')\n",
    "sunflowers = r.json()\n",
    "sunflower_ids = sunflowers['objectIDs']\n",
    "search_ids = [436524, 2032, 20149, 16822570, 437329]\n",
    "[i for i in search_ids if i in sunflower_ids]"
   ]
  },
  {
   "cell_type": "code",
   "execution_count": 12,
   "metadata": {},
   "outputs": [
    {
     "data": {
      "text/plain": [
       "'825'"
      ]
     },
     "execution_count": 12,
     "metadata": {},
     "output_type": "execute_result"
    }
   ],
   "source": [
    "# Отлично! На предыдущем шаге мы получили результаты поиска. Следущий этап – собрать информацию об этих объектах.\n",
    "# Пример текста запроса для получения информации об одном объекте (Object):\n",
    "\n",
    "# r_test = requests.get(f'https://collectionapi.metmuseum.org/public/collection/v1/objects/OBJECT_ID')\n",
    "# obj_test = r_test.json()\n",
    "\n",
    "# где OBJECT_ID – id объекта.\n",
    "\n",
    "# Выполните запрос для объекта 437980. \n",
    "\n",
    "r_test = requests.get(f'https://collectionapi.metmuseum.org/public/collection/v1/objects/437980')\n",
    "obj_test = r_test.json()\n",
    "obj_test['GalleryNumber'] # проверить весь список"
   ]
  },
  {
   "cell_type": "code",
   "execution_count": null,
   "metadata": {},
   "outputs": [],
   "source": []
  },
  {
   "cell_type": "code",
   "execution_count": 17,
   "metadata": {},
   "outputs": [],
   "source": [
    "# собираем датафрейм для результатов поиска \n",
    "object_df = pd.DataFrame()\n",
    "for object_id in sunflower_ids:\n",
    "  # информация об объекте\n",
    "  r = requests.get(f'https://collectionapi.metmuseum.org/public/collection/v1/objects/{object_id}')\n",
    "  obj_tmp = r.json()\n",
    "\n",
    "  # формируем строчку для объекта\n",
    "  try:\n",
    "    obj_tmp_df = pd.DataFrame({'objectID' : obj_tmp['objectID'],\n",
    "                              'title' : [obj_tmp['title']],\n",
    "                              'artistDisplayName': [obj_tmp['artistDisplayName']],\n",
    "                              'department' : [obj_tmp['department']], \n",
    "                              'objectBeginDate' : [obj_tmp['objectBeginDate']], \n",
    "                              'objectEndDate' : [obj_tmp['objectEndDate']], \n",
    "                              'period' : [obj_tmp['period']], \n",
    "                              'objectName' : [obj_tmp['objectName']], \n",
    "                              'culture': [obj_tmp['culture']]\n",
    "                          })\n",
    "    # приклеиваем\n",
    "    object_df = pd.concat([object_df, obj_tmp_df])\n",
    "  except KeyError:\n",
    "      continue"
   ]
  },
  {
   "cell_type": "code",
   "execution_count": 18,
   "metadata": {},
   "outputs": [
    {
     "data": {
      "text/plain": [
       "1"
      ]
     },
     "execution_count": 18,
     "metadata": {},
     "output_type": "execute_result"
    }
   ],
   "source": [
    "object_df.query(\"culture == 'Japan'\").shape[0]"
   ]
  },
  {
   "cell_type": "code",
   "execution_count": null,
   "metadata": {},
   "outputs": [],
   "source": []
  },
  {
   "cell_type": "code",
   "execution_count": 19,
   "metadata": {},
   "outputs": [
    {
     "ename": "NameError",
     "evalue": "name 'cat_ids' is not defined",
     "output_type": "error",
     "traceback": [
      "\u001b[0;31m---------------------------------------------------------------------------\u001b[0m",
      "\u001b[0;31mNameError\u001b[0m                                 Traceback (most recent call last)",
      "\u001b[0;32m<ipython-input-19-3d8a479853e6>\u001b[0m in \u001b[0;36m<module>\u001b[0;34m\u001b[0m\n\u001b[1;32m      2\u001b[0m \u001b[0mobject_df\u001b[0m \u001b[0;34m=\u001b[0m \u001b[0mpd\u001b[0m\u001b[0;34m.\u001b[0m\u001b[0mDataFrame\u001b[0m\u001b[0;34m(\u001b[0m\u001b[0;34m)\u001b[0m\u001b[0;34m\u001b[0m\u001b[0;34m\u001b[0m\u001b[0m\n\u001b[1;32m      3\u001b[0m \u001b[0;34m\u001b[0m\u001b[0m\n\u001b[0;32m----> 4\u001b[0;31m \u001b[0;32mfor\u001b[0m \u001b[0mobject_id\u001b[0m \u001b[0;32min\u001b[0m \u001b[0mcat_ids\u001b[0m\u001b[0;34m[\u001b[0m\u001b[0;34m:\u001b[0m\u001b[0;36m1000\u001b[0m\u001b[0;34m]\u001b[0m\u001b[0;34m:\u001b[0m  \u001b[0;31m# берем только 1000 объектов, как указано в задании\u001b[0m\u001b[0;34m\u001b[0m\u001b[0;34m\u001b[0m\u001b[0m\n\u001b[0m\u001b[1;32m      5\u001b[0m     \u001b[0;31m# информация об объекте\u001b[0m\u001b[0;34m\u001b[0m\u001b[0;34m\u001b[0m\u001b[0;34m\u001b[0m\u001b[0m\n\u001b[1;32m      6\u001b[0m     \u001b[0mr\u001b[0m \u001b[0;34m=\u001b[0m \u001b[0mrequests\u001b[0m\u001b[0;34m.\u001b[0m\u001b[0mget\u001b[0m\u001b[0;34m(\u001b[0m\u001b[0;34mf'https://collectionapi.metmuseum.org/public/collection/v1/objects/{object_id}'\u001b[0m\u001b[0;34m)\u001b[0m\u001b[0;34m\u001b[0m\u001b[0;34m\u001b[0m\u001b[0m\n",
      "\u001b[0;31mNameError\u001b[0m: name 'cat_ids' is not defined"
     ]
    }
   ],
   "source": [
    "# собираем датафрейм для результатов поиска \n",
    "object_df = pd.DataFrame()\n",
    "\n",
    "for object_id in cat_ids[:1000]:  # берем только 1000 объектов, как указано в задании\n",
    "    # информация об объекте\n",
    "    r = requests.get(f'https://collectionapi.metmuseum.org/public/collection/v1/objects/{object_id}')\n",
    "    obj_tmp = r.json()\n",
    "\n",
    "    # формируем строчку для объекта\n",
    "    try:\n",
    "        obj_tmp_df = pd.DataFrame({'objectID' : obj_tmp['objectID'],\n",
    "                                 'title' : [obj_tmp['title']],\n",
    "                                 'artistDisplayName': [obj_tmp['artistDisplayName']],\n",
    "                                 'department' : [obj_tmp['department']], \n",
    "                                 'objectBeginDate' : [obj_tmp['objectBeginDate']], \n",
    "                                 'objectEndDate' : [obj_tmp['objectEndDate']], \n",
    "                                 'objectName' : [obj_tmp['objectName']], \n",
    "                                 'culture': [obj_tmp['culture']],\n",
    "                                 'period': [obj_tmp['period']]\n",
    "                            })\n",
    "        # приклеиваем\n",
    "        object_df = pd.concat([object_df, obj_tmp_df])\n",
    "    except KeyError:\n",
    "        continue\n",
    "        "
   ]
  },
  {
   "cell_type": "code",
   "execution_count": null,
   "metadata": {},
   "outputs": [],
   "source": []
  }
 ],
 "metadata": {
  "kernelspec": {
   "display_name": "Python 3",
   "language": "python",
   "name": "python3"
  },
  "language_info": {
   "codemirror_mode": {
    "name": "ipython",
    "version": 3
   },
   "file_extension": ".py",
   "mimetype": "text/x-python",
   "name": "python",
   "nbconvert_exporter": "python",
   "pygments_lexer": "ipython3",
   "version": "3.7.3"
  }
 },
 "nbformat": 4,
 "nbformat_minor": 4
}
