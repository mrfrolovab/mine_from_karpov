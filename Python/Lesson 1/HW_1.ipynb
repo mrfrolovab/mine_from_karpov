{
 "cells": [
  {
   "cell_type": "code",
   "execution_count": 1,
   "metadata": {},
   "outputs": [],
   "source": [
    "# 1. Начнём с простого: сохраните в переменную age произвольный возраст, выраженный целым числом,\n",
    "# а в переменную name – какое-нибудь имя в виде строки.\n",
    "\n",
    "age, name = 32, 'Aleksandr'"
   ]
  },
  {
   "cell_type": "code",
   "execution_count": 2,
   "metadata": {},
   "outputs": [],
   "source": [
    "# 2. Создайте список user_info, содержащий 4 элемента в следующем порядке:\n",
    "\n",
    "# 2 строки (имя и фамилия пользователя)\n",
    "# 1 дробное число (зарплата)\n",
    "# 1 целое число (стаж)\n",
    "\n",
    "user_info = ['Aleksandr', 'Frolov', 150000.0, 2]"
   ]
  },
  {
   "cell_type": "code",
   "execution_count": 3,
   "metadata": {},
   "outputs": [],
   "source": [
    "# 3. Поместите в переменную first первый (т.е. нулевой) элемент из списка salaries.\n",
    "# Сам список создавать не нужно, он уже находится в переменной salaries. Пример данных, которые могут в нем быть:\n",
    "\n",
    "salaries = [42, 100, 70, 80]\n",
    "first = salaries[0]"
   ]
  },
  {
   "cell_type": "code",
   "execution_count": 9,
   "metadata": {},
   "outputs": [
    {
     "data": {
      "text/plain": [
       "['Voronov', 42]"
      ]
     },
     "execution_count": 9,
     "metadata": {},
     "output_type": "execute_result"
    }
   ],
   "source": [
    "# 4. Добавьте в уже созданный список users элементы 'Voronov' и 42.\n",
    "\n",
    "users = []\n",
    "users.append('Voronov'), users.append(42)\n",
    "users"
   ]
  },
  {
   "cell_type": "code",
   "execution_count": 10,
   "metadata": {},
   "outputs": [
    {
     "name": "stdout",
     "output_type": "stream",
     "text": [
      "21\n",
      "35\n",
      "42\n",
      "27\n"
     ]
    }
   ],
   "source": [
    "# 5. В переменной user_ages содержится список возрастов клиентов. Напишите цикл, выводящий на печать элементы больше 18.\n",
    "# Сам список создавать не нужно, он уже находится в переменной user_ages.\n",
    "\n",
    "user_ages = [10, 18, 21, 35, 42, 27, 12, 16]\n",
    "print(*[i for i in user_ages if i > 18], sep = '\\n')"
   ]
  },
  {
   "cell_type": "code",
   "execution_count": 15,
   "metadata": {},
   "outputs": [
    {
     "data": {
      "text/plain": [
       "'Olya Silyutina is middle'"
      ]
     },
     "execution_count": 15,
     "metadata": {},
     "output_type": "execute_result"
    }
   ],
   "source": [
    "# 6. Напишите программу, проверяющую стаж работы сотрудника.\n",
    "# В переменной worker уже содержится список, содержащий значения как во 2-м задании (имя, фамилия, зарплата, стаж).\n",
    "# Поместите в переменную status следующую строку:\n",
    "# user_name user_family is position\n",
    "# где user_name и user_family — имя и фамилия сотрудника, а position — одно из следующих значений:\n",
    "\n",
    "# 'junior' — стаж меньше 2 лет\n",
    "# 'middle' — стаж больше либо равен 2 лет и меньше или равен 5\n",
    "# 'senior' — стаж больше 5 лет \n",
    "\n",
    "worker = ['Olya', 'Silyutina', 350000, 3]\n",
    "status = '{user_name} {user_family} is {position}'\n",
    "if worker[-1] < 2:\n",
    "    position = 'junior'\n",
    "elif worker[-1] > 5:\n",
    "    position = 'senior'\n",
    "else: position = 'middle'\n",
    "status = status.format(user_name = worker[0], user_family = worker[1], position = position)\n",
    "status"
   ]
  },
  {
   "cell_type": "code",
   "execution_count": null,
   "metadata": {},
   "outputs": [],
   "source": []
  },
  {
   "cell_type": "code",
   "execution_count": null,
   "metadata": {},
   "outputs": [],
   "source": []
  }
 ],
 "metadata": {
  "kernelspec": {
   "display_name": "Python 3",
   "language": "python",
   "name": "python3"
  },
  "language_info": {
   "codemirror_mode": {
    "name": "ipython",
    "version": 3
   },
   "file_extension": ".py",
   "mimetype": "text/x-python",
   "name": "python",
   "nbconvert_exporter": "python",
   "pygments_lexer": "ipython3",
   "version": "3.7.3"
  }
 },
 "nbformat": 4,
 "nbformat_minor": 4
}
