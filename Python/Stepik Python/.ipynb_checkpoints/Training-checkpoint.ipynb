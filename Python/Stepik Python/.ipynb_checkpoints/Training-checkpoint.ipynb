{
 "cells": [
  {
   "cell_type": "code",
   "execution_count": 6,
   "metadata": {},
   "outputs": [
    {
     "name": "stdout",
     "output_type": "stream",
     "text": [
      "7\n",
      "Нечетное\n"
     ]
    }
   ],
   "source": [
    "# Определение чётности числа\n",
    "a = int(input())\n",
    "if a % 2 == 0:\n",
    "    print('Четное')\n",
    "else: print ('Нечетное')"
   ]
  },
  {
   "cell_type": "code",
   "execution_count": 30,
   "metadata": {},
   "outputs": [
    {
     "name": "stdout",
     "output_type": "stream",
     "text": [
      "4\n",
      "5\n",
      "7\n"
     ]
    }
   ],
   "source": [
    "# определение 3 значного числа\n",
    "a = 754\n",
    "b = a % 10\n",
    "c = (a % 100) // 10\n",
    "d = a // 100\n",
    "print(b)\n",
    "print(c)\n",
    "print(d)"
   ]
  },
  {
   "cell_type": "code",
   "execution_count": 19,
   "metadata": {},
   "outputs": [
    {
     "name": "stdout",
     "output_type": "stream",
     "text": [
      "12\n",
      "12\n",
      "12\n",
      "Нет корней\n"
     ]
    }
   ],
   "source": [
    "# Квадратное уравнение\n",
    "a, b, c = float(input()), float(input()), float(input())\n",
    "from math import sqrt, pow\n",
    "d = pow(b, 2) - (4 * (a * c))\n",
    "if d > 0:\n",
    "    x1 = (-b - sqrt(d)) / (2 * a)\n",
    "    x2 = (-b + sqrt(d)) / (2 * a)\n",
    "    print(min(x1, x2), '\\n', max(x1, x2))\n",
    "elif d == 0:\n",
    "    print(- b / (2 * a))\n",
    "else: print('Нет корней')"
   ]
  },
  {
   "cell_type": "code",
   "execution_count": 1,
   "metadata": {},
   "outputs": [
    {
     "name": "stdout",
     "output_type": "stream",
     "text": [
      "3\n",
      "4\n",
      "6.928203230275511\n"
     ]
    }
   ],
   "source": [
    "# Площадь правильного многоугольника\n",
    "n = float(input())\n",
    "a = float(input())\n",
    "from math import pi, tan, pow\n",
    "print((n * pow(a, 2)) / (4 * tan((pi / n))))"
   ]
  },
  {
   "cell_type": "code",
   "execution_count": 2,
   "metadata": {},
   "outputs": [
    {
     "name": "stdout",
     "output_type": "stream",
     "text": [
      "3\n",
      "2\n",
      "Квадрат вашего числа равен: 4\n",
      "3\n",
      "Квадрат вашего числа равен: 9\n",
      "4\n",
      "Квадрат вашего числа равен: 16\n",
      "Цикл завершен\n"
     ]
    }
   ],
   "source": [
    "# Квадрат числа\n",
    "for i in range(int(input())):\n",
    "    num = int(input())\n",
    "    print('Квадрат вашего числа равен:', num * num)\n",
    "print('Цикл завершен')"
   ]
  },
  {
   "cell_type": "code",
   "execution_count": 3,
   "metadata": {},
   "outputs": [
    {
     "name": "stdout",
     "output_type": "stream",
     "text": [
      "3\n",
      "3 x 1 = 3\n",
      "3 x 2 = 6\n",
      "3 x 3 = 9\n",
      "3 x 4 = 12\n",
      "3 x 5 = 15\n",
      "3 x 6 = 18\n",
      "3 x 7 = 21\n",
      "3 x 8 = 24\n",
      "3 x 9 = 27\n",
      "3 x 10 = 30\n"
     ]
    }
   ],
   "source": [
    "# Таблица умножения\n",
    "n = int(input())\n",
    "for i in range(10):\n",
    "    print(n, 'x', i + 1, '=', (i + 1) * n)"
   ]
  },
  {
   "cell_type": "code",
   "execution_count": 27,
   "metadata": {},
   "outputs": [
    {
     "name": "stdout",
     "output_type": "stream",
     "text": [
      "5\n",
      "1\n",
      "2\n",
      "3\n",
      "4\n",
      "5\n",
      "15\n"
     ]
    }
   ],
   "source": [
    "# Сумма чисел\n",
    "n = int(input())\n",
    "total = 0\n",
    "for i in range(n):\n",
    "    num = int(input())\n",
    "    total = (num + total)\n",
    "print(total)"
   ]
  },
  {
   "cell_type": "code",
   "execution_count": 5,
   "metadata": {},
   "outputs": [
    {
     "name": "stdout",
     "output_type": "stream",
     "text": [
      "23\n",
      "Число простое\n"
     ]
    }
   ],
   "source": [
    "num = int(input())\n",
    "flag = True\n",
    "\n",
    "for i in range(2, num):\n",
    "    if num % i == 0:        #  если исходное число делится на какое-либо отличное от 1 и самого себя\n",
    "        flag = False\n",
    "\n",
    "if num == 1:\n",
    "    print('Это единица, она не простая и не составная') \n",
    "elif flag == True:\n",
    "    print('Число простое')\n",
    "else:\n",
    "    print('Число составное')"
   ]
  },
  {
   "cell_type": "code",
   "execution_count": 7,
   "metadata": {},
   "outputs": [
    {
     "name": "stdout",
     "output_type": "stream",
     "text": [
      "10\n",
      "0.6263831609742079\n"
     ]
    }
   ],
   "source": [
    "from math import log\n",
    "n = int(input())\n",
    "count = 0\n",
    "for i in range(1, n + 1):\n",
    "    count += (1 / i)\n",
    "print(count - log(n))"
   ]
  },
  {
   "cell_type": "code",
   "execution_count": 8,
   "metadata": {},
   "outputs": [
    {
     "name": "stdout",
     "output_type": "stream",
     "text": [
      "Привет\n",
      "Привет\n",
      "Привет\n",
      "Привет\n",
      "Привет\n",
      "Привет\n",
      "Привет\n",
      "Привет\n",
      "Привет\n",
      "Привет\n"
     ]
    }
   ],
   "source": [
    "i = 0\n",
    "while i < 10:\n",
    "    print('Привет')\n",
    "    i += 1"
   ]
  },
  {
   "cell_type": "code",
   "execution_count": 2,
   "metadata": {},
   "outputs": [
    {
     "name": "stdout",
     "output_type": "stream",
     "text": [
      "7\n",
      "9\n",
      "4\n",
      "8\n",
      "5\n",
      "1\n",
      "78\n",
      "8984\n",
      "4\n",
      "1\n",
      "-5150\n",
      "stop\n",
      "Сумма чисел равна 3951\n"
     ]
    }
   ],
   "source": [
    "text = input()\n",
    "total = 0\n",
    "while text != 'stop':\n",
    "    num = int(text)\n",
    "    total += num\n",
    "    text = input()\n",
    "print('Сумма чисел равна', total)"
   ]
  },
  {
   "cell_type": "code",
   "execution_count": 3,
   "metadata": {},
   "outputs": [
    {
     "name": "stdout",
     "output_type": "stream",
     "text": [
      "21\n"
     ]
    }
   ],
   "source": [
    "i = 7\n",
    "a = 5\n",
    "while i < 11:\n",
    "    a += i\n",
    "    i += 2\n",
    "print(a)"
   ]
  },
  {
   "cell_type": "code",
   "execution_count": 6,
   "metadata": {},
   "outputs": [
    {
     "name": "stdout",
     "output_type": "stream",
     "text": [
      "ропо\n",
      "пальма\n",
      "там\n",
      "тратата\n",
      "хватит\n",
      "4\n"
     ]
    }
   ],
   "source": [
    "# Подсчёт кол-ва членов\n",
    "text = input()\n",
    "total = 0\n",
    "while text != 'стоп' and text != 'хватит' and text != 'достаточно':\n",
    "    text = input()\n",
    "    total += 1\n",
    "print(total)"
   ]
  },
  {
   "cell_type": "code",
   "execution_count": 8,
   "metadata": {},
   "outputs": [
    {
     "name": "stdout",
     "output_type": "stream",
     "text": [
      "1005\n",
      "41\n"
     ]
    }
   ],
   "source": [
    "price = int(input())  # получаем цену услуги ведьмака\n",
    "count=0               # переменная для хранения кол-ва монет\n",
    "\n",
    "while price > 0:      # пока цена больше 0 выполняем цикл\n",
    "  if price >= 25:     # если цена больше или равен 25\n",
    "    price-=25         # вычитаем из нее 25\n",
    "  elif price >= 10:   # иначе проверяем остаток больше или равен 10 \n",
    "    price-=10         # если да отнимаем 10\n",
    "  elif price >= 5:    # если остаток больше или равен 5\n",
    "    price-=5          # то вычитаем 5\n",
    "  else:               # иначе остается менее 5 и вычетаем по монетке\n",
    "    price-=1          # вычетаем по монетке\n",
    "  count+=1            # считаем кол-во монет, за один цикл вычитаем только 1 номинал монеты в зависимости от условий\n",
    "\n",
    "print(count)     "
   ]
  },
  {
   "cell_type": "code",
   "execution_count": 14,
   "metadata": {},
   "outputs": [
    {
     "name": "stdout",
     "output_type": "stream",
     "text": [
      "56165465465465465465456746546565456165456465456465\n",
      "YES\n"
     ]
    }
   ],
   "source": [
    "num = int(input())\n",
    "has_seven = False  # сигнальная метка\n",
    "\n",
    "while num != 0:\n",
    "    last_digit = num % 10\n",
    "    if last_digit == 7:\n",
    "        has_seven = True\n",
    "    num = num // 10\n",
    "\n",
    "if has_seven == True:\n",
    "    print('YES')\n",
    "else:\n",
    "    print('NO')"
   ]
  },
  {
   "cell_type": "code",
   "execution_count": 17,
   "metadata": {},
   "outputs": [
    {
     "name": "stdout",
     "output_type": "stream",
     "text": [
      "2\n",
      "4\n",
      "6\n",
      "8\n",
      "10\n",
      "Цикл завершен.\n"
     ]
    }
   ],
   "source": [
    "n = 0\n",
    "while n < 10:\n",
    "    n += 2\n",
    "    print(n)\n",
    "else:\n",
    "    print('Цикл завершен.')"
   ]
  },
  {
   "cell_type": "code",
   "execution_count": 2,
   "metadata": {},
   "outputs": [
    {
     "name": "stdout",
     "output_type": "stream",
     "text": [
      "20\n",
      "4\n",
      "-4\n",
      "4654\n",
      "7\n",
      "54\n",
      "98\n",
      "-47\n",
      "54\n",
      "8\n",
      "8\n",
      "5958239938560\n"
     ]
    }
   ],
   "source": [
    "total = 0\n",
    "minn = 0\n",
    "for i in range(10):\n",
    "    x = int(input())\n",
    "    if x < 0:\n",
    "        s = x\n",
    "    if x > mx:\n",
    "        mx = x\n",
    "print(s)\n",
    "print(mx)"
   ]
  },
  {
   "cell_type": "code",
   "execution_count": 36,
   "metadata": {},
   "outputs": [
    {
     "name": "stdout",
     "output_type": "stream",
     "text": [
      "49778\n",
      "35\n",
      "5\n",
      "14112\n",
      "7.0\n",
      "49\n",
      "12\n"
     ]
    }
   ],
   "source": []
  },
  {
   "cell_type": "code",
   "execution_count": 9,
   "metadata": {},
   "outputs": [
    {
     "name": "stdout",
     "output_type": "stream",
     "text": [
      "2\n",
      "1 + 1 = 2\n",
      "1 + 2 = 3\n",
      "1 + 3 = 4\n",
      "1 + 4 = 5\n",
      "1 + 5 = 6\n",
      "1 + 6 = 7\n",
      "1 + 7 = 8\n",
      "1 + 8 = 9\n",
      "1 + 9 = 10\n",
      "\n",
      "2 + 1 = 3\n",
      "2 + 2 = 4\n",
      "2 + 3 = 5\n",
      "2 + 4 = 6\n",
      "2 + 5 = 7\n",
      "2 + 6 = 8\n",
      "2 + 7 = 9\n",
      "2 + 8 = 10\n",
      "2 + 9 = 11\n",
      "\n"
     ]
    }
   ],
   "source": [
    "n = int(input())\n",
    "for i in range(1, n + 1):\n",
    "    for j in range(1, 10):\n",
    "        print(i, '+', j, '=', i + j)\n",
    "    print()"
   ]
  },
  {
   "cell_type": "code",
   "execution_count": 22,
   "metadata": {},
   "outputs": [
    {
     "name": "stdout",
     "output_type": "stream",
     "text": [
      "24\n",
      "NO\n"
     ]
    }
   ],
   "source": [
    "n = 4\n",
    "total = 0\n",
    "maxx = -1\n",
    "while n != 0:\n",
    "    x = int(input())\n",
    "    x % 10\n",
    "    last_digit = x % 10\n",
    "    if last_digit % 2 != 0:\n",
    "        total += 1\n",
    "        if last_digit > maxx:\n",
    "            maxx = last_digit    \n",
    "    n //= 10\n",
    "if total == 0:\n",
    "    print('NO')\n",
    "else: print(total, maxx)"
   ]
  },
  {
   "cell_type": "code",
   "execution_count": 6,
   "metadata": {},
   "outputs": [
    {
     "name": "stdout",
     "output_type": "stream",
     "text": [
      "1538\n",
      "1\n",
      "1\n",
      "1\n",
      "8\n",
      "8\n",
      "1\n"
     ]
    }
   ],
   "source": [
    "# количество цифр 3 в нем;\n",
    "# сколько раз в нем встречается последняя цифра;\n",
    "# количество четных цифр;\n",
    "# сумму его цифр, больших пяти;\n",
    "# произведение цифр, больших семи (если цифр больших семи нет, то вывести 1, если такая цифра одна, то вывести ее);\n",
    "# сколько раз в нем встречается цифры 0 и 5 (всего суммарно).\n",
    "\n",
    "n = int(input())\n",
    "count = 0\n",
    "count3 = 0\n",
    "count5 = 0\n",
    "count7 = 1\n",
    "count0 = 0\n",
    "true_count = 0\n",
    "true_last = n % 10\n",
    "while n > 0:\n",
    "    last_digit = n % 10\n",
    "    if last_digit == 3:\n",
    "        count3 += 1\n",
    "    if true_last == last_digit:\n",
    "        true_count += 1\n",
    "    if last_digit % 2 == 0:\n",
    "        count += 1\n",
    "    if last_digit > 5:\n",
    "        count5 += last_digit\n",
    "    if last_digit > 7:\n",
    "        count7 *= last_digit\n",
    "    if last_digit == 0 or last_digit == 5:\n",
    "        count0 += 1\n",
    "    n //= 10\n",
    "if count7 == 0:\n",
    "    count7 = 1\n",
    "print(count3, true_count, count, count5, count7, count0, sep = '\\n')"
   ]
  },
  {
   "cell_type": "markdown",
   "metadata": {},
   "source": [
    " "
   ]
  },
  {
   "cell_type": "code",
   "execution_count": 17,
   "metadata": {},
   "outputs": [
    {
     "name": "stdout",
     "output_type": "stream",
     "text": [
      "Вдохновение – это умение приводить себя в рабочее состояние!\n",
      "Количество гласных букв равно 25\n",
      "Количество согласных букв равно 24\n"
     ]
    }
   ],
   "source": [
    "n = input()\n",
    "counth, countv = 0, 0\n",
    "for i in range(len(n)):\n",
    "    if n[i] in 'ауоыиэяюёеАУОЫИЭЯЮЁЕ':\n",
    "        countv += 1\n",
    "    if n[i] in 'бвгджзйклмнпрстфхцчшщБВГДЖЗЙКЛМНПРСТФХЦЧШЩ':\n",
    "        counth += 1\n",
    "print('Количество гласных букв равно', countv)\n",
    "print('Количество согласных букв равно', counth)"
   ]
  },
  {
   "cell_type": "code",
   "execution_count": 38,
   "metadata": {},
   "outputs": [
    {
     "name": "stdout",
     "output_type": "stream",
     "text": [
      "I learn pYTHON laNGUAge\n"
     ]
    }
   ],
   "source": [
    "s = 'i LEARN Python LAnguaGE'\n",
    "print(s.swapcase())"
   ]
  },
  {
   "cell_type": "code",
   "execution_count": 1,
   "metadata": {},
   "outputs": [
    {
     "name": "stdout",
     "output_type": "stream",
     "text": [
      "3\n",
      "asf\n",
      "asf\n"
     ]
    }
   ],
   "source": [
    "n = input()\n",
    "for i in range(len(n)):\n",
    "    x = input()\n",
    "print(x)"
   ]
  },
  {
   "cell_type": "code",
   "execution_count": null,
   "metadata": {},
   "outputs": [],
   "source": []
  },
  {
   "cell_type": "code",
   "execution_count": 8,
   "metadata": {},
   "outputs": [
    {
     "name": "stdout",
     "output_type": "stream",
     "text": [
      "8\n"
     ]
    }
   ],
   "source": [
    "s = 'I learn Python language. Python - awesome!'\n",
    "print(s.find('Python'))"
   ]
  },
  {
   "cell_type": "code",
   "execution_count": null,
   "metadata": {},
   "outputs": [],
   "source": []
  },
  {
   "cell_type": "code",
   "execution_count": null,
   "metadata": {},
   "outputs": [],
   "source": []
  },
  {
   "cell_type": "code",
   "execution_count": null,
   "metadata": {},
   "outputs": [],
   "source": []
  },
  {
   "cell_type": "code",
   "execution_count": null,
   "metadata": {},
   "outputs": [],
   "source": []
  },
  {
   "cell_type": "code",
   "execution_count": null,
   "metadata": {},
   "outputs": [],
   "source": []
  },
  {
   "cell_type": "code",
   "execution_count": null,
   "metadata": {},
   "outputs": [],
   "source": []
  },
  {
   "cell_type": "code",
   "execution_count": null,
   "metadata": {},
   "outputs": [],
   "source": []
  },
  {
   "cell_type": "code",
   "execution_count": null,
   "metadata": {},
   "outputs": [],
   "source": []
  }
 ],
 "metadata": {
  "kernelspec": {
   "display_name": "Python 3",
   "language": "python",
   "name": "python3"
  },
  "language_info": {
   "codemirror_mode": {
    "name": "ipython",
    "version": 3
   },
   "file_extension": ".py",
   "mimetype": "text/x-python",
   "name": "python",
   "nbconvert_exporter": "python",
   "pygments_lexer": "ipython3",
   "version": "3.7.3"
  }
 },
 "nbformat": 4,
 "nbformat_minor": 4
}
