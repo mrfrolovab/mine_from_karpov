{
 "cells": [
  {
   "cell_type": "code",
   "execution_count": 6,
   "metadata": {},
   "outputs": [
    {
     "name": "stdout",
     "output_type": "stream",
     "text": [
      "7\n",
      "Нечетное\n"
     ]
    }
   ],
   "source": [
    "# Определение чётности числа\n",
    "a = int(input())\n",
    "if a % 2 == 0:\n",
    "    print('Четное')\n",
    "else: print ('Нечетное')"
   ]
  },
  {
   "cell_type": "code",
   "execution_count": 30,
   "metadata": {},
   "outputs": [
    {
     "name": "stdout",
     "output_type": "stream",
     "text": [
      "4\n",
      "5\n",
      "7\n"
     ]
    }
   ],
   "source": [
    "# определение 3 значного числа\n",
    "a = 754\n",
    "b = a % 10\n",
    "c = (a % 100) // 10\n",
    "d = a // 100\n",
    "print(b)\n",
    "print(c)\n",
    "print(d)"
   ]
  },
  {
   "cell_type": "code",
   "execution_count": 19,
   "metadata": {},
   "outputs": [
    {
     "name": "stdout",
     "output_type": "stream",
     "text": [
      "12\n",
      "12\n",
      "12\n",
      "Нет корней\n"
     ]
    }
   ],
   "source": [
    "# Квадратное уравнение\n",
    "a, b, c = float(input()), float(input()), float(input())\n",
    "from math import sqrt, pow\n",
    "d = pow(b, 2) - (4 * (a * c))\n",
    "if d > 0:\n",
    "    x1 = (-b - sqrt(d)) / (2 * a)\n",
    "    x2 = (-b + sqrt(d)) / (2 * a)\n",
    "    print(min(x1, x2), '\\n', max(x1, x2))\n",
    "elif d == 0:\n",
    "    print(- b / (2 * a))\n",
    "else: print('Нет корней')"
   ]
  },
  {
   "cell_type": "code",
   "execution_count": 1,
   "metadata": {},
   "outputs": [
    {
     "name": "stdout",
     "output_type": "stream",
     "text": [
      "3\n",
      "4\n",
      "6.928203230275511\n"
     ]
    }
   ],
   "source": [
    "# Площадь правильного многоугольника\n",
    "n = float(input())\n",
    "a = float(input())\n",
    "from math import pi, tan, pow\n",
    "print((n * pow(a, 2)) / (4 * tan((pi / n))))"
   ]
  },
  {
   "cell_type": "code",
   "execution_count": 2,
   "metadata": {},
   "outputs": [
    {
     "name": "stdout",
     "output_type": "stream",
     "text": [
      "3\n",
      "2\n",
      "Квадрат вашего числа равен: 4\n",
      "3\n",
      "Квадрат вашего числа равен: 9\n",
      "4\n",
      "Квадрат вашего числа равен: 16\n",
      "Цикл завершен\n"
     ]
    }
   ],
   "source": [
    "# Квадрат числа\n",
    "for i in range(int(input())):\n",
    "    num = int(input())\n",
    "    print('Квадрат вашего числа равен:', num * num)\n",
    "print('Цикл завершен')"
   ]
  },
  {
   "cell_type": "code",
   "execution_count": 3,
   "metadata": {},
   "outputs": [
    {
     "name": "stdout",
     "output_type": "stream",
     "text": [
      "3\n",
      "3 x 1 = 3\n",
      "3 x 2 = 6\n",
      "3 x 3 = 9\n",
      "3 x 4 = 12\n",
      "3 x 5 = 15\n",
      "3 x 6 = 18\n",
      "3 x 7 = 21\n",
      "3 x 8 = 24\n",
      "3 x 9 = 27\n",
      "3 x 10 = 30\n"
     ]
    }
   ],
   "source": [
    "# Таблица умножения\n",
    "n = int(input())\n",
    "for i in range(10):\n",
    "    print(n, 'x', i + 1, '=', (i + 1) * n)"
   ]
  },
  {
   "cell_type": "code",
   "execution_count": 27,
   "metadata": {},
   "outputs": [
    {
     "name": "stdout",
     "output_type": "stream",
     "text": [
      "5\n",
      "1\n",
      "2\n",
      "3\n",
      "4\n",
      "5\n",
      "15\n"
     ]
    }
   ],
   "source": [
    "# Сумма чисел\n",
    "n = int(input())\n",
    "total = 0\n",
    "for i in range(n):\n",
    "    num = int(input())\n",
    "    total = (num + total)\n",
    "print(total)"
   ]
  },
  {
   "cell_type": "code",
   "execution_count": 5,
   "metadata": {},
   "outputs": [
    {
     "name": "stdout",
     "output_type": "stream",
     "text": [
      "23\n",
      "Число простое\n"
     ]
    }
   ],
   "source": [
    "num = int(input())\n",
    "flag = True\n",
    "\n",
    "for i in range(2, num):\n",
    "    if num % i == 0:        #  если исходное число делится на какое-либо отличное от 1 и самого себя\n",
    "        flag = False\n",
    "\n",
    "if num == 1:\n",
    "    print('Это единица, она не простая и не составная') \n",
    "elif flag == True:\n",
    "    print('Число простое')\n",
    "else:\n",
    "    print('Число составное')"
   ]
  },
  {
   "cell_type": "code",
   "execution_count": 7,
   "metadata": {},
   "outputs": [
    {
     "name": "stdout",
     "output_type": "stream",
     "text": [
      "10\n",
      "0.6263831609742079\n"
     ]
    }
   ],
   "source": [
    "from math import log\n",
    "n = int(input())\n",
    "count = 0\n",
    "for i in range(1, n + 1):\n",
    "    count += (1 / i)\n",
    "print(count - log(n))"
   ]
  },
  {
   "cell_type": "code",
   "execution_count": 8,
   "metadata": {},
   "outputs": [
    {
     "name": "stdout",
     "output_type": "stream",
     "text": [
      "Привет\n",
      "Привет\n",
      "Привет\n",
      "Привет\n",
      "Привет\n",
      "Привет\n",
      "Привет\n",
      "Привет\n",
      "Привет\n",
      "Привет\n"
     ]
    }
   ],
   "source": [
    "i = 0\n",
    "while i < 10:\n",
    "    print('Привет')\n",
    "    i += 1"
   ]
  },
  {
   "cell_type": "code",
   "execution_count": 2,
   "metadata": {},
   "outputs": [
    {
     "name": "stdout",
     "output_type": "stream",
     "text": [
      "7\n",
      "9\n",
      "4\n",
      "8\n",
      "5\n",
      "1\n",
      "78\n",
      "8984\n",
      "4\n",
      "1\n",
      "-5150\n",
      "stop\n",
      "Сумма чисел равна 3951\n"
     ]
    }
   ],
   "source": [
    "text = input()\n",
    "total = 0\n",
    "while text != 'stop':\n",
    "    num = int(text)\n",
    "    total += num\n",
    "    text = input()\n",
    "print('Сумма чисел равна', total)"
   ]
  },
  {
   "cell_type": "code",
   "execution_count": 3,
   "metadata": {},
   "outputs": [
    {
     "name": "stdout",
     "output_type": "stream",
     "text": [
      "21\n"
     ]
    }
   ],
   "source": [
    "i = 7\n",
    "a = 5\n",
    "while i < 11:\n",
    "    a += i\n",
    "    i += 2\n",
    "print(a)"
   ]
  },
  {
   "cell_type": "code",
   "execution_count": 6,
   "metadata": {},
   "outputs": [
    {
     "name": "stdout",
     "output_type": "stream",
     "text": [
      "ропо\n",
      "пальма\n",
      "там\n",
      "тратата\n",
      "хватит\n",
      "4\n"
     ]
    }
   ],
   "source": [
    "# Подсчёт кол-ва членов\n",
    "text = input()\n",
    "total = 0\n",
    "while text != 'стоп' and text != 'хватит' and text != 'достаточно':\n",
    "    text = input()\n",
    "    total += 1\n",
    "print(total)"
   ]
  },
  {
   "cell_type": "code",
   "execution_count": 8,
   "metadata": {},
   "outputs": [
    {
     "name": "stdout",
     "output_type": "stream",
     "text": [
      "1005\n",
      "41\n"
     ]
    }
   ],
   "source": [
    "price = int(input())  # получаем цену услуги ведьмака\n",
    "count=0               # переменная для хранения кол-ва монет\n",
    "\n",
    "while price > 0:      # пока цена больше 0 выполняем цикл\n",
    "  if price >= 25:     # если цена больше или равен 25\n",
    "    price-=25         # вычитаем из нее 25\n",
    "  elif price >= 10:   # иначе проверяем остаток больше или равен 10 \n",
    "    price-=10         # если да отнимаем 10\n",
    "  elif price >= 5:    # если остаток больше или равен 5\n",
    "    price-=5          # то вычитаем 5\n",
    "  else:               # иначе остается менее 5 и вычетаем по монетке\n",
    "    price-=1          # вычетаем по монетке\n",
    "  count+=1            # считаем кол-во монет, за один цикл вычитаем только 1 номинал монеты в зависимости от условий\n",
    "\n",
    "print(count)     "
   ]
  },
  {
   "cell_type": "code",
   "execution_count": 14,
   "metadata": {},
   "outputs": [
    {
     "name": "stdout",
     "output_type": "stream",
     "text": [
      "56165465465465465465456746546565456165456465456465\n",
      "YES\n"
     ]
    }
   ],
   "source": [
    "num = int(input())\n",
    "has_seven = False  # сигнальная метка\n",
    "\n",
    "while num != 0:\n",
    "    last_digit = num % 10\n",
    "    if last_digit == 7:\n",
    "        has_seven = True\n",
    "    num = num // 10\n",
    "\n",
    "if has_seven == True:\n",
    "    print('YES')\n",
    "else:\n",
    "    print('NO')"
   ]
  },
  {
   "cell_type": "code",
   "execution_count": 9,
   "metadata": {},
   "outputs": [
    {
     "name": "stdout",
     "output_type": "stream",
     "text": [
      "2\n",
      "1 + 1 = 2\n",
      "1 + 2 = 3\n",
      "1 + 3 = 4\n",
      "1 + 4 = 5\n",
      "1 + 5 = 6\n",
      "1 + 6 = 7\n",
      "1 + 7 = 8\n",
      "1 + 8 = 9\n",
      "1 + 9 = 10\n",
      "\n",
      "2 + 1 = 3\n",
      "2 + 2 = 4\n",
      "2 + 3 = 5\n",
      "2 + 4 = 6\n",
      "2 + 5 = 7\n",
      "2 + 6 = 8\n",
      "2 + 7 = 9\n",
      "2 + 8 = 10\n",
      "2 + 9 = 11\n",
      "\n"
     ]
    }
   ],
   "source": [
    "n = int(input())\n",
    "for i in range(1, n + 1):\n",
    "    for j in range(1, 10):\n",
    "        print(i, '+', j, '=', i + j)\n",
    "    print()"
   ]
  },
  {
   "cell_type": "code",
   "execution_count": 22,
   "metadata": {},
   "outputs": [
    {
     "name": "stdout",
     "output_type": "stream",
     "text": [
      "24\n",
      "NO\n"
     ]
    }
   ],
   "source": [
    "n = 4\n",
    "total = 0\n",
    "maxx = -1\n",
    "while n != 0:\n",
    "    x = int(input())\n",
    "    x % 10\n",
    "    last_digit = x % 10\n",
    "    if last_digit % 2 != 0:\n",
    "        total += 1\n",
    "        if last_digit > maxx:\n",
    "            maxx = last_digit    \n",
    "    n //= 10\n",
    "if total == 0:\n",
    "    print('NO')\n",
    "else: print(total, maxx)"
   ]
  },
  {
   "cell_type": "code",
   "execution_count": 6,
   "metadata": {},
   "outputs": [
    {
     "name": "stdout",
     "output_type": "stream",
     "text": [
      "1538\n",
      "1\n",
      "1\n",
      "1\n",
      "8\n",
      "8\n",
      "1\n"
     ]
    }
   ],
   "source": [
    "# количество цифр 3 в нем;\n",
    "# сколько раз в нем встречается последняя цифра;\n",
    "# количество четных цифр;\n",
    "# сумму его цифр, больших пяти;\n",
    "# произведение цифр, больших семи (если цифр больших семи нет, то вывести 1, если такая цифра одна, то вывести ее);\n",
    "# сколько раз в нем встречается цифры 0 и 5 (всего суммарно).\n",
    "\n",
    "n = int(input())\n",
    "count = 0\n",
    "count3 = 0\n",
    "count5 = 0\n",
    "count7 = 1\n",
    "count0 = 0\n",
    "true_count = 0\n",
    "true_last = n % 10\n",
    "while n > 0:\n",
    "    last_digit = n % 10\n",
    "    if last_digit == 3:\n",
    "        count3 += 1\n",
    "    if true_last == last_digit:\n",
    "        true_count += 1\n",
    "    if last_digit % 2 == 0:\n",
    "        count += 1\n",
    "    if last_digit > 5:\n",
    "        count5 += last_digit\n",
    "    if last_digit > 7:\n",
    "        count7 *= last_digit\n",
    "    if last_digit == 0 or last_digit == 5:\n",
    "        count0 += 1\n",
    "    n //= 10\n",
    "if count7 == 0:\n",
    "    count7 = 1\n",
    "print(count3, true_count, count, count5, count7, count0, sep = '\\n')"
   ]
  },
  {
   "cell_type": "markdown",
   "metadata": {},
   "source": [
    " "
   ]
  },
  {
   "cell_type": "code",
   "execution_count": 17,
   "metadata": {},
   "outputs": [
    {
     "name": "stdout",
     "output_type": "stream",
     "text": [
      "Вдохновение – это умение приводить себя в рабочее состояние!\n",
      "Количество гласных букв равно 25\n",
      "Количество согласных букв равно 24\n"
     ]
    }
   ],
   "source": [
    "n = input()\n",
    "counth, countv = 0, 0\n",
    "for i in range(len(n)):\n",
    "    if n[i] in 'ауоыиэяюёеАУОЫИЭЯЮЁЕ':\n",
    "        countv += 1\n",
    "    if n[i] in 'бвгджзйклмнпрстфхцчшщБВГДЖЗЙКЛМНПРСТФХЦЧШЩ':\n",
    "        counth += 1\n",
    "print('Количество гласных букв равно', countv)\n",
    "print('Количество согласных букв равно', counth)"
   ]
  },
  {
   "cell_type": "code",
   "execution_count": 42,
   "metadata": {},
   "outputs": [
    {
     "name": "stdout",
     "output_type": "stream",
     "text": [
      "8\n",
      "['a', 'b', 'c', 'd', 'e', 'f', 'g', 'h']\n"
     ]
    }
   ],
   "source": [
    "n = int(input())\n",
    "s = ''\n",
    "for i in range(n):\n",
    "    s += chr(97 + i)\n",
    "print(list(s))"
   ]
  },
  {
   "cell_type": "code",
   "execution_count": 3,
   "metadata": {},
   "outputs": [
    {
     "name": "stdout",
     "output_type": "stream",
     "text": [
      "5\n",
      "1\n",
      "2\n",
      "3\n",
      "4\n",
      "5\n",
      "[1, 8, 27, 64, 125]\n"
     ]
    }
   ],
   "source": [
    "# На вход программе подается натуральное число n, а затем n строк.\n",
    "# Напишите программу, которая создает из указанных строк список и выводит его.\n",
    "l = []\n",
    "n = int(input())\n",
    "for i in range(n):\n",
    "    l.append((int(input())**3))\n",
    "print(l)"
   ]
  },
  {
   "cell_type": "code",
   "execution_count": 48,
   "metadata": {},
   "outputs": [
    {
     "name": "stdout",
     "output_type": "stream",
     "text": [
      "[17, 10, 11, 25, 4, 5, 6, 17, 10, 11, 4, 5, 6]\n"
     ]
    }
   ],
   "source": [
    "# Заменил второй элемент списка на 17;\n",
    "# Добавил числа 4, 5 и 6 в конец списка;\n",
    "# Удалил первый элемент списка;\n",
    "# Удвоил список;\n",
    "# Вставил число 25 по индексу 3;\n",
    "# Вывел список, с помощью функции print()\n",
    "numbers = [8, 9, 10, 11]\n",
    "numbers[1] = 17\n",
    "numbers.extend([4, 5, 6])\n",
    "del numbers[0]\n",
    "numbers *= 2\n",
    "numbers.insert(3, 25)\n",
    "print(numbers)\n"
   ]
  },
  {
   "cell_type": "code",
   "execution_count": 54,
   "metadata": {},
   "outputs": [
    {
     "name": "stdout",
     "output_type": "stream",
     "text": [
      "[10, 8, 6, 5, 4, 4, 3, 2, 1]\n"
     ]
    }
   ],
   "source": [
    "numbers = [4, 2, 8, 6, 5, 3, 10, 4, 100, 1, -7]\n",
    "numbers.sort()\n",
    "del numbers[0]\n",
    "del numbers[-1]\n",
    "numbers.sort(reverse=True)\n",
    "print(numbers)"
   ]
  },
  {
   "cell_type": "code",
   "execution_count": 56,
   "metadata": {},
   "outputs": [
    {
     "name": "stdout",
     "output_type": "stream",
     "text": [
      "['a', 'b', 'c', 'd', 'e', 'f', 'g']\n"
     ]
    }
   ],
   "source": [
    "chars = [c for c in 'abcdefg']\n",
    "print(chars)"
   ]
  },
  {
   "cell_type": "code",
   "execution_count": 57,
   "metadata": {},
   "outputs": [
    {
     "name": "stdout",
     "output_type": "stream",
     "text": [
      "['alse', 'rue', 'one', 'nd', 'ith', 's', 'ssert', 'reak', 'lass', 'ontinue', 'ef', 'el', 'lif', 'lse', 'xcept', 'inally', 'ry', 'or', 'rom', 'lobal', 'f', 'mport', 'n', 's', 'ambda', 'onlocal', 'ot', 'r', 'ass', 'aise', 'eturn', 'hile', 'ield']\n"
     ]
    }
   ],
   "source": [
    "keywords = ['False', 'True', 'None', 'and', 'with', 'as', 'assert', 'break', 'class', 'continue',\n",
    "            'def', 'del', 'elif', 'else', 'except', 'finally', 'try', 'for', 'from', 'global', 'if',\n",
    "            'import', 'in', 'is', 'lambda', 'nonlocal', 'not', 'or', 'pass', 'raise', 'return', 'while', 'yield']\n",
    "\n",
    "new_keywords = [s[1:] for s in keywords] \n",
    "\n",
    "print(new_keywords)"
   ]
  },
  {
   "cell_type": "code",
   "execution_count": 2,
   "metadata": {},
   "outputs": [
    {
     "name": "stdout",
     "output_type": "stream",
     "text": [
      "['a', 'b', 'c', 'd', 'e', 'f', 'g']\n"
     ]
    }
   ],
   "source": [
    "chars = [i for i in 'abcdefg']\n",
    "print(chars)"
   ]
  },
  {
   "cell_type": "code",
   "execution_count": 6,
   "metadata": {},
   "outputs": [
    {
     "name": "stdout",
     "output_type": "stream",
     "text": [
      "[101, 111, 121, 131, 141, 151, 161, 171, 181, 191, 202, 212, 222, 232, 242, 252, 262, 272, 282, 292, 303, 313, 323, 333, 343, 353, 363, 373, 383, 393, 404, 414, 424, 434, 444, 454, 464, 474, 484, 494, 505, 515, 525, 535, 545, 555, 565, 575, 585, 595, 606, 616, 626, 636, 646, 656, 666, 676, 686, 696, 707, 717, 727, 737, 747, 757, 767, 777, 787, 797, 808, 818, 828, 838, 848, 858, 868, 878, 888, 898, 909, 919, 929, 939, 949, 959, 969, 979, 989, 999]\n"
     ]
    }
   ],
   "source": [
    "palindromes = [i for i in range(100, 1001) if str(i) == str(i)[::-1]]\n",
    "\n",
    "print(palindromes)"
   ]
  },
  {
   "cell_type": "code",
   "execution_count": 4,
   "metadata": {},
   "outputs": [
    {
     "data": {
      "text/plain": [
       "['jhkhj', 'jl;', 'lk', 'lk;']"
      ]
     },
     "execution_count": 4,
     "metadata": {},
     "output_type": "execute_result"
    }
   ],
   "source": [
    "lines"
   ]
  },
  {
   "cell_type": "code",
   "execution_count": 29,
   "metadata": {},
   "outputs": [
    {
     "name": "stdout",
     "output_type": "stream",
     "text": [
      "['Курица', 'Рыба', 'Брокколи']\n"
     ]
    }
   ],
   "source": [
    "food = ['Рис', 'Курица', 'Рыба', 'Брокколи', 'Рис']\n",
    "while 'Рис' in food:\n",
    "    food.remove('Рис')\n",
    "print(food)"
   ]
  },
  {
   "cell_type": "code",
   "execution_count": 15,
   "metadata": {},
   "outputs": [
    {
     "name": "stdout",
     "output_type": "stream",
     "text": [
      "4 6 9\n",
      "64 216 729\n"
     ]
    }
   ],
   "source": [
    "print(*[int(i) ** 3 for i in input().split()])"
   ]
  },
  {
   "cell_type": "code",
   "execution_count": 9,
   "metadata": {},
   "outputs": [
    {
     "name": "stdout",
     "output_type": "stream",
     "text": [
      "Умей ценить того кто без тебя не может\n",
      "\n",
      "\n"
     ]
    }
   ],
   "source": [
    "print (*input().join('\\n'))"
   ]
  },
  {
   "cell_type": "code",
   "execution_count": 1,
   "metadata": {},
   "outputs": [
    {
     "name": "stdout",
     "output_type": "stream",
     "text": [
      "[0, 1, 2]\n"
     ]
    }
   ],
   "source": [
    "numbers = list(range(3))\n",
    "print(numbers)"
   ]
  },
  {
   "cell_type": "code",
   "execution_count": 2,
   "metadata": {},
   "outputs": [
    {
     "name": "stdout",
     "output_type": "stream",
     "text": [
      "[10, 10, 10, 10, 10]\n"
     ]
    }
   ],
   "source": [
    "numbers = [10] * 5\n",
    "print(numbers)"
   ]
  },
  {
   "cell_type": "code",
   "execution_count": 4,
   "metadata": {},
   "outputs": [
    {
     "name": "stdout",
     "output_type": "stream",
     "text": [
      "Я - Артур,\n",
      "король британцев. \n"
     ]
    }
   ],
   "source": [
    "def print_message():\n",
    "    print('Я - Артур,')\n",
    "    print('король британцев. ')\n",
    "print_message()"
   ]
  },
  {
   "cell_type": "code",
   "execution_count": null,
   "metadata": {},
   "outputs": [],
   "source": []
  },
  {
   "cell_type": "code",
   "execution_count": null,
   "metadata": {},
   "outputs": [],
   "source": []
  },
  {
   "cell_type": "code",
   "execution_count": null,
   "metadata": {},
   "outputs": [],
   "source": []
  },
  {
   "cell_type": "code",
   "execution_count": null,
   "metadata": {},
   "outputs": [],
   "source": []
  },
  {
   "cell_type": "code",
   "execution_count": null,
   "metadata": {},
   "outputs": [],
   "source": []
  },
  {
   "cell_type": "code",
   "execution_count": null,
   "metadata": {},
   "outputs": [],
   "source": []
  },
  {
   "cell_type": "code",
   "execution_count": null,
   "metadata": {},
   "outputs": [],
   "source": []
  },
  {
   "cell_type": "code",
   "execution_count": null,
   "metadata": {},
   "outputs": [],
   "source": []
  },
  {
   "cell_type": "code",
   "execution_count": null,
   "metadata": {},
   "outputs": [],
   "source": []
  }
 ],
 "metadata": {
  "kernelspec": {
   "display_name": "Python 3",
   "language": "python",
   "name": "python3"
  },
  "language_info": {
   "codemirror_mode": {
    "name": "ipython",
    "version": 3
   },
   "file_extension": ".py",
   "mimetype": "text/x-python",
   "name": "python",
   "nbconvert_exporter": "python",
   "pygments_lexer": "ipython3",
   "version": "3.7.3"
  }
 },
 "nbformat": 4,
 "nbformat_minor": 4
}
