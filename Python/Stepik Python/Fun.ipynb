{
 "cells": [
  {
   "cell_type": "code",
   "execution_count": null,
   "metadata": {},
   "outputs": [],
   "source": [
    "# Диалоги\n",
    "print('Как тебя зовут?')\n",
    "name = input()\n",
    "print('Привет,', name, 'чего ты желаешь?')\n",
    "x = input()\n",
    "print('Что блять?')"
   ]
  },
  {
   "cell_type": "code",
   "execution_count": null,
   "metadata": {},
   "outputs": [],
   "source": [
    "# Определение возраста по категориям\n",
    "x = int(input())\n",
    "if x <=13:\n",
    "    print ('детство')\n",
    "elif x < 25 >=14:\n",
    "    print ('молодость')\n",
    "elif x < 60 >=25:\n",
    "    print ('зрелость')\n",
    "elif x < 120 >= 61:\n",
    "    print ('старость')\n",
    "else: print ('попахивает ложью')"
   ]
  },
  {
   "cell_type": "code",
   "execution_count": null,
   "metadata": {},
   "outputs": [],
   "source": [
    "# Password check\n",
    "a = input()\n",
    "b = input()\n",
    "if a == b:\n",
    "     print ('Пароль принят')\n",
    "else: print('Пароль не принят')"
   ]
  },
  {
   "cell_type": "code",
   "execution_count": null,
   "metadata": {},
   "outputs": [],
   "source": [
    "# Подсчёт времени\n",
    "a = int(input())\n",
    "b = int(a // 60)\n",
    "c = int(a % 60)\n",
    "print(a, 'мин - это', b, 'час', c, 'минут')"
   ]
  },
  {
   "cell_type": "code",
   "execution_count": null,
   "metadata": {},
   "outputs": [],
   "source": [
    "# Проверка параметров\n",
    "age = int(input('Сколько вам лет?: '))\n",
    "grade = int(input('В каком классе вы учитесь?: '))\n",
    "if age >= 12 and grade >= 7:\n",
    "    print('Доступ разрешен.')\n",
    "else:\n",
    "    print('Доступ запрещен.')"
   ]
  },
  {
   "cell_type": "code",
   "execution_count": null,
   "metadata": {},
   "outputs": [],
   "source": [
    "# Смешение цветов\n",
    "a = input()\n",
    "b = input()\n",
    "if a == 'красный' and b == 'красный':\n",
    "    print('красный')\n",
    "elif a == 'синий' and b == 'синий':\n",
    "    print ('синий')\n",
    "elif a == 'желтый' and b == 'желтый':\n",
    "    print ('желтый')\n",
    "elif (a == 'красный' and b == 'синий') or (b == 'красный' and a == 'синий'):\n",
    "    print('фиолетовый')\n",
    "elif (a == 'красный' and b == 'желтый') or (b == 'красный' and a == 'желтый'):\n",
    "    print('оранжевый')\n",
    "elif (a == 'синий' and b == 'желтый') or (b == 'синий' and a == 'желтый'):\n",
    "    print('зеленый')\n",
    "else: print('ошибка цвета')"
   ]
  },
  {
   "cell_type": "code",
   "execution_count": null,
   "metadata": {},
   "outputs": [],
   "source": [
    "# Проверка email\n",
    "a = input()\n",
    "if '@' in a and '.' in a:\n",
    "    print('YES')\n",
    "else: print('NO')"
   ]
  }
 ],
 "metadata": {
  "kernelspec": {
   "display_name": "Python 3",
   "language": "python",
   "name": "python3"
  },
  "language_info": {
   "codemirror_mode": {
    "name": "ipython",
    "version": 3
   },
   "file_extension": ".py",
   "mimetype": "text/x-python",
   "name": "python",
   "nbconvert_exporter": "python",
   "pygments_lexer": "ipython3",
   "version": "3.7.3"
  }
 },
 "nbformat": 4,
 "nbformat_minor": 4
}
