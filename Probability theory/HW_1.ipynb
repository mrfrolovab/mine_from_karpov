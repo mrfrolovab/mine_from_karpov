{
 "cells": [
  {
   "cell_type": "code",
   "execution_count": 1,
   "metadata": {},
   "outputs": [],
   "source": [
    "##from scipy import special #модуль питона, предназначенный для научных и инженерных расчетов\n",
    "\n",
    "# special.comb(n, k) #биномиальный коэффициент\n",
    "\n",
    "#альтернативный вариант\n",
    "\n",
    "from scipy import special\n",
    "from math import factorial\n",
    "def num_of_successes(n, k):\n",
    "    return factorial(n)/(factorial(k) * factorial(n - k))"
   ]
  },
  {
   "cell_type": "code",
   "execution_count": 2,
   "metadata": {},
   "outputs": [
    {
     "data": {
      "text/plain": [
       "0.5"
      ]
     },
     "execution_count": 2,
     "metadata": {},
     "output_type": "execute_result"
    }
   ],
   "source": [
    "# Два человека одновременно стреляют по мишени. Вероятность попадания по мишени у первого стрелка равна 0,5, у второго — 0,8.\n",
    "# Какова вероятность того, что в мишени будет только одна пробоина?\n",
    "\n",
    "both_scored, both_missed = 0.5 * 0.8, (1 - 0.5) * (1 - 0.8)\n",
    "p = 1 - both_scored - both_missed\n",
    "p"
   ]
  },
  {
   "cell_type": "code",
   "execution_count": 3,
   "metadata": {},
   "outputs": [
    {
     "data": {
      "text/plain": [
       "0.976"
      ]
     },
     "execution_count": 3,
     "metadata": {},
     "output_type": "execute_result"
    }
   ],
   "source": [
    "# Трое аналитиков на экзамене независимо друг от друга решают одну и ту же задачу.\n",
    "# Вероятности ее решения этими аналитиками равны 0,8, 0,7 и 0,6 соответственно.\n",
    "# Найдите вероятность того, что хотя бы один аналитик решит задачу.\n",
    "\n",
    "q1, q2, q3 = 1 - 0.8, 1 - 0.7, 1 - 0.6\n",
    "total_fail = q1 * q2 * q3\n",
    "total_success = 1 - total_fail\n",
    "total_success"
   ]
  },
  {
   "cell_type": "code",
   "execution_count": 4,
   "metadata": {},
   "outputs": [
    {
     "data": {
      "text/plain": [
       "0.184"
      ]
     },
     "execution_count": 4,
     "metadata": {},
     "output_type": "execute_result"
    }
   ],
   "source": [
    "# В первой урне находятся 10 белых и 4 черных шаров, а во второй 5 белых и 9 черных шаров.\n",
    "# Из каждой урны вынули по шару. Какова вероятность того, что оба шара окажутся черными?\n",
    "# В ответ запишите значение, округленное до тысячных.\n",
    "\n",
    "t1w, t1b, t2w, t2b = 10, 4, 5, 9\n",
    "p1b = t1b / (t1w + t1b)\n",
    "p2b = t2b / (t2w + t2b)\n",
    "totalp = p1b * p2b\n",
    "round(totalp, 3)"
   ]
  },
  {
   "cell_type": "code",
   "execution_count": 5,
   "metadata": {},
   "outputs": [
    {
     "data": {
      "text/plain": [
       "0.0016"
      ]
     },
     "execution_count": 5,
     "metadata": {},
     "output_type": "execute_result"
    }
   ],
   "source": [
    "# Вероятность хотя бы одного попадания в цель при четырех выстрелах равна 0,9984.\n",
    "# Найдите вероятность попадания в цель при одном выстреле.\n",
    "\n",
    "x = 0.9984\n",
    "f = round(1 - x, 4)\n",
    "f\n",
    "\n",
    "# уравнение: 1 - (1 - p)**4 = 0,9984\n",
    "# сократим: (1 - p)**4 = 0,0016; (1 - p) = 0,2; p = 0.8"
   ]
  },
  {
   "cell_type": "code",
   "execution_count": 6,
   "metadata": {},
   "outputs": [
    {
     "data": {
      "text/plain": [
       "0.0083"
      ]
     },
     "execution_count": 6,
     "metadata": {},
     "output_type": "execute_result"
    }
   ],
   "source": [
    "# В конверте находится 10 лотерейных билетов, среди которых 3 выигрышных.\n",
    "# Из конверта последовательно извлекаются билеты. Найти вероятность того, что три первых лотерейных билета будут выигрышными.\n",
    "# Ответ округлите до десятитысячных. В качестве десятичного разделителя используйте точку.\n",
    "\n",
    "x1, x2, x3 = 3 / 10, 2 / 9, 1 / 8\n",
    "x = round(x1 * x2 * x3, 4)\n",
    "x"
   ]
  },
  {
   "cell_type": "code",
   "execution_count": 7,
   "metadata": {},
   "outputs": [
    {
     "data": {
      "text/plain": [
       "0.25"
      ]
     },
     "execution_count": 7,
     "metadata": {},
     "output_type": "execute_result"
    }
   ],
   "source": [
    "# В трех углах равностороннего треугольника находится по роботу.\n",
    "# Каждый из роботов начинает двигаться в случайно выбранный угол по стороне треугольника.\n",
    "# Какова вероятность того, что ни один из роботов не столкнется с другим роботом?\n",
    "# Ответ округлите до сотых.\n",
    "\n",
    "2 / 2**3"
   ]
  },
  {
   "cell_type": "code",
   "execution_count": 9,
   "metadata": {},
   "outputs": [
    {
     "data": {
      "text/plain": [
       "0.528"
      ]
     },
     "execution_count": 9,
     "metadata": {},
     "output_type": "execute_result"
    }
   ],
   "source": [
    "# Бросаются 2 игральных кубика. Определите вероятность того, что произведение числа очков на обоих кубиках не превосходит 10.\n",
    "# В ответ запишите число округленное до тысячных.\n",
    "\n",
    "round(19 / 36, 3)\n",
    "\n",
    "# Всего способов подкинуть два кубика 36. Нас устраивают из них следующие варианты 19. ответ 19/36"
   ]
  },
  {
   "cell_type": "code",
   "execution_count": 11,
   "metadata": {},
   "outputs": [
    {
     "data": {
      "text/plain": [
       "0.2304"
      ]
     },
     "execution_count": 11,
     "metadata": {},
     "output_type": "execute_result"
    }
   ],
   "source": [
    "# Устройство, состоящее из пяти независимо работающих элементов, включается за время Т.\n",
    "# Вероятность отказа каждого из них за это время равна 0,4. Найти вероятность того, что откажут три элемента.\n",
    "# Ответ округлите до четырёх знаков после запятой. В качестве десятичного разделителя используйте точку.\n",
    "\n",
    "\n",
    "### ФОРМУЛА P**(k/n) = C**(k/n)*p**k*q**(n-k); C**(k/n) = n! / k! * (n - k)!\n",
    "\n",
    "n = 5 # Всего элементов\n",
    "k = 3 # предположение сколько откажут\n",
    "p = 0.4 # вероятность отказа\n",
    "q = 1 - p # Вероятность НЕ отказа\n",
    "round(special.comb(n, k)*(p**k)*(q**(n-k)), 4)"
   ]
  },
  {
   "cell_type": "code",
   "execution_count": 7,
   "metadata": {},
   "outputs": [
    {
     "data": {
      "text/plain": [
       "0.23040000000000005"
      ]
     },
     "execution_count": 7,
     "metadata": {},
     "output_type": "execute_result"
    }
   ],
   "source": [
    "w*0.4**3*0.6**2"
   ]
  },
  {
   "cell_type": "code",
   "execution_count": 6,
   "metadata": {},
   "outputs": [],
   "source": [
    "w = factorial(5)/(factorial(3)*factorial(5-3))"
   ]
  },
  {
   "cell_type": "code",
   "execution_count": 31,
   "metadata": {},
   "outputs": [
    {
     "data": {
      "text/plain": [
       "0.922"
      ]
     },
     "execution_count": 31,
     "metadata": {},
     "output_type": "execute_result"
    }
   ],
   "source": [
    "# Устройство, состоящее из пяти независимо работающих элементов, включается за время Т.\n",
    "# Вероятность отказа каждого из них за это время равна 0,4.\n",
    "# Найдите вероятность того, что хотя бы один элемент откажет.\n",
    "# Ответ округлите до трёх знаков после запятой. В качестве десятичного разделителя используйте точку.\n",
    "\n",
    "round(1 - q**n, 3)"
   ]
  },
  {
   "cell_type": "code",
   "execution_count": 62,
   "metadata": {},
   "outputs": [
    {
     "data": {
      "text/plain": [
       "0.745"
      ]
     },
     "execution_count": 62,
     "metadata": {},
     "output_type": "execute_result"
    }
   ],
   "source": [
    "# Производится 8 выстрелов по цели, в каждом из которых вероятность попадания равна 0,3.\n",
    "# Найти вероятность того, что цель будет поражена хотя бы два раза. Ответ округлите до тысячных.\n",
    "# В качестве десятичного разделителя используйте точку.\n",
    "\n",
    "### ФОРМУЛА P**(k/n) = C**(k/n)*p**k*q**(n-k); C**(k/n) = n! / k! * (n - k)!\n",
    "\n",
    "n = 8 # Всего выстрелов\n",
    "k = 0 # предположение сколько промахов\n",
    "p = 0.3 # вероятность попадания\n",
    "q = 1 - p # Вероятность промаха\n",
    "w = 1\n",
    "e = round(special.comb(n, k)*(p**k)*(q**(n-k)), 3)\n",
    "r = round(special.comb(n, w)*(p**w)*(q**(n-w)), 3)\n",
    "c = round(1 - (a + b), 3)\n",
    "c"
   ]
  },
  {
   "cell_type": "code",
   "execution_count": 76,
   "metadata": {},
   "outputs": [
    {
     "data": {
      "text/plain": [
       "0.42"
      ]
     },
     "execution_count": 76,
     "metadata": {},
     "output_type": "execute_result"
    }
   ],
   "source": [
    "# В магазине 7 покупателей. Каждый может совершить покупку с вероятностью 0,4.\n",
    "# Найти вероятность того, что не более двух человек совершат покупку.\n",
    "# Ответ округлите до сотых. В качестве десятичного разделителя используйте точку.\n",
    "\n",
    "n = 7 # Всего выстрелов\n",
    "k = 0 # предположение сколько промахов\n",
    "p = 0.4 # вероятность попадания\n",
    "q = 1 - p # Вероятность промаха\n",
    "w = 1\n",
    "s = 2\n",
    "e = special.comb(n, k)*(p**k)*(q**(n-k))\n",
    "r = special.comb(n, w)*(p**w)*(q**(n-w))\n",
    "t = special.comb(n, s)*(p**s)*(q**(n-s))\n",
    "c = round(e + r + t, 2)\n",
    "c"
   ]
  },
  {
   "cell_type": "code",
   "execution_count": 78,
   "metadata": {},
   "outputs": [
    {
     "data": {
      "text/plain": [
       "0.773"
      ]
     },
     "execution_count": 78,
     "metadata": {},
     "output_type": "execute_result"
    }
   ],
   "source": [
    "# В телеателье имеется 7 телевизоров. Для каждого телевизора вероятность того, что в данный момент он включен, равна 0,5.\n",
    "# Найти вероятность того, что в данный момент включены не менее трех телевизоров.\n",
    "# Ответ округлите до тысячных. В качестве десятичного разделителя используйте точку.\n",
    "\n",
    "n = 7 # Всего выстрелов\n",
    "k = 0 # предположение сколько промахов\n",
    "p = 0.5 # вероятность попадания\n",
    "q = 1 - p # Вероятность промаха\n",
    "w = 1\n",
    "e = 2\n",
    "\n",
    "r = special.comb(n, k)*(p**k)*(q**(n-k))\n",
    "t = special.comb(n, w)*(p**w)*(q**(n-w))\n",
    "c = special.comb(n, e)*(p**e)*(q**(n-e))\n",
    "z = round(1 - (r + t + c), 3)\n",
    "z"
   ]
  },
  {
   "cell_type": "code",
   "execution_count": 86,
   "metadata": {},
   "outputs": [
    {
     "data": {
      "text/plain": [
       "0.47"
      ]
     },
     "execution_count": 86,
     "metadata": {},
     "output_type": "execute_result"
    }
   ],
   "source": [
    "# Пусть вероятность того, что покупателю необходим компьютер с операционной системой Linux, равна 0.25.\n",
    "# Найдите вероятность того, что из шести покупателей по крайней мере двум необходим компьютер с операционной системой Linux.\n",
    "\n",
    "n = 6 # Всего выстрелов\n",
    "k = 0 # предположение сколько промахов\n",
    "p = 0.25 # вероятность попадания\n",
    "q = 1 - p # Вероятность промаха\n",
    "w = 1\n",
    "e = 2\n",
    "\n",
    "r = special.comb(n, k)*(p**k)*(q**(n-k))\n",
    "t = special.comb(n, w)*(p**w)*(q**(n-w))\n",
    "c = special.comb(n, e)*(p**e)*(q**(n-e))\n",
    "z = round(1-(r + t), 2)\n",
    "z"
   ]
  },
  {
   "cell_type": "code",
   "execution_count": 90,
   "metadata": {},
   "outputs": [
    {
     "data": {
      "text/plain": [
       "0.93"
      ]
     },
     "execution_count": 90,
     "metadata": {},
     "output_type": "execute_result"
    }
   ],
   "source": [
    "# Для нормальной работы отдела по дата-аналитике необходимо, чтобы в офисе было не менее восьми программистов,\n",
    "# а всего в штате 10 программистов. Вероятность того, что программист заболеет, равна 0.1.\n",
    "# Найдите вероятность нормальной работы отдела по дата-аналитике.\n",
    "# Ответ округлите до сотых.\n",
    "\n",
    "n = 10 # Всего выстрелов\n",
    "k = 0 # предположение сколько промахов\n",
    "p = 0.1 # вероятность попадания\n",
    "q = 1 - p # Вероятность промаха\n",
    "w = 1\n",
    "e = 2\n",
    "\n",
    "r = special.comb(n, k)*(p**k)*(q**(n-k))\n",
    "t = special.comb(n, w)*(p**w)*(q**(n-w))\n",
    "c = special.comb(n, e)*(p**e)*(q**(n-e))\n",
    "z = round(r + t + c, 2)\n",
    "z"
   ]
  },
  {
   "cell_type": "code",
   "execution_count": 91,
   "metadata": {},
   "outputs": [
    {
     "data": {
      "text/plain": [
       "0.228"
      ]
     },
     "execution_count": 91,
     "metadata": {},
     "output_type": "execute_result"
    }
   ],
   "source": [
    "# Среди всех скриптов, которые пишет программист, с 10%-ой вероятностью скрипт будет с ошибкой.\n",
    "# Найдем вероятность того, что среди 30 скриптов два не будут работать.\n",
    "# Ответ округлите до тысячных, в качестве десятичного разделителя используйте точку.\n",
    "\n",
    "n = 30 # Всего выстрелов\n",
    "k = 0 # предположение сколько промахов\n",
    "p = 0.1 # вероятность попадания\n",
    "q = 1 - p # Вероятность промаха\n",
    "w = 1\n",
    "e = 2\n",
    "\n",
    "r = special.comb(n, k)*(p**k)*(q**(n-k))\n",
    "t = special.comb(n, w)*(p**w)*(q**(n-w))\n",
    "c = special.comb(n, e)*(p**e)*(q**(n-e))\n",
    "z = round(c, 3)\n",
    "z"
   ]
  },
  {
   "cell_type": "code",
   "execution_count": 93,
   "metadata": {},
   "outputs": [
    {
     "data": {
      "text/plain": [
       "4.742465753424658"
      ]
     },
     "execution_count": 93,
     "metadata": {},
     "output_type": "execute_result"
    }
   ],
   "source": [
    "# В очень большом чате по дата аналитике сидит 1730 человек.\n",
    "# Вероятность того, что день рождения наугад взятого участника чата приходится на определенный день года,\n",
    "# равна 1/365 для каждого из 365 дней. Найдем наиболее вероятное число счастливчиков, которые родились 1 марта.\n",
    "\n",
    "# np - q <= m <= np + p\n",
    "\n",
    "n = 1730\n",
    "p = 1/365\n",
    "q = 364/365\n",
    "np = n * p\n",
    "a = np - q\n",
    "b = np + p\n",
    "b"
   ]
  },
  {
   "cell_type": "code",
   "execution_count": 5,
   "metadata": {},
   "outputs": [
    {
     "data": {
      "text/plain": [
       "0.0"
      ]
     },
     "execution_count": 5,
     "metadata": {},
     "output_type": "execute_result"
    }
   ],
   "source": [
    "# В урне 20 шаров: 15 белых и 5 чёрных.\n",
    "# Вынули подряд 5 шаров, причём каждый вынутый шар возвращается в урну и перед извлечением следующего шары в урне\n",
    "# тщательно перемешиваются. Найдите вероятность того, что из пяти вынутых шаров будет 2 белых.\n",
    "# Ответ округлите до тысячных\n",
    "\n",
    "n = 20 # Всего выстрелов\n",
    "k = 1 # предположение сколько промахов\n",
    "p = 15/20 # вероятность попадания\n",
    "q = 1 - p # Вероятность промаха\n",
    "w = 1\n",
    "e = 2\n",
    "\n",
    "r = special.comb(n, k)*(p**k)*(q**(n-k))\n",
    "t = special.comb(n, w)*(p**w)*(q**(n-w))\n",
    "c = special.comb(n, e)*(p**e)*(q**(n-e))\n",
    "z = round(t, 3)\n",
    "z"
   ]
  },
  {
   "cell_type": "code",
   "execution_count": null,
   "metadata": {},
   "outputs": [],
   "source": []
  }
 ],
 "metadata": {
  "kernelspec": {
   "display_name": "Python 3",
   "language": "python",
   "name": "python3"
  },
  "language_info": {
   "codemirror_mode": {
    "name": "ipython",
    "version": 3
   },
   "file_extension": ".py",
   "mimetype": "text/x-python",
   "name": "python",
   "nbconvert_exporter": "python",
   "pygments_lexer": "ipython3",
   "version": "3.7.3"
  }
 },
 "nbformat": 4,
 "nbformat_minor": 4
}
